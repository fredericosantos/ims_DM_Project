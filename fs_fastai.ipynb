{
 "cells": [
  {
   "cell_type": "code",
   "execution_count": 1,
   "metadata": {},
   "outputs": [],
   "source": [
    "import pandas as pd\n",
    "import numpy as np\n",
    "from fastai.tabular.all import *"
   ]
  },
  {
   "cell_type": "code",
   "execution_count": 17,
   "metadata": {},
   "outputs": [],
   "source": [
    "df = pd.read_pickle(\"donors.pkl\")\n",
    "sample = pd.read_pickle(\"sample_eda_done.pkl\")"
   ]
  },
  {
   "cell_type": "code",
   "execution_count": 18,
   "metadata": {},
   "outputs": [],
   "source": [
    "# Variables to use to predict income and wealth1\n",
    "\n",
    "pred_income_x_cont = [\n",
    "    \"AGE\",\n",
    "    \"IC1\",\n",
    "    \"IC2\",\n",
    "    \"IC3\",\n",
    "    \"IC4\",\n",
    "    \"IC5\",\n",
    "    \"IC6\",\n",
    "    \"IC7\",\n",
    "    \"IC8\",\n",
    "    \"IC9\",\n",
    "    \"IC10\",\n",
    "    \"IC11\",\n",
    "    \"IC12\",\n",
    "    \"IC13\",\n",
    "    \"IC14\",\n",
    "    \"RAMNTALL\",\n",
    "]\n",
    "\n",
    "pred_income_x_cat = [\n",
    "    \"TCODE\",\n",
    "    \"STATE\",\n",
    "    \"ZIP\",\n",
    "    \"MAJOR\",\n",
    "    \"MDMAUD\",\n",
    "    \"DOMAIN\",\n",
    "    \"HOMEOWNR\",\n",
    "    \"NUMCHLD\",\n",
    "    \"ageGroup\",\n",
    "    \"GENDER\",\n",
    "    \"WEALTH2\",\n",
    "    \"MSA\",\n",
    "    \"ADI\",\n",
    "    \"DMA\",\n",
    "    \n",
    "]"
   ]
  },
  {
   "cell_type": "code",
   "execution_count": 21,
   "metadata": {},
   "outputs": [],
   "source": [
    "cont_names, cat_names = cont_cat_split(sample, max_card=40)\n",
    "# df_pred = df[pred_income_x_cat + pred_income_x_cont + [\"cat_INCOME\"]].copy()\n",
    "df_pred = df[cat_names + cont_names].copy()\n",
    "train_df = df_pred[~df_pred[\"INCOME\"].isnull()]\n",
    "test_df = df_pred[df_pred[\"INCOME\"].isnull()].drop([\"INCOME\"], axis=1)"
   ]
  },
  {
   "cell_type": "code",
   "execution_count": 23,
   "metadata": {},
   "outputs": [
    {
     "data": {
      "text/plain": [
       "array([6., 3., 1., 4., 2., 7., 5.])"
      ]
     },
     "execution_count": 23,
     "metadata": {},
     "output_type": "execute_result"
    }
   ],
   "source": [
    "train_df.INCOME.unique()"
   ]
  },
  {
   "cell_type": "code",
   "execution_count": 27,
   "metadata": {},
   "outputs": [],
   "source": [
    "splits = RandomSplitter(valid_pct=0.3)(range_of(train_df))\n",
    "\n",
    "to = TabularPandas(train_df, procs=[Categorify, FillMissing, Normalize],\n",
    "                  cat_names = cat_names,\n",
    "                  cont_names = cont_names,\n",
    "                  y_names = \"INCOME\",\n",
    "                  splits=splits)\n",
    "\n",
    "dls = to.dataloaders(bs=64)\n",
    "\n",
    "learn = tabular_learner(dls, metrics=accuracy)"
   ]
  },
  {
   "cell_type": "code",
   "execution_count": 28,
   "metadata": {},
   "outputs": [
    {
     "data": {
      "text/html": [
       "<table border=\"1\" class=\"dataframe\">\n",
       "  <thead>\n",
       "    <tr style=\"text-align: left;\">\n",
       "      <th>epoch</th>\n",
       "      <th>train_loss</th>\n",
       "      <th>valid_loss</th>\n",
       "      <th>accuracy</th>\n",
       "      <th>time</th>\n",
       "    </tr>\n",
       "  </thead>\n",
       "  <tbody>\n",
       "    <tr>\n",
       "      <td>0</td>\n",
       "      <td>0.023450</td>\n",
       "      <td>221.476105</td>\n",
       "      <td>0.000000</td>\n",
       "      <td>01:11</td>\n",
       "    </tr>\n",
       "  </tbody>\n",
       "</table>"
      ],
      "text/plain": [
       "<IPython.core.display.HTML object>"
      ]
     },
     "metadata": {},
     "output_type": "display_data"
    }
   ],
   "source": [
    "learn.fit_one_cycle(1, 0.03)"
   ]
  },
  {
   "cell_type": "code",
   "execution_count": 16,
   "metadata": {},
   "outputs": [
    {
     "data": {
      "text/html": [],
      "text/plain": [
       "<IPython.core.display.HTML object>"
      ]
     },
     "metadata": {},
     "output_type": "display_data"
    }
   ],
   "source": [
    "dl = learn.dls.test_dl(test_df)\n",
    "preds = learn.get_preds(dl=dl, with_decoded=True, with_input=True)"
   ]
  },
  {
   "cell_type": "code",
   "execution_count": 22,
   "metadata": {},
   "outputs": [
    {
     "data": {
      "text/plain": [
       "{0, 1, 2}"
      ]
     },
     "execution_count": 22,
     "metadata": {},
     "output_type": "execute_result"
    }
   ],
   "source": [
    "set(preds[2].numpy())"
   ]
  },
  {
   "cell_type": "code",
   "execution_count": 63,
   "metadata": {},
   "outputs": [
    {
     "data": {
      "text/plain": [
       "torch.Size([21286])"
      ]
     },
     "execution_count": 63,
     "metadata": {},
     "output_type": "execute_result"
    }
   ],
   "source": [
    "preds[2].size()"
   ]
  },
  {
   "cell_type": "code",
   "execution_count": null,
   "metadata": {},
   "outputs": [],
   "source": []
  }
 ],
 "metadata": {
  "kernelspec": {
   "display_name": "Python [conda env:fastai]",
   "language": "python",
   "name": "conda-env-fastai-py"
  },
  "language_info": {
   "codemirror_mode": {
    "name": "ipython",
    "version": 3
   },
   "file_extension": ".py",
   "mimetype": "text/x-python",
   "name": "python",
   "nbconvert_exporter": "python",
   "pygments_lexer": "ipython3",
   "version": "3.8.5"
  }
 },
 "nbformat": 4,
 "nbformat_minor": 4
}
