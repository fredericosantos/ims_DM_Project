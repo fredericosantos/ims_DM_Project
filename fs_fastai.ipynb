{
 "cells": [
  {
   "cell_type": "code",
   "execution_count": 1,
   "metadata": {},
   "outputs": [],
   "source": [
    "import pandas as pd\n",
    "import numpy as np\n",
    "from fastai.tabular.all import *"
   ]
  },
  {
   "cell_type": "code",
   "execution_count": 26,
   "metadata": {},
   "outputs": [],
   "source": [
    "df = pd.read_pickle(\"df_eda_done.pkl\")\n",
    "sample = pd.read_pickle(\"sample_eda_done.pkl\")"
   ]
  },
  {
   "cell_type": "code",
   "execution_count": 29,
   "metadata": {},
   "outputs": [],
   "source": [
    "# Variables to use to predict income and wealth1\n",
    "\n",
    "cont_names = [\n",
    "    \"AGE\",\n",
    "    \"IC1\",\n",
    "    \"IC2\",\n",
    "    \"IC3\",\n",
    "    \"IC4\",\n",
    "    \"IC5\",\n",
    "    \"IC6\",\n",
    "    \"IC7\",\n",
    "    \"IC8\",\n",
    "    \"IC9\",\n",
    "    \"IC10\",\n",
    "    \"IC11\",\n",
    "    \"IC12\",\n",
    "    \"IC13\",\n",
    "    \"IC14\",\n",
    "    \"RAMNTALL\",\n",
    "]\n",
    "\n",
    "cat_names = [\n",
    "    \"TCODE\",\n",
    "    \"STATE\",\n",
    "    \"ZIP\",\n",
    "    \"MAJOR\",\n",
    "    \"MDMAUD\",\n",
    "    \"DOMAIN\",\n",
    "    \"HOMEOWNR\",\n",
    "    \"NUMCHLD\",\n",
    "    \"ageGroup\",\n",
    "    \"GENDER\",\n",
    "    \"WEALTH1\",\n",
    "    \"WEALTH2\",\n",
    "    \"MSA\",\n",
    "    \"ADI\",\n",
    "    \"DMA\",\n",
    "    \n",
    "]"
   ]
  },
  {
   "cell_type": "code",
   "execution_count": 30,
   "metadata": {},
   "outputs": [],
   "source": [
    "# cont_names, cat_names = cont_cat_split(df, max_card=40)\n",
    "df_pred = df[cat_names + cont_names + [\"cat_INCOME\"]].copy()\n",
    "# df_pred = df[cat_names + cont_names].copy()\n",
    "train_df = df_pred[~df_pred[\"cat_INCOME\"].isnull()].copy()\n",
    "# train_df[\"INCOME\"] = train_df[\"cat_INCOME\"]\n",
    "test_df = df_pred[df_pred[\"cat_INCOME\"].isnull()].drop([\"cat_INCOME\"], axis=1).copy()"
   ]
  },
  {
   "cell_type": "code",
   "execution_count": 32,
   "metadata": {},
   "outputs": [],
   "source": [
    "splits = RandomSplitter(valid_pct=0.3)(range_of(train_df))\n",
    "\n",
    "to = TabularPandas(train_df, procs=[Categorify, FillMissing, Normalize],\n",
    "                  cat_names = cat_names,\n",
    "                  cont_names = cont_names,\n",
    "                  y_names = \"cat_INCOME\", y_block=CategoryBlock,\n",
    "                  splits=splits)\n",
    "\n",
    "dls = to.dataloaders(bs=64)\n",
    "\n",
    "learn = tabular_learner(dls, metrics=accuracy)"
   ]
  },
  {
   "cell_type": "code",
   "execution_count": 33,
   "metadata": {},
   "outputs": [
    {
     "data": {
      "text/html": [
       "<table border=\"1\" class=\"dataframe\">\n",
       "  <thead>\n",
       "    <tr style=\"text-align: left;\">\n",
       "      <th>epoch</th>\n",
       "      <th>train_loss</th>\n",
       "      <th>valid_loss</th>\n",
       "      <th>accuracy</th>\n",
       "      <th>time</th>\n",
       "    </tr>\n",
       "  </thead>\n",
       "  <tbody>\n",
       "    <tr>\n",
       "      <td>0</td>\n",
       "      <td>0.789886</td>\n",
       "      <td>0.774734</td>\n",
       "      <td>0.639565</td>\n",
       "      <td>00:13</td>\n",
       "    </tr>\n",
       "  </tbody>\n",
       "</table>"
      ],
      "text/plain": [
       "<IPython.core.display.HTML object>"
      ]
     },
     "metadata": {},
     "output_type": "display_data"
    }
   ],
   "source": [
    "learn.fit_one_cycle(1, 0.03)"
   ]
  },
  {
   "cell_type": "code",
   "execution_count": 34,
   "metadata": {},
   "outputs": [
    {
     "data": {
      "text/html": [],
      "text/plain": [
       "<IPython.core.display.HTML object>"
      ]
     },
     "metadata": {},
     "output_type": "display_data"
    }
   ],
   "source": [
    "dl = learn.dls.test_dl(test_df)\n",
    "preds = learn.get_preds(dl=dl, with_decoded=True, with_input=True)"
   ]
  },
  {
   "cell_type": "code",
   "execution_count": 44,
   "metadata": {},
   "outputs": [
    {
     "data": {
      "text/plain": [
       "0.5151742929625106"
      ]
     },
     "execution_count": 44,
     "metadata": {},
     "output_type": "execute_result"
    }
   ],
   "source": [
    "to_np(preds[-1]).mean()"
   ]
  },
  {
   "cell_type": "code",
   "execution_count": 36,
   "metadata": {},
   "outputs": [
    {
     "ename": "AttributeError",
     "evalue": "'NoneType' object has no attribute 'size'",
     "output_type": "error",
     "traceback": [
      "\u001b[0;31m---------------------------------------------------------------------------\u001b[0m",
      "\u001b[0;31mAttributeError\u001b[0m                            Traceback (most recent call last)",
      "\u001b[0;32m<ipython-input-36-db0eedf6f07a>\u001b[0m in \u001b[0;36m<module>\u001b[0;34m\u001b[0m\n\u001b[0;32m----> 1\u001b[0;31m \u001b[0mpreds\u001b[0m\u001b[0;34m[\u001b[0m\u001b[0;36m2\u001b[0m\u001b[0;34m]\u001b[0m\u001b[0;34m.\u001b[0m\u001b[0msize\u001b[0m\u001b[0;34m(\u001b[0m\u001b[0;34m)\u001b[0m\u001b[0;34m\u001b[0m\u001b[0;34m\u001b[0m\u001b[0m\n\u001b[0m",
      "\u001b[0;31mAttributeError\u001b[0m: 'NoneType' object has no attribute 'size'"
     ]
    }
   ],
   "source": [
    "preds[2].size()"
   ]
  },
  {
   "cell_type": "code",
   "execution_count": null,
   "metadata": {},
   "outputs": [],
   "source": []
  }
 ],
 "metadata": {
  "kernelspec": {
   "display_name": "Python [conda env:fastai]",
   "language": "python",
   "name": "conda-env-fastai-py"
  },
  "language_info": {
   "codemirror_mode": {
    "name": "ipython",
    "version": 3
   },
   "file_extension": ".py",
   "mimetype": "text/x-python",
   "name": "python",
   "nbconvert_exporter": "python",
   "pygments_lexer": "ipython3",
   "version": "3.8.5"
  }
 },
 "nbformat": 4,
 "nbformat_minor": 4
}
