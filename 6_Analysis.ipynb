{
 "cells": [
  {
   "cell_type": "code",
   "execution_count": 7,
   "metadata": {},
   "outputs": [
    {
     "name": "stdout",
     "output_type": "stream",
     "text": [
      "The autoreload extension is already loaded. To reload it, use:\n",
      "  %reload_ext autoreload\n"
     ]
    }
   ],
   "source": [
    "import os\n",
    "import sqlite3\n",
    "\n",
    "import dtale\n",
    "import hdbscan\n",
    "import matplotlib\n",
    "import matplotlib.cm as cm\n",
    "import matplotlib.pyplot as plt\n",
    "import numpy as np\n",
    "import pandas as pd\n",
    "import plotly.express as px\n",
    "import plotly.graph_objects as go\n",
    "import seaborn as sns\n",
    "import somoclu\n",
    "from helper_functions import *\n",
    "from MulticoreTSNE import MulticoreTSNE as mcTSNE\n",
    "from pandas_profiling import ProfileReport\n",
    "from sklearn.cluster import *\n",
    "from sklearn.decomposition import PCA\n",
    "from sklearn.impute import KNNImputer\n",
    "from sklearn.manifold import TSNE\n",
    "from umap import UMAP\n",
    "from sklearn.metrics import *\n",
    "from sklearn.preprocessing import *\n",
    "from sompy.visualization.bmuhits import BmuHitsView\n",
    "from sompy.visualization.hitmap import HitMapView\n",
    "from sompy.visualization.mapview import View2D\n",
    "import sompy\n",
    "import os\n",
    "\n",
    "os.environ['NUMEXPR_MAX_THREADS'] = '12'\n",
    "import numexpr\n",
    "\n",
    "template = \"plotly_dark\"\n",
    "sns.set()\n",
    "%config InlineBackend.figure_format = 'retina'\n",
    "colors = ([\"#505050\", \"#d1675b\"])\n",
    "%load_ext autoreload\n",
    "%autoreload 2\n",
    "\n",
    "features = ['DOMAIN', 'STATE', 'AGE', 'INCOME', 'GENDER', 'RECENCY', 'FREQUENCY', 'AMOUNT', 'RAMNTALL', \n",
    "            'NGIFTALL', 'LASTGIFT', 'AVGGIFT', 'LASTDATE_MONTHS', 'FIRSTDATE_MONTHS']\n",
    "metric_features = ['AGE','RAMNTALL', 'LASTGIFT', 'NGIFTALL',  'AVGGIFT','LASTDATE_MONTHS', 'FIRSTDATE_MONTHS']\n",
    "pca_features = ['PC0', 'PC1', 'PC2', 'PC3',]\n",
    "non_metric_features = ['DOMAIN', 'STATE','INCOME', 'GENDER', \"RFA\", \"SES_index\"]\n",
    "census_features = ['AGEC6', 'HHD7', 'HHD11', 'LFC3', 'LFC4', 'LFC5', \n",
    "                'EC2', 'EC3', 'EC4', 'EC5', 'EC6', 'EC7', 'EC8' ]"
   ]
  },
  {
   "cell_type": "code",
   "execution_count": 8,
   "metadata": {},
   "outputs": [],
   "source": [
    "data = pd.read_pickle(\"datasets/data_outliers.pkl\")"
   ]
  },
  {
   "cell_type": "code",
   "execution_count": 9,
   "metadata": {},
   "outputs": [],
   "source": [
    "data_ = pd.read_pickle(\"datasets/data_EDA.pkl\")\n",
    "data[census_features] = data_[census_features].reset_index(drop=True)"
   ]
  },
  {
   "cell_type": "code",
   "execution_count": 10,
   "metadata": {},
   "outputs": [],
   "source": [
    "data_full = data.copy()\n",
    "data = data[data.outliers_merge == 0].copy()\n",
    "idx_outliers = data_full[data_full.outliers_merge == 0].index"
   ]
  },
  {
   "cell_type": "code",
   "execution_count": 63,
   "metadata": {},
   "outputs": [],
   "source": [
    "tsne_xs = np.load(\"tsne/tsne_default.npy\")[idx_outliers,:]\n",
    "tsne_xs_3D = np.load(\"tsne/tsne_default_3D.npy\")[idx_outliers,:]\n",
    "tsne_xs_full = np.load(\"tsne/tsne_default.npy\")\n",
    "tsne_xs_3D_full = np.load(\"tsne/tsne_default_3D.npy\")"
   ]
  },
  {
   "cell_type": "code",
   "execution_count": null,
   "metadata": {},
   "outputs": [],
   "source": [
    "fig = px.scatter(\n",
    "    x=tsne_xs[:, 0],\n",
    "    y=tsne_xs[:, 1],\n",
    "    color=data[\"cluster_SOM\"].astype(str),\n",
    "    hover_name=data[\"RFA\"],\n",
    "    opacity=1,\n",
    "    height=600,\n",
    "    width=600,\n",
    ")\n",
    "fig.update_layout(margin=dict(l=0, r=0, b=0, t=0))\n",
    "fig.update_traces(marker=dict(size=2))\n",
    "fig.show()"
   ]
  }
 ],
 "metadata": {
  "kernelspec": {
   "display_name": "Python [conda env:ims_DM]",
   "language": "python",
   "name": "conda-env-ims_DM-py"
  },
  "language_info": {
   "codemirror_mode": {
    "name": "ipython",
    "version": 3
   },
   "file_extension": ".py",
   "mimetype": "text/x-python",
   "name": "python",
   "nbconvert_exporter": "python",
   "pygments_lexer": "ipython3",
   "version": "3.8.5"
  }
 },
 "nbformat": 4,
 "nbformat_minor": 4
}
