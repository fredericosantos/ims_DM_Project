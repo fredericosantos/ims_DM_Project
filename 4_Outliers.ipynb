{
 "cells": [
  {
   "cell_type": "code",
   "execution_count": 1,
   "metadata": {},
   "outputs": [
    {
     "ename": "ModuleNotFoundError",
     "evalue": "No module named 'MulticoreTSNE'",
     "output_type": "error",
     "traceback": [
      "\u001b[0;31m---------------------------------------------------------------------------\u001b[0m",
      "\u001b[0;31mModuleNotFoundError\u001b[0m                       Traceback (most recent call last)",
      "\u001b[0;32m<ipython-input-1-63a4c686d4f1>\u001b[0m in \u001b[0;36m<module>\u001b[0;34m\u001b[0m\n\u001b[1;32m     11\u001b[0m \u001b[0mwarnings\u001b[0m\u001b[0;34m.\u001b[0m\u001b[0mfilterwarnings\u001b[0m\u001b[0;34m(\u001b[0m\u001b[0;34m'ignore'\u001b[0m\u001b[0;34m)\u001b[0m\u001b[0;34m\u001b[0m\u001b[0;34m\u001b[0m\u001b[0m\n\u001b[1;32m     12\u001b[0m \u001b[0;32mimport\u001b[0m \u001b[0mdtale\u001b[0m\u001b[0;34m\u001b[0m\u001b[0;34m\u001b[0m\u001b[0m\n\u001b[0;32m---> 13\u001b[0;31m \u001b[0;32mfrom\u001b[0m \u001b[0mMulticoreTSNE\u001b[0m \u001b[0;32mimport\u001b[0m \u001b[0mMulticoreTSNE\u001b[0m \u001b[0;32mas\u001b[0m \u001b[0mmcTSNE\u001b[0m\u001b[0;34m\u001b[0m\u001b[0;34m\u001b[0m\u001b[0m\n\u001b[0m\u001b[1;32m     14\u001b[0m \u001b[0;34m\u001b[0m\u001b[0m\n\u001b[1;32m     15\u001b[0m \u001b[0;32mfrom\u001b[0m \u001b[0msklearn\u001b[0m\u001b[0;34m.\u001b[0m\u001b[0mimpute\u001b[0m \u001b[0;32mimport\u001b[0m \u001b[0mKNNImputer\u001b[0m\u001b[0;34m\u001b[0m\u001b[0;34m\u001b[0m\u001b[0m\n",
      "\u001b[0;31mModuleNotFoundError\u001b[0m: No module named 'MulticoreTSNE'"
     ]
    }
   ],
   "source": [
    "# Remember: library imports are ALWAYS at the top of the script, no exceptions!\n",
    "import sqlite3\n",
    "import os\n",
    "import pandas as pd\n",
    "import numpy as np\n",
    "import matplotlib\n",
    "import matplotlib.pyplot as plt\n",
    "import seaborn as sns\n",
    "from math import ceil\n",
    "import warnings\n",
    "warnings.filterwarnings('ignore')\n",
    "import dtale\n",
    "from MulticoreTSNE import MulticoreTSNE as mcTSNE\n",
    "\n",
    "from sklearn.impute import KNNImputer\n",
    "from sklearn.preprocessing import *\n",
    "from sklearn.decomposition import PCA\n",
    "from sklearn.manifold import TSNE\n",
    "from sklearn.cluster import *\n",
    "\n",
    "from itertools import product\n",
    "from pandas_profiling import ProfileReport\n",
    "# from prince import MCA\n",
    "\n",
    "%config InlineBackend.figure_format = 'retina'\n",
    "\n",
    "# Seeting seaborn style\n",
    "sns.set()\n",
    "\n",
    "from datetime import datetime\n",
    "# import calendar\n",
    "# import missingno as msno\n",
    "from sklearn.impute import SimpleImputer\n",
    "import scipy.stats as ss\n",
    "from sklearn.ensemble import IsolationForest\n",
    "\n",
    "import hdbscan\n",
    "from helper_functions import *\n",
    "template = \"plotly_dark\"\n",
    "\n",
    "colors = ([\"#505050\", \"#d1675b\"])\n",
    "import plotly.express as px\n",
    "%load_ext autoreload\n",
    "%autoreload 2"
   ]
  },
  {
   "cell_type": "code",
   "execution_count": null,
   "metadata": {},
   "outputs": [],
   "source": [
    "data = pd.read_pickle(\"datasets/data_PCA.pkl\")"
   ]
  },
  {
   "cell_type": "code",
   "execution_count": null,
   "metadata": {},
   "outputs": [],
   "source": [
    "data[\"RFA\"] = data[\"RECENCY\"].astype(str) + data[\"FREQUENCY\"].astype(str) + data[\"AMOUNT\"].astype(str)\n",
    "data.drop(columns=[\"RECENCY\", \"FREQUENCY\", \"AMOUNT\"], inplace=True)"
   ]
  },
  {
   "cell_type": "code",
   "execution_count": null,
   "metadata": {},
   "outputs": [],
   "source": [
    "features = ['DOMAIN', 'STATE', 'AGE', 'INCOME', 'GENDER', 'RECENCY', 'FREQUENCY', 'AMOUNT', 'RAMNTALL', \n",
    "            'NGIFTALL', 'LASTGIFT', 'AVGGIFT', 'LASTDATE_MONTHS', 'FIRSTDATE_MONTHS']\n",
    "\n",
    "metric_features = ['AGE','RAMNTALL', 'LASTGIFT', 'NGIFTALL',  'AVGGIFT','LASTDATE_MONTHS', 'FIRSTDATE_MONTHS']\n",
    "\n",
    "pca_features = ['PC0', 'PC1', 'PC2', 'PC3',]\n",
    "\n",
    "non_metric_features = ['DOMAIN', 'STATE','INCOME', 'GENDER', \"RFA\", ]"
   ]
  },
  {
   "cell_type": "code",
   "execution_count": null,
   "metadata": {},
   "outputs": [],
   "source": [
    "data.columns"
   ]
  },
  {
   "cell_type": "code",
   "execution_count": null,
   "metadata": {},
   "outputs": [],
   "source": [
    "encoder = OrdinalEncoder()\n",
    "\n",
    "data[(non_metric_features_encoded := [f\"enc_{feature}\" for feature in non_metric_features])] = encoder.fit_transform(data[non_metric_features])\n",
    "data[non_metric_features_encoded]"
   ]
  },
  {
   "cell_type": "code",
   "execution_count": null,
   "metadata": {},
   "outputs": [],
   "source": [
    "# We don't use STATE here because the observations are 18% from california and there are states with less than 0.01%\n",
    "iforests = IsolationForest(n_jobs=-1, contamination=0.05, bootstrap=True, max_samples=0.05, n_estimators=50)\n",
    "data[\"outlier_if\"] = (iforests.fit_predict(data[[\"enc_INCOME\", \"enc_GENDER\", \"enc_RFA\", \"enc_DOMAIN\"] + pca_features + metric_features]) * -1 + 1) // 2"
   ]
  },
  {
   "cell_type": "code",
   "execution_count": null,
   "metadata": {},
   "outputs": [],
   "source": [
    "px.scatter(data, x=\"PC0\", y=\"RFA\", color=\"outlier_if\", color_continuous_scale=colors, opacity=0.5)"
   ]
  },
  {
   "cell_type": "code",
   "execution_count": null,
   "metadata": {},
   "outputs": [],
   "source": [
    "clusterer = hdbscan.HDBSCAN(min_cluster_size=15)\n",
    "clusterer.fit(data[metric_features + pca_features])\n",
    "\n",
    "threshold = pd.Series(clusterer.outlier_scores_).quantile(0.9)\n",
    "outliers = np.where(clusterer.outlier_scores_ > threshold)[0]\n",
    "data[\"outliers_hdbscan\"] = np.zeros_like(data[\"outlier_if\"])\n",
    "data.loc[outliers, \"outliers_hdbscan\"] = 1\n",
    "px.scatter(data, x=\"PC0\", y=\"RFA\", color=\"outliers_hdbscan\", color_continuous_scale=colors, opacity=0.5)"
   ]
  },
  {
   "cell_type": "code",
   "execution_count": null,
   "metadata": {},
   "outputs": [],
   "source": [
    "px.scatter(data, x=\"RAMNTALL\", y=\"RFA\", color=\"outlier\", color_continuous_scale=colors, opacity=0.5)"
   ]
  },
  {
   "cell_type": "code",
   "execution_count": null,
   "metadata": {},
   "outputs": [],
   "source": [
    "rfa_categories = []\n",
    "for letter in [\"A\",\"L\",\"I\"]:\n",
    "    for i in range(1, 5):\n",
    "        for letter2 in [\"A\", \"B\", \"C\", \"D\", 'E', 'F', 'G']:\n",
    "            rfa_categories.append(letter+str(i)+letter2)\n",
    "            \n",
    "data[\"RFA\"] = pd.Categorical(data[\"RFA\"], categories=rfa_categories, ordered=False)"
   ]
  },
  {
   "cell_type": "code",
   "execution_count": null,
   "metadata": {},
   "outputs": [],
   "source": [
    "# I think by choosing outliers we just picked the actual best cluster...!\n",
    "px.scatter_3d(data, x=\"AVGGIFT\", y=\"RAMNTALL\", z=\"RFA\", color=\"outlier\", color_continuous_scale=colors, opacity=0.5, height=800)"
   ]
  },
  {
   "cell_type": "code",
   "execution_count": null,
   "metadata": {},
   "outputs": [],
   "source": [
    "print(f\"percentage of outliers: {data.outliers_merge.value_counts(normalize=True)[1]}\")"
   ]
  },
  {
   "cell_type": "code",
   "execution_count": null,
   "metadata": {},
   "outputs": [],
   "source": [
    "df = data.copy()\n",
    "df = df.reset_index().drop(\"index\", axis=1, errors=\"ignore\")\n",
    "df.columns = [\n",
    "    str(c) for c in df.columns\n",
    "]  # update columns to strings in case they are numbers\n",
    "\n",
    "var = \"outlier\"\n",
    "\n",
    "chart_data = pd.concat([df[\"STATE\"], df[var],], axis=1)\n",
    "chart_data = chart_data.groupby([\"STATE\"])[[var]].mean().reset_index()\n",
    "chart_data = chart_data.dropna(subset=[\"STATE\"])\n",
    "\n",
    "import plotly.graph_objs as go\n",
    "\n",
    "chart = go.Choropleth(\n",
    "    locations=chart_data[\"STATE\"],\n",
    "    locationmode=\"USA-states\",\n",
    "    z=chart_data[var],\n",
    "    colorscale=[\n",
    "        [0.0, colors[1]],\n",
    "        [0.05, \"#fdcab4\"],\n",
    "        #     [0.4, '#fc8a6a'],\n",
    "#         [0.5, colors[1]],\n",
    "#         [0.9, colors[1]],\n",
    "        [1.0, \"#fff5f0\"],\n",
    "    ],\n",
    "    colorbar_title=var,\n",
    "    zmin=chart_data[var].min(),\n",
    "    zmax=chart_data[var].max(),\n",
    ")\n",
    "figure = go.Figure(\n",
    "    data=[chart],\n",
    "    layout=go.Layout(\n",
    "        {\n",
    "            \"autosize\": True,\n",
    "            \"geo\": {\"scope\": \"usa\"},\n",
    "            \"legend\": {\"orientation\": \"h\"},\n",
    "            \"margin\": {\"b\": 0, \"l\": 0, \"r\": 0},\n",
    "            \"title\": {\"text\": f\"Map of {var} (Mean)\"},\n",
    "        }\n",
    "    ),\n",
    ")\n",
    "figure.show()"
   ]
  },
  {
   "cell_type": "code",
   "execution_count": null,
   "metadata": {},
   "outputs": [],
   "source": [
    "data.to_pickle(\"datasets/data_outliers.pkl\")"
   ]
  },
  {
   "cell_type": "code",
   "execution_count": null,
   "metadata": {},
   "outputs": [],
   "source": [
    "data = pd.read_pickle(\"datasets/data_outliers.pkl\")"
   ]
  },
  {
   "cell_type": "code",
   "execution_count": null,
   "metadata": {},
   "outputs": [],
   "source": [
    "clusterer = hdbscan.HDBSCAN(min_cluster_size=1000,min_samples=1, core_dist_n_jobs=-1)\n",
    "clusterer.fit(data[metric_features])"
   ]
  },
  {
   "cell_type": "code",
   "execution_count": null,
   "metadata": {},
   "outputs": [],
   "source": [
    "pd.Series(clusterer.labels_).value_counts()"
   ]
  },
  {
   "cell_type": "code",
   "execution_count": null,
   "metadata": {},
   "outputs": [],
   "source": [
    "tsne_xs = np.load_(\"tsne/tsne_default.npy\")"
   ]
  },
  {
   "cell_type": "code",
   "execution_count": null,
   "metadata": {},
   "outputs": [],
   "source": [
    "# tsne = TSNE()\n",
    "# tsne_xs = tsne.fit_transform(data[metric_features])"
   ]
  },
  {
   "cell_type": "code",
   "execution_count": null,
   "metadata": {},
   "outputs": [],
   "source": [
    "np.save(\"tsne/tsne_default\", tsne_xs)"
   ]
  },
  {
   "cell_type": "code",
   "execution_count": null,
   "metadata": {},
   "outputs": [],
   "source": [
    "data[\"cluster\"] = clusterer.labels_\n",
    "px.scatter(x=tsne_xs[:, 0], y=tsne_xs[:, 1], color=data[\"cluster\"].astype(str), opacity=1, height=800)"
   ]
  },
  {
   "cell_type": "code",
   "execution_count": null,
   "metadata": {},
   "outputs": [],
   "source": []
  }
 ],
 "metadata": {
  "kernelspec": {
   "display_name": "Python 3",
   "language": "python",
   "name": "python3"
  },
  "language_info": {
   "codemirror_mode": {
    "name": "ipython",
    "version": 3
   },
   "file_extension": ".py",
   "mimetype": "text/x-python",
   "name": "python",
   "nbconvert_exporter": "python",
   "pygments_lexer": "ipython3",
   "version": "3.8.3"
  }
 },
 "nbformat": 4,
 "nbformat_minor": 4
}
