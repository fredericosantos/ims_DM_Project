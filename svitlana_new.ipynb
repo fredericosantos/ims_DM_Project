{
 "cells": [
  {
   "cell_type": "code",
   "execution_count": 1,
   "metadata": {},
   "outputs": [],
   "source": [
    "# Remember: library imports are ALWAYS at the top of the script, no exceptions!\n",
    "import sqlite3\n",
    "import os\n",
    "import pandas as pd\n",
    "import numpy as np\n",
    "import matplotlib\n",
    "import matplotlib.pyplot as plt\n",
    "import seaborn as sns\n",
    "from math import ceil\n",
    "import warnings\n",
    "warnings.filterwarnings('ignore')\n",
    "import dtale\n",
    "\n",
    "from itertools import product\n",
    "from pandas_profiling import ProfileReport\n",
    "\n",
    "\n",
    "%config InlineBackend.figure_format = 'retina' # optionally, you can change 'svg' to 'retina'\n",
    "\n",
    "# Seeting seaborn style\n",
    "sns.set()\n",
    "\n",
    "\n",
    "from datetime import datetime\n",
    "import calendar"
   ]
  },
  {
   "cell_type": "code",
   "execution_count": 67,
   "metadata": {},
   "outputs": [],
   "source": [
    "data = pd.read_csv (\"/Users/vsa/Documents/DM/data/donors.csv\", low_memory=False)"
   ]
  },
  {
   "cell_type": "code",
   "execution_count": 54,
   "metadata": {},
   "outputs": [],
   "source": [
    "#data = alldata[['DOB', 'ODATEDW', 'FISTDATE', 'LASTDATE', 'ADATE_2', 'TCODE',\n",
    "#               'GENDER', 'NGIFTALL']]"
   ]
  },
  {
   "cell_type": "markdown",
   "metadata": {},
   "source": [
    "## Calculating age, recency etc"
   ]
  },
  {
   "cell_type": "code",
   "execution_count": 68,
   "metadata": {},
   "outputs": [
    {
     "data": {
      "text/plain": [
       "0        59.0\n",
       "1        45.0\n",
       "2         NaN\n",
       "3        69.0\n",
       "4        77.0\n",
       "         ... \n",
       "95407     NaN\n",
       "95408    47.0\n",
       "95409    59.0\n",
       "95410    57.0\n",
       "95411    79.0\n",
       "Name: AGE, Length: 95412, dtype: float64"
      ]
     },
     "execution_count": 68,
     "metadata": {},
     "output_type": "execute_result"
    }
   ],
   "source": [
    "# AGE\n",
    "# Here we calculate age as it was discussed during Q&A session:\n",
    "# Calculate age on the moment of ADATE_2, paying attention that ADATE_2 has 2 different values in a column:\n",
    "# 2017-06-01 (95399 instances), 2017-04-01 (13 instances)\n",
    "\n",
    "data.DOB = pd.to_datetime(data.DOB)\n",
    "data.ADATE_2 = pd.to_datetime(data.ADATE_2)\n",
    "data[\"AGE\"] = (data.ADATE_2 - data.DOB).astype('timedelta64[Y]')    #.astype('int')\n",
    "\n",
    "data.AGE"
   ]
  },
  {
   "cell_type": "code",
   "execution_count": 35,
   "metadata": {},
   "outputs": [],
   "source": [
    "# Next I will create and fill out column 'RECENCY' based on information from metadata file\n",
    "# to find inconsistencies as per forum all donors should be lapsed\n",
    "\n",
    "# F=FIRST TIME DONOR Anyone who has made their first donation in the last 6 months and has\n",
    "# made just one donation.\n",
    "    \n",
    "# N=NEW DONOR Anyone who has made their first donation in the last 12 months and is not a First time donor. \n",
    "# This is everyone who made their first donation 7-12 months ago, or\n",
    "# people who made their first donation between 0-6 months ago and have made 2 or more donations.\n",
    "    \n",
    "# A=ACTIVE DONOR Anyone who made their first donation more than 12 months ago and has made\n",
    "# a donation in the last 12 months.\n",
    "    \n",
    "# L=LAPSING DONOR A previous donor who made their last donation between 13-24 months ago.\n",
    "    \n",
    "# I=INACTIVE DONOR A previous donor who has not made a donation in the last 24 months. \n",
    "# It is people who made a donation 25+ months ago.\n",
    "    \n",
    "# S=STAR DONOR STAR Donors are individuals who have given to 3 consecutive card mailings.\n"
   ]
  },
  {
   "cell_type": "markdown",
   "metadata": {},
   "source": [
    "Let's find out all these groups of donors and create 'RECENCY' column"
   ]
  },
  {
   "cell_type": "code",
   "execution_count": 69,
   "metadata": {},
   "outputs": [],
   "source": [
    "# Calculate amount of months from the last day LASTDATE (Date associated with the most recent gift)\n",
    "# and ADATE_2 - Date the latest promotion was sent \n",
    "# (all the timelags between dates are calculating on the moment of ADATE_2 as was discussed during Q&A)\n",
    "\n",
    "# From metadafata file - ODATEDW and FISTDATE have the same meaning:\n",
    "# ODATEDW Date of donor's first gift to PVA YYMM format (Year/Month) and FISTDATE Date of first gift\n",
    "\n",
    "data.LASTDATE = pd.to_datetime(data.LASTDATE)\n",
    "data ['LASTDATE_MONTHS'] = (data.ADATE_2 - data.LASTDATE).astype('timedelta64[M]') \n",
    "\n",
    "# Convert ODATEDW to datetime\n",
    "data.ODATEDW = pd.to_datetime(data.ODATEDW)\n",
    "data ['ODATEDW_MONTHS'] = (data.ADATE_2 - data.ODATEDW).astype('timedelta64[M]')\n",
    "\n",
    "# Convert FISTDATE to datetime\n",
    "data.FISTDATE = pd.to_datetime(data.FISTDATE)\n",
    "data ['FIRSTDATE_MONTHS'] = (data.ADATE_2 - data.FISTDATE).astype('timedelta64[M]')"
   ]
  },
  {
   "cell_type": "code",
   "execution_count": 70,
   "metadata": {},
   "outputs": [
    {
     "name": "stdout",
     "output_type": "stream",
     "text": [
      "Number of inconsistencies between LASTDATE_MONTHS and FIRSTDATE_MONTHS: 0\n"
     ]
    }
   ],
   "source": [
    "# Checking for inconsistencies between LASTDATE_MONTHS and FIRSTDATE_MONTHS\n",
    "inconsist = (len(data [data ['LASTDATE_MONTHS'] > data['FIRSTDATE_MONTHS']]))\n",
    "print('Number of inconsistencies between LASTDATE_MONTHS and FIRSTDATE_MONTHS:', inconsist)"
   ]
  },
  {
   "cell_type": "code",
   "execution_count": 71,
   "metadata": {},
   "outputs": [
    {
     "name": "stdout",
     "output_type": "stream",
     "text": [
      "Number of inconsistencies between LASTDATE_MONTHS and ODATEDW_MONTHS: 3627\n",
      "Percentage of inconsistencies between LASTDATE_MONTHS and ODATEDW_MONTHS: 3.8014086278455537\n"
     ]
    }
   ],
   "source": [
    "# Checking for inconsistencies between LASTDATE_MONTHS and ODATEDW_MONTHS\n",
    "inconsist = (len(data [data ['LASTDATE_MONTHS'] > data['ODATEDW_MONTHS']]))\n",
    "print('Number of inconsistencies between LASTDATE_MONTHS and ODATEDW_MONTHS:', inconsist)\n",
    "print('Percentage of inconsistencies between LASTDATE_MONTHS and ODATEDW_MONTHS:', inconsist/len(data)*100)\n",
    "\n",
    "# The percentage of inconsistencies in ODATEDW_MONTHS is quite high - 3.8 %\n",
    "# So we have two columns with the same meaning:\n",
    "# ODATEDW (Date of donor's first gift to PVA YYMM format (Year/Month) and FISTDATE (Date of first gift)\n",
    "\n",
    "# and one of them (ODATEDW) is inconsistent with others - I suggest to not use this column\n"
   ]
  },
  {
   "cell_type": "markdown",
   "metadata": {},
   "source": [
    "#### Create column with the Recency, using an abreviation from metadata file (F, N, A, L, I donors)"
   ]
  },
  {
   "cell_type": "markdown",
   "metadata": {},
   "source": [
    "From the Project Forum:\n",
    "- You can assume RFA_2R is the correct one since the donors in the dataset are supposed to be lapsed ones. The lapsed donors in this dataset are determined according to the date the last promotion (17NK) was emailed to each one of them and the date of their most recent gift. Inconsistent observations are the ones which have an interval between these two dates smaller than 13 months\n",
    "- This dataset is supposed to be composed only by lapsed donors. Maybe we weren't very explicit on this but PVA is particularly interested on this segment of customers, hence the data being only from this segment. The observations you found are actually inconsistencies. You should deal with them somehow and provide an explanation on how you did it.\n",
    "https://elearning.novaims.unl.pt/moodle/mod/forum/discuss.php?d=6304\n"
   ]
  },
  {
   "cell_type": "code",
   "execution_count": 72,
   "metadata": {},
   "outputs": [
    {
     "name": "stdout",
     "output_type": "stream",
     "text": [
      "Number of lapsed donors donors:\n",
      "84132\n"
     ]
    }
   ],
   "source": [
    "data['RECENCY']= ''\n",
    "# Print Lapsed donours (that made their last donation to PVA 13 to 24 months ago )\n",
    "\n",
    "print('Number of lapsed donors donors:')\n",
    "print(len(data [(data ['LASTDATE_MONTHS'] >=13.0)& (data ['LASTDATE_MONTHS'] <= 24.0)]))\n",
    "data.loc[(data['LASTDATE_MONTHS'] >= 13.0)& (data['LASTDATE_MONTHS'] <= 24.0), 'RECENCY'] = 'L'"
   ]
  },
  {
   "cell_type": "code",
   "execution_count": 73,
   "metadata": {},
   "outputs": [
    {
     "name": "stdout",
     "output_type": "stream",
     "text": [
      "Number of first time donors donors:\n",
      "0\n"
     ]
    }
   ],
   "source": [
    "#  Print number of FIRST TIME DONOR donours (F=FIRST TIME DONOR Anyone who has made their first donation \n",
    "# in the last 6 months and has and has made just one donation.)\n",
    "\n",
    "print('Number of first time donors donors:')\n",
    "print(len(data [(data['FIRSTDATE_MONTHS'] <= 6.0) & ((data['NGIFTALL'] == 1))]))\n",
    "data.loc[(data['FIRSTDATE_MONTHS'] <= 6.0) & (data['NGIFTALL'] == 1), 'RECENCY'] = 'F'"
   ]
  },
  {
   "cell_type": "code",
   "execution_count": 74,
   "metadata": {},
   "outputs": [
    {
     "name": "stdout",
     "output_type": "stream",
     "text": [
      "Number of new donors:\n",
      "0\n"
     ]
    }
   ],
   "source": [
    "# N = NEW DONOR Anyone who has made their first donation in the last 12 months and is not a First time donor.  \n",
    "# This is everyone who made their first donation 7-12 months ago, or\n",
    "# people who made their first donation between 0-6 months ago and have made 2 or more donations.\n",
    "\n",
    "print('Number of new donors:')\n",
    "print(len(data.loc[(data['FIRSTDATE_MONTHS'] <= 12.0) & (data['RECENCY'] != 'F') ]))\n",
    "\n",
    "data.loc[(data['FIRSTDATE_MONTHS'] <= 12.0) & (data['RECENCY'] != 'F') ] = 'N'\n"
   ]
  },
  {
   "cell_type": "code",
   "execution_count": 75,
   "metadata": {},
   "outputs": [
    {
     "name": "stdout",
     "output_type": "stream",
     "text": [
      "Number of inactive donors:\n",
      "7315\n"
     ]
    }
   ],
   "source": [
    "# I=INACTIVE DONOR A previous donor who has not made a donation in the last 24 months.  \n",
    "# It is people who made a donation 25+ months ago.\n",
    "print('Number of inactive donors:')\n",
    "print(len(data.loc[(data['LASTDATE_MONTHS'] >= 25.0)&(data['FIRSTDATE_MONTHS'] >= 25.0)]))\n",
    "\n",
    "data.loc[(data['LASTDATE_MONTHS'] >= 25.0)&(data['FIRSTDATE_MONTHS'] >= 25.0), 'RECENCY'] = 'I'"
   ]
  },
  {
   "cell_type": "code",
   "execution_count": 63,
   "metadata": {},
   "outputs": [
    {
     "name": "stdout",
     "output_type": "stream",
     "text": [
      "Number of active donors:\n",
      "3963\n"
     ]
    }
   ],
   "source": [
    "# A=ACTIVE DONOR Anyone who made their first donation more than 12 months ago \n",
    "# and has made a donation in the last 12 months.\n",
    "\n",
    "print('Number of active donors:')\n",
    "print(len(data.loc[(data['FIRSTDATE_MONTHS'] >= 12.0) & (data['LASTDATE_MONTHS'] < 12.0)]))\n",
    "\n",
    "data.loc[(data['FIRSTDATE_MONTHS'] >= 12.0) & (data['LASTDATE_MONTHS'] < 12.0), 'RECENCY'] = 'A'"
   ]
  },
  {
   "cell_type": "code",
   "execution_count": 76,
   "metadata": {},
   "outputs": [
    {
     "data": {
      "text/html": [
       "<div>\n",
       "<style scoped>\n",
       "    .dataframe tbody tr th:only-of-type {\n",
       "        vertical-align: middle;\n",
       "    }\n",
       "\n",
       "    .dataframe tbody tr th {\n",
       "        vertical-align: top;\n",
       "    }\n",
       "\n",
       "    .dataframe thead th {\n",
       "        text-align: right;\n",
       "    }\n",
       "</style>\n",
       "<table border=\"1\" class=\"dataframe\">\n",
       "  <thead>\n",
       "    <tr style=\"text-align: right;\">\n",
       "      <th></th>\n",
       "      <th>Unnamed: 0</th>\n",
       "      <th>ODATEDW</th>\n",
       "      <th>OSOURCE</th>\n",
       "      <th>TCODE</th>\n",
       "      <th>STATE</th>\n",
       "      <th>ZIP</th>\n",
       "      <th>MAILCODE</th>\n",
       "      <th>PVASTATE</th>\n",
       "      <th>DOB</th>\n",
       "      <th>NOEXCH</th>\n",
       "      <th>...</th>\n",
       "      <th>RFA_2A</th>\n",
       "      <th>MDMAUD_R</th>\n",
       "      <th>MDMAUD_F</th>\n",
       "      <th>MDMAUD_A</th>\n",
       "      <th>GEOCODE2</th>\n",
       "      <th>AGE</th>\n",
       "      <th>LASTDATE_MONTHS</th>\n",
       "      <th>ODATEDW_MONTHS</th>\n",
       "      <th>FIRSTDATE_MONTHS</th>\n",
       "      <th>RECENCY</th>\n",
       "    </tr>\n",
       "  </thead>\n",
       "  <tbody>\n",
       "    <tr>\n",
       "      <th>13</th>\n",
       "      <td>13</td>\n",
       "      <td>2012-01-01 00:00:00</td>\n",
       "      <td>HCC</td>\n",
       "      <td>1</td>\n",
       "      <td>LA</td>\n",
       "      <td>70791</td>\n",
       "      <td></td>\n",
       "      <td></td>\n",
       "      <td>NaT</td>\n",
       "      <td>0</td>\n",
       "      <td>...</td>\n",
       "      <td>G</td>\n",
       "      <td>X</td>\n",
       "      <td>X</td>\n",
       "      <td>X</td>\n",
       "      <td>B</td>\n",
       "      <td>NaN</td>\n",
       "      <td>5</td>\n",
       "      <td>64</td>\n",
       "      <td>55</td>\n",
       "      <td></td>\n",
       "    </tr>\n",
       "    <tr>\n",
       "      <th>44</th>\n",
       "      <td>44</td>\n",
       "      <td>2012-01-01 00:00:00</td>\n",
       "      <td>IMA</td>\n",
       "      <td>0</td>\n",
       "      <td>WI</td>\n",
       "      <td>53221</td>\n",
       "      <td></td>\n",
       "      <td></td>\n",
       "      <td>1966-11-01 00:00:00</td>\n",
       "      <td>0</td>\n",
       "      <td>...</td>\n",
       "      <td>F</td>\n",
       "      <td>X</td>\n",
       "      <td>X</td>\n",
       "      <td>X</td>\n",
       "      <td>B</td>\n",
       "      <td>50</td>\n",
       "      <td>3</td>\n",
       "      <td>64</td>\n",
       "      <td>56</td>\n",
       "      <td></td>\n",
       "    </tr>\n",
       "    <tr>\n",
       "      <th>50</th>\n",
       "      <td>50</td>\n",
       "      <td>2008-01-01 00:00:00</td>\n",
       "      <td>DNA</td>\n",
       "      <td>0</td>\n",
       "      <td>IL</td>\n",
       "      <td>61273</td>\n",
       "      <td></td>\n",
       "      <td></td>\n",
       "      <td>1934-11-01 00:00:00</td>\n",
       "      <td>0</td>\n",
       "      <td>...</td>\n",
       "      <td>F</td>\n",
       "      <td>X</td>\n",
       "      <td>X</td>\n",
       "      <td>X</td>\n",
       "      <td>B</td>\n",
       "      <td>82</td>\n",
       "      <td>3</td>\n",
       "      <td>112</td>\n",
       "      <td>103</td>\n",
       "      <td></td>\n",
       "    </tr>\n",
       "    <tr>\n",
       "      <th>66</th>\n",
       "      <td>66</td>\n",
       "      <td>2012-01-01 00:00:00</td>\n",
       "      <td>L01</td>\n",
       "      <td>1</td>\n",
       "      <td>FL</td>\n",
       "      <td>34231</td>\n",
       "      <td></td>\n",
       "      <td></td>\n",
       "      <td>1938-05-01 00:00:00</td>\n",
       "      <td>0</td>\n",
       "      <td>...</td>\n",
       "      <td>G</td>\n",
       "      <td>X</td>\n",
       "      <td>X</td>\n",
       "      <td>X</td>\n",
       "      <td>B</td>\n",
       "      <td>79</td>\n",
       "      <td>4</td>\n",
       "      <td>64</td>\n",
       "      <td>56</td>\n",
       "      <td></td>\n",
       "    </tr>\n",
       "    <tr>\n",
       "      <th>74</th>\n",
       "      <td>74</td>\n",
       "      <td>2008-01-01 00:00:00</td>\n",
       "      <td>APP</td>\n",
       "      <td>0</td>\n",
       "      <td>CA</td>\n",
       "      <td>92163</td>\n",
       "      <td></td>\n",
       "      <td></td>\n",
       "      <td>1938-01-01 00:00:00</td>\n",
       "      <td>0</td>\n",
       "      <td>...</td>\n",
       "      <td>E</td>\n",
       "      <td>X</td>\n",
       "      <td>X</td>\n",
       "      <td>X</td>\n",
       "      <td>A</td>\n",
       "      <td>79</td>\n",
       "      <td>4</td>\n",
       "      <td>112</td>\n",
       "      <td>104</td>\n",
       "      <td></td>\n",
       "    </tr>\n",
       "    <tr>\n",
       "      <th>...</th>\n",
       "      <td>...</td>\n",
       "      <td>...</td>\n",
       "      <td>...</td>\n",
       "      <td>...</td>\n",
       "      <td>...</td>\n",
       "      <td>...</td>\n",
       "      <td>...</td>\n",
       "      <td>...</td>\n",
       "      <td>...</td>\n",
       "      <td>...</td>\n",
       "      <td>...</td>\n",
       "      <td>...</td>\n",
       "      <td>...</td>\n",
       "      <td>...</td>\n",
       "      <td>...</td>\n",
       "      <td>...</td>\n",
       "      <td>...</td>\n",
       "      <td>...</td>\n",
       "      <td>...</td>\n",
       "      <td>...</td>\n",
       "      <td>...</td>\n",
       "    </tr>\n",
       "    <tr>\n",
       "      <th>95372</th>\n",
       "      <td>95372</td>\n",
       "      <td>2014-01-01 00:00:00</td>\n",
       "      <td>ESN</td>\n",
       "      <td>0</td>\n",
       "      <td>FL</td>\n",
       "      <td>33418</td>\n",
       "      <td></td>\n",
       "      <td>P</td>\n",
       "      <td>1940-01-01 00:00:00</td>\n",
       "      <td>0</td>\n",
       "      <td>...</td>\n",
       "      <td>G</td>\n",
       "      <td>X</td>\n",
       "      <td>X</td>\n",
       "      <td>X</td>\n",
       "      <td>B</td>\n",
       "      <td>77</td>\n",
       "      <td>3</td>\n",
       "      <td>40</td>\n",
       "      <td>40</td>\n",
       "      <td></td>\n",
       "    </tr>\n",
       "    <tr>\n",
       "      <th>95396</th>\n",
       "      <td>95396</td>\n",
       "      <td>2011-01-01 00:00:00</td>\n",
       "      <td>PBL</td>\n",
       "      <td>0</td>\n",
       "      <td>CA</td>\n",
       "      <td>94305</td>\n",
       "      <td></td>\n",
       "      <td></td>\n",
       "      <td>1934-01-01 00:00:00</td>\n",
       "      <td>0</td>\n",
       "      <td>...</td>\n",
       "      <td>G</td>\n",
       "      <td>L</td>\n",
       "      <td>2</td>\n",
       "      <td>C</td>\n",
       "      <td>A</td>\n",
       "      <td>83</td>\n",
       "      <td>9</td>\n",
       "      <td>76</td>\n",
       "      <td>76</td>\n",
       "      <td></td>\n",
       "    </tr>\n",
       "    <tr>\n",
       "      <th>95409</th>\n",
       "      <td>95409</td>\n",
       "      <td>2015-01-01 00:00:00</td>\n",
       "      <td>MBC</td>\n",
       "      <td>1</td>\n",
       "      <td>MI</td>\n",
       "      <td>48910</td>\n",
       "      <td></td>\n",
       "      <td></td>\n",
       "      <td>1958-01-01 00:00:00</td>\n",
       "      <td>0</td>\n",
       "      <td>...</td>\n",
       "      <td>E</td>\n",
       "      <td>X</td>\n",
       "      <td>X</td>\n",
       "      <td>X</td>\n",
       "      <td>B</td>\n",
       "      <td>59</td>\n",
       "      <td>7</td>\n",
       "      <td>28</td>\n",
       "      <td>32</td>\n",
       "      <td></td>\n",
       "    </tr>\n",
       "    <tr>\n",
       "      <th>95410</th>\n",
       "      <td>95410</td>\n",
       "      <td>2006-01-01 00:00:00</td>\n",
       "      <td>PRV</td>\n",
       "      <td>0</td>\n",
       "      <td>CA</td>\n",
       "      <td>91320</td>\n",
       "      <td></td>\n",
       "      <td></td>\n",
       "      <td>1960-05-01 00:00:00</td>\n",
       "      <td>0</td>\n",
       "      <td>...</td>\n",
       "      <td>F</td>\n",
       "      <td>X</td>\n",
       "      <td>X</td>\n",
       "      <td>X</td>\n",
       "      <td>A</td>\n",
       "      <td>57</td>\n",
       "      <td>4</td>\n",
       "      <td>136</td>\n",
       "      <td>125</td>\n",
       "      <td></td>\n",
       "    </tr>\n",
       "    <tr>\n",
       "      <th>95411</th>\n",
       "      <td>95411</td>\n",
       "      <td>2008-01-01 00:00:00</td>\n",
       "      <td>MCC</td>\n",
       "      <td>2</td>\n",
       "      <td>NC</td>\n",
       "      <td>28409</td>\n",
       "      <td></td>\n",
       "      <td></td>\n",
       "      <td>1938-01-01 00:00:00</td>\n",
       "      <td>0</td>\n",
       "      <td>...</td>\n",
       "      <td>G</td>\n",
       "      <td>C</td>\n",
       "      <td>1</td>\n",
       "      <td>C</td>\n",
       "      <td>C</td>\n",
       "      <td>79</td>\n",
       "      <td>5</td>\n",
       "      <td>112</td>\n",
       "      <td>111</td>\n",
       "      <td></td>\n",
       "    </tr>\n",
       "  </tbody>\n",
       "</table>\n",
       "<p>3965 rows × 481 columns</p>\n",
       "</div>"
      ],
      "text/plain": [
       "      Unnamed: 0              ODATEDW OSOURCE TCODE STATE    ZIP MAILCODE  \\\n",
       "13            13  2012-01-01 00:00:00     HCC     1    LA  70791            \n",
       "44            44  2012-01-01 00:00:00     IMA     0    WI  53221            \n",
       "50            50  2008-01-01 00:00:00     DNA     0    IL  61273            \n",
       "66            66  2012-01-01 00:00:00     L01     1    FL  34231            \n",
       "74            74  2008-01-01 00:00:00     APP     0    CA  92163            \n",
       "...          ...                  ...     ...   ...   ...    ...      ...   \n",
       "95372      95372  2014-01-01 00:00:00     ESN     0    FL  33418            \n",
       "95396      95396  2011-01-01 00:00:00     PBL     0    CA  94305            \n",
       "95409      95409  2015-01-01 00:00:00     MBC     1    MI  48910            \n",
       "95410      95410  2006-01-01 00:00:00     PRV     0    CA  91320            \n",
       "95411      95411  2008-01-01 00:00:00     MCC     2    NC  28409            \n",
       "\n",
       "      PVASTATE                  DOB NOEXCH  ... RFA_2A MDMAUD_R MDMAUD_F  \\\n",
       "13                              NaT      0  ...      G        X        X   \n",
       "44              1966-11-01 00:00:00      0  ...      F        X        X   \n",
       "50              1934-11-01 00:00:00      0  ...      F        X        X   \n",
       "66              1938-05-01 00:00:00      0  ...      G        X        X   \n",
       "74              1938-01-01 00:00:00      0  ...      E        X        X   \n",
       "...        ...                  ...    ...  ...    ...      ...      ...   \n",
       "95372        P  1940-01-01 00:00:00      0  ...      G        X        X   \n",
       "95396           1934-01-01 00:00:00      0  ...      G        L        2   \n",
       "95409           1958-01-01 00:00:00      0  ...      E        X        X   \n",
       "95410           1960-05-01 00:00:00      0  ...      F        X        X   \n",
       "95411           1938-01-01 00:00:00      0  ...      G        C        1   \n",
       "\n",
       "      MDMAUD_A GEOCODE2  AGE LASTDATE_MONTHS ODATEDW_MONTHS FIRSTDATE_MONTHS  \\\n",
       "13           X        B  NaN               5             64               55   \n",
       "44           X        B   50               3             64               56   \n",
       "50           X        B   82               3            112              103   \n",
       "66           X        B   79               4             64               56   \n",
       "74           X        A   79               4            112              104   \n",
       "...        ...      ...  ...             ...            ...              ...   \n",
       "95372        X        B   77               3             40               40   \n",
       "95396        C        A   83               9             76               76   \n",
       "95409        X        B   59               7             28               32   \n",
       "95410        X        A   57               4            136              125   \n",
       "95411        C        C   79               5            112              111   \n",
       "\n",
       "      RECENCY  \n",
       "13             \n",
       "44             \n",
       "50             \n",
       "66             \n",
       "74             \n",
       "...       ...  \n",
       "95372          \n",
       "95396          \n",
       "95409          \n",
       "95410          \n",
       "95411          \n",
       "\n",
       "[3965 rows x 481 columns]"
      ]
     },
     "execution_count": 76,
     "metadata": {},
     "output_type": "execute_result"
    }
   ],
   "source": [
    "# There are 2 rows left without RECENCY label - after checking FISTDATE,\n",
    "# we see that they correspond to 2 NaNs values in FISTDATE column\n",
    "# We will need impute them or drop\n",
    "\n",
    "data.loc[data.RECENCY == '']"
   ]
  },
  {
   "cell_type": "code",
   "execution_count": 77,
   "metadata": {},
   "outputs": [],
   "source": [
    "# As we have columns with the same purpose we can impute these NaNs in FISTDATE using ODATEDW\n",
    "data.loc[(data.RECENCY == ''), 'FISTDATE'] = data.ODATEDW\n",
    "data.loc[(data.RECENCY == ''), 'FIRSTDATE_MONTHS'] = data.ODATEDW_MONTHS\n",
    "\n",
    "# And fill out their Recency\n",
    "data.loc[(data['FIRSTDATE_MONTHS'] >= 12.0) & (data['LASTDATE_MONTHS'] < 12.0), 'RECENCY'] = 'A'\n",
    "\n",
    "# Drop ODATEDW as not needed anymore\n",
    "#data.drop(columns = ['ODATEDW', 'ODATEDW_MONTHS'])"
   ]
  },
  {
   "cell_type": "markdown",
   "metadata": {},
   "source": [
    "Despite fact that we should have only Lapsed donors in our dataset\n",
    "we have only 84132 lapsed, inactive - 7315  and active 3965.\n",
    "\n",
    "So we have 11.6 % of inconsistancies - donors that should be lapsed because of RFA_2\n",
    "but are inactive or active"
   ]
  },
  {
   "cell_type": "code",
   "execution_count": 30,
   "metadata": {},
   "outputs": [
    {
     "data": {
      "text/plain": [
       "0.11633756760155956"
      ]
     },
     "execution_count": 30,
     "metadata": {},
     "output_type": "execute_result"
    }
   ],
   "source": [
    "(95412 - 84312)/95412"
   ]
  },
  {
   "cell_type": "code",
   "execution_count": 78,
   "metadata": {},
   "outputs": [
    {
     "data": {
      "text/html": [
       "\n",
       "        <iframe\n",
       "            width=\"100%\"\n",
       "            height=\"475\"\n",
       "            src=\"http://localhost:40000/dtale/iframe/6\"\n",
       "            frameborder=\"0\"\n",
       "            allowfullscreen\n",
       "        ></iframe>\n",
       "        "
      ],
      "text/plain": [
       "<IPython.lib.display.IFrame at 0x7fe328af1220>"
      ]
     },
     "metadata": {},
     "output_type": "display_data"
    },
    {
     "data": {
      "text/plain": []
     },
     "execution_count": 78,
     "metadata": {},
     "output_type": "execute_result"
    }
   ],
   "source": [
    "dtale.show(data.loc[data.RECENCY != 'L'])"
   ]
  },
  {
   "cell_type": "markdown",
   "metadata": {},
   "source": [
    "#### Checking for incontsistancies between date of first gift of a donor and his/her birhday date"
   ]
  },
  {
   "cell_type": "code",
   "execution_count": 31,
   "metadata": {},
   "outputs": [
    {
     "name": "stdout",
     "output_type": "stream",
     "text": [
      "Number of inconsistencies between ODATEDW and DOB 304\n"
     ]
    }
   ],
   "source": [
    "# Date of donor's first gift to PVA\n",
    "# cannot be earlier than his/her Date of Birthday (DOB)\n",
    "\n",
    "# From metadafata file - ODATEDW and FISTDATE have the same meaning:\n",
    "# ODATEDW Date of donor's first gift to PVA YYMM format (Year/Month) and FISTDATE Date of first gift\n",
    "\n",
    "# I use strict '<' not '<=' , thinking that some parents in the day of birth of his child could do first donation\n",
    "# from this child's name to PVA\n",
    "print ('Number of inconsistencies between ODATEDW and DOB', len(data[data.ODATEDW < data.DOB]))\n",
    "\n",
    "# As we see ODATEDW is not consistent with DOB"
   ]
  },
  {
   "cell_type": "code",
   "execution_count": 32,
   "metadata": {},
   "outputs": [
    {
     "name": "stdout",
     "output_type": "stream",
     "text": [
      "Number of inconsistencies between FISTDATE and DOB 278\n",
      "Percentage of inconsistencies between FISTDATE and DOB 0.29\n"
     ]
    }
   ],
   "source": [
    "# Same checking for FISTDATE\n",
    "print ('Number of inconsistencies between FISTDATE and DOB', len(data[data.FISTDATE < data.DOB]))\n",
    "print ('Percentage of inconsistencies between FISTDATE and DOB', \n",
    "       round(len(data[data.FISTDATE < data.DOB])/len(data)*100, 2))\n",
    "# With such small percent - I suggest to drop these rows\n",
    "# and drop column ODATEDW"
   ]
  },
  {
   "cell_type": "markdown",
   "metadata": {},
   "source": [
    "##### CHECKING FOR INCONSISTENCIES IN TCODE"
   ]
  },
  {
   "cell_type": "code",
   "execution_count": 18,
   "metadata": {},
   "outputs": [],
   "source": [
    "dictTCODE = {\n",
    "    \"0\" : \"_\",\n",
    "    \"1\" : \"MR.\",\n",
    "    \"1001\" : \"MESSRS.\",\n",
    "    \"1002\" : \"MR. & MRS.\",\n",
    "    \"2\" : \"MRS.\",\n",
    "    \"2002\" : \"MESDAMES\",\n",
    "    \"3\" : \"MISS\",\n",
    "    \"3003\" : \"MISSES\",\n",
    "    \"4\" : \"DR.\",\n",
    "    \"4002\" : \"DR. & MRS.\",\n",
    "    \"4004\" : \"DOCTORS\",\n",
    "    \"5\" : \"MADAME\",\n",
    "    \"6\" : \"SERGEANT\",\n",
    "    \"9\" : \"RABBI\",\n",
    "    \"10\" : \"PROFESSOR\",\n",
    "    \"10002\" : \"PROFESSOR & MRS.\",\n",
    "    \"10010\" : \"PROFESSORS\",\n",
    "    \"11\" : \"ADMIRAL\",\n",
    "    \"11002\" : \"ADMIRAL & MRS.\",\n",
    "    \"12\" : \"GENERAL\",\n",
    "    \"12002\" : \"GENERAL & MRS.\",\n",
    "    \"13\" : \"COLONEL\",\n",
    "    \"13002\" : \"COLONEL & MRS.\",\n",
    "    \"14\" : \"CAPTAIN\",\n",
    "    \"14002\" : \"CAPTAIN & MRS.\",\n",
    "    \"15\" : \"COMMANDER\",\n",
    "    \"15002\" : \"COMMANDER & MRS.\",\n",
    "    \"16\" : \"DEAN\",\n",
    "    \"17\" : \"JUDGE\",\n",
    "    \"17002\" : \"JUDGE & MRS.\",\n",
    "    \"18\" : \"MAJOR\",\n",
    "    \"18002\" : \"MAJOR & MRS.\",\n",
    "    \"19\" : \"SENATOR\",\n",
    "    \"20\" : \"GOVERNOR\",\n",
    "    \"21002\" : \"SERGEANT & MRS.\",\n",
    "    \"22002\" : \"COLONEL & MRS.\", #mistype in COLONEL, was changed here\n",
    "    \"24002\" : \"LIEUTENANT & MRS.\", #XX002 code is used for someone & MRS.\n",
    "    \"24\" : \"LIEUTENANT\",\n",
    "    \"26\" : \"MONSIGNOR\",\n",
    "    \"27\" : \"REVEREND\",\n",
    "    \"28\" : \"MS.\",\n",
    "    \"28028\" : \"MSS.\",\n",
    "    \"29\" : \"BISHOP\",\n",
    "    \"31\" : \"AMBASSADOR\",\n",
    "    \"31002\" : \"AMBASSADOR & MRS.\",\n",
    "    \"33\" : \"CANTOR\",\n",
    "    \"36\" : \"BROTHER\",\n",
    "    \"37\" : \"SIR\",\n",
    "    \"38\" : \"COMMODORE\",\n",
    "    \"40\" : \"FATHER\",\n",
    "    \"42\" : \"SISTER\",\n",
    "    \"43\" : \"PRESIDENT\",\n",
    "    \"44\" : \"MASTER\",\n",
    "    \"46\" : \"MOTHER\",\n",
    "    \"47\" : \"CHAPLAIN\",\n",
    "    \"48\" : \"CORPORAL\",\n",
    "    \"50\" : \"ELDER\",\n",
    "    \"56\" : \"MAYOR\",\n",
    "    \"59002\" : \"LIEUTENANT & MRS.\",\n",
    "    \"62\" : \"LORD\",\n",
    "    \"63\" : \"CARDINAL\",\n",
    "    \"64\" : \"FRIEND\",\n",
    "    \"65\" : \"FRIENDS\",\n",
    "    \"68\" : \"ARCHDEACON\",\n",
    "    \"69\" : \"CANON\",\n",
    "    \"70\" : \"BISHOP\",\n",
    "    \"72002\" : \"REVEREND & MRS.\",\n",
    "    \"73\" : \"PASTOR\",\n",
    "    \"75\" : \"ARCHBISHOP\",\n",
    "    \"85\" : \"SPECIALIST\",\n",
    "    \"87\" : \"PRIVATE\",\n",
    "    \"89\" : \"SEAMAN\", \n",
    "    \"90\" : \"AIRMAN\",\n",
    "    \"91\" : \"JUSTICE\",\n",
    "    \"92\" : \"MR. JUSTICE\",\n",
    "    \"100\" : \"M.\",\n",
    "    \"103\" : \"MLLE.\",\n",
    "    \"104\" : \"CHANCELLOR\",\n",
    "    \"106\" : \"REPRESENTATIVE\",\n",
    "    \"107\" : \"SECRETARY\",\n",
    "    \"108\" : \"LT. GOVERNOR\",\n",
    "    \"109\" : \"LIC.\",\n",
    "    \"111\" : \"SA.\",\n",
    "    \"114\" : \"DA.\",\n",
    "    \"116\" : \"MR.\", #Changed SR ro MR\n",
    "    \"117\" : \"MRS.\", #Changed SRA ro MRS\n",
    "    \"118\" : \"MISS\", #Cnanged SRTA. to MISS\n",
    "    \"120\" : \"YOUR MAJESTY\",\n",
    "    \"122\" : \"HIS HIGHNESS\",\n",
    "    \"123\" : \"HER HIGHNESS\",\n",
    "    \"124\" : \"COUNT\",\n",
    "    \"125\" : \"LADY\",\n",
    "    \"126\" : \"PRINCE\",\n",
    "    \"127\" : \"PRINCESS\",\n",
    "    \"128\" : \"CHIEF\",\n",
    "    \"129\" : \"BARON\",\n",
    "    \"130\" : \"SHEIK\",\n",
    "    \"131\" : \"PRINCE AND PRINCESS\",\n",
    "    \"132\" : \"YOUR IMPERIAL MAJEST\",\n",
    "    \"135\" : \"M. ET MME.\",\n",
    "    \"210\" : \"PROF.\",\n",
    "    '72': 'REVEREND', #because code 72002 REVEREND AND MRS, I think it was 072 and 027 for REVEREND \n",
    "    #because some systematic mistake (mistype), and in the end someone changed it in system\n",
    "    '22': \"COLONEL & MRS.\", #just a mistype,\n",
    "    \n",
    "}"
   ]
  },
  {
   "cell_type": "code",
   "execution_count": 19,
   "metadata": {},
   "outputs": [],
   "source": [
    "data['TCODE'] = data['TCODE'].apply(str)\n",
    "\n",
    "data[\"cat_TCODE\"] = data.TCODE.replace(to_replace=dictTCODE)"
   ]
  },
  {
   "cell_type": "markdown",
   "metadata": {},
   "source": [
    "CHECKING FOR INCONSISTENCIES IN TCODE\n",
    "- wrote down in doc all summary"
   ]
  },
  {
   "cell_type": "code",
   "execution_count": 20,
   "metadata": {},
   "outputs": [
    {
     "name": "stdout",
     "output_type": "stream",
     "text": [
      "Number of Men(GENDER M) with title MRS.(Mrs - womans title of married woman) 3412\n",
      "Number of men with title MISS (title of young or unmarried woman) 34\n",
      "Number of men with title MS. (title of married or not married woman) 216\n",
      "Number of women with title MR. (stays for mister, mans title) 255\n",
      "Number of men with title Sister 1\n",
      "Number of women with title Brother 0\n",
      "Number of women with title MR. & MRS., that implies that they should be men 46\n"
     ]
    }
   ],
   "source": [
    "# CHECKING FOR INCONSISTENCIES IN TCODE\n",
    "print('Number of Men(GENDER M) with title MRS.(Mrs - womans title of married woman)', \n",
    "      len(data[(data.GENDER == 'M')&(data.cat_TCODE == 'MRS.')]))\n",
    "print('Number of men with title MISS (title of young or unmarried woman)', \n",
    "      len(data[(data.GENDER == 'M')&(data.cat_TCODE == 'MISS')]))\n",
    "print('Number of men with title MS. (title of married or not married woman)', \n",
    "      len(data[(data.GENDER == 'M')&(data.cat_TCODE == 'MS.')]))\n",
    "print('Number of women with title MR. (stays for mister, mans title)', \n",
    "      len(data[(data.GENDER == 'F')&(data.cat_TCODE == 'MR.')]))\n",
    "print('Number of men with title Sister', \n",
    "      len(data[(data.GENDER == 'M')&(data.cat_TCODE == 'SISTER')]))\n",
    "print('Number of women with title Brother', \n",
    "      len(data[(data.GENDER == 'F')&(data.cat_TCODE == 'BROTHER')]))\n",
    "#women (F) that has code 'MR. & MRS.' that implies that they should be me\n",
    "print('Number of women with title MR. & MRS., that implies that they should be men',\n",
    "      len(data[(data.GENDER == 'F')&(data.cat_TCODE == 'MR. & MRS.')]))"
   ]
  },
  {
   "cell_type": "code",
   "execution_count": null,
   "metadata": {},
   "outputs": [],
   "source": []
  },
  {
   "cell_type": "code",
   "execution_count": null,
   "metadata": {},
   "outputs": [],
   "source": []
  },
  {
   "cell_type": "code",
   "execution_count": null,
   "metadata": {},
   "outputs": [],
   "source": []
  },
  {
   "cell_type": "code",
   "execution_count": null,
   "metadata": {},
   "outputs": [],
   "source": []
  },
  {
   "cell_type": "code",
   "execution_count": null,
   "metadata": {},
   "outputs": [],
   "source": []
  },
  {
   "cell_type": "code",
   "execution_count": null,
   "metadata": {},
   "outputs": [],
   "source": []
  }
 ],
 "metadata": {
  "kernelspec": {
   "display_name": "Python 3",
   "language": "python",
   "name": "python3"
  },
  "language_info": {
   "codemirror_mode": {
    "name": "ipython",
    "version": 3
   },
   "file_extension": ".py",
   "mimetype": "text/x-python",
   "name": "python",
   "nbconvert_exporter": "python",
   "pygments_lexer": "ipython3",
   "version": "3.8.3"
  }
 },
 "nbformat": 4,
 "nbformat_minor": 4
}
