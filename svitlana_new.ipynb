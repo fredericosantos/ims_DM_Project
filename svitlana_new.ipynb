{
 "cells": [
  {
   "cell_type": "code",
   "execution_count": 11,
   "metadata": {},
   "outputs": [],
   "source": [
    "# Remember: library imports are ALWAYS at the top of the script, no exceptions!\n",
    "import sqlite3\n",
    "import os\n",
    "import pandas as pd\n",
    "import numpy as np\n",
    "import matplotlib\n",
    "import matplotlib.pyplot as plt\n",
    "import seaborn as sns\n",
    "from math import ceil\n",
    "import warnings\n",
    "warnings.filterwarnings('ignore')\n",
    "import dtale\n",
    "\n",
    "from itertools import product\n",
    "from pandas_profiling import ProfileReport\n",
    "\n",
    "\n",
    "%config InlineBackend.figure_format = 'retina' # optionally, you can change 'svg' to 'retina'\n",
    "\n",
    "# Seeting seaborn style\n",
    "sns.set()\n",
    "\n",
    "\n",
    "from datetime import datetime\n",
    "import calendar"
   ]
  },
  {
   "cell_type": "code",
   "execution_count": 21,
   "metadata": {},
   "outputs": [],
   "source": [
    "data = pd.read_csv (\"/Users/vsa/Documents/DM/data/donors.csv\", low_memory=False)"
   ]
  },
  {
   "cell_type": "code",
   "execution_count": 3,
   "metadata": {},
   "outputs": [],
   "source": [
    "#data = alldata[['DOB', 'ODATEDW', 'FISTDATE', 'LASTDATE', 'ADATE_2', 'TCODE',\n",
    "#               'GENDER', 'NGIFTALL']]"
   ]
  },
  {
   "cell_type": "markdown",
   "metadata": {},
   "source": [
    "## Calculating age, recency etc"
   ]
  },
  {
   "cell_type": "code",
   "execution_count": 28,
   "metadata": {},
   "outputs": [
    {
     "data": {
      "text/plain": [
       "0        59.0\n",
       "1        45.0\n",
       "2         NaN\n",
       "3        69.0\n",
       "4        77.0\n",
       "         ... \n",
       "95407     NaN\n",
       "95408    47.0\n",
       "95409    59.0\n",
       "95410    57.0\n",
       "95411    79.0\n",
       "Name: AGE, Length: 95412, dtype: float64"
      ]
     },
     "execution_count": 28,
     "metadata": {},
     "output_type": "execute_result"
    }
   ],
   "source": [
    "# AGE\n",
    "# Here we calculate age as it was discussed during Q&A session:\n",
    "# Calculate age on the moment of ADATE_2, paying attention that ADATE_2 has 2 different values in a column:\n",
    "# 2017-06-01 (95399 instances), 2017-04-01 (13 instances)\n",
    "\n",
    "data.DOB = pd.to_datetime(data.DOB)\n",
    "data.ADATE_2 = pd.to_datetime(data.ADATE_2)\n",
    "data[\"AGE\"] = (data.ADATE_2 - data.DOB).astype('timedelta64[Y]')    #.astype('int')\n",
    "\n",
    "data.AGE"
   ]
  },
  {
   "cell_type": "code",
   "execution_count": 5,
   "metadata": {},
   "outputs": [],
   "source": [
    "# Next I will create and fill out column 'RECENCY' based on information from metadata file\n",
    "# to find inconsistencies as per forum all donors should be lapsed\n",
    "\n",
    "# F=FIRST TIME DONOR Anyone who has made their first donation in the last 6 months and has\n",
    "# made just one donation.\n",
    "    \n",
    "# N=NEW DONOR Anyone who has made their first donation in the last 12 months and is not a First time donor. \n",
    "# This is everyone who made their first donation 7-12 months ago, or\n",
    "# people who made their first donation between 0-6 months ago and have made 2 or more donations.\n",
    "    \n",
    "# A=ACTIVE DONOR Anyone who made their first donation more than 12 months ago and has made\n",
    "# a donation in the last 12 months.\n",
    "    \n",
    "# L=LAPSING DONOR A previous donor who made their last donation between 13-24 months ago.\n",
    "    \n",
    "# I=INACTIVE DONOR A previous donor who has not made a donation in the last 24 months. \n",
    "# It is people who made a donation 25+ months ago.\n",
    "    \n",
    "# S=STAR DONOR STAR Donors are individuals who have given to 3 consecutive card mailings.\n"
   ]
  },
  {
   "cell_type": "markdown",
   "metadata": {},
   "source": [
    "Let's find out all these groups of donors and create 'RECENCY' column"
   ]
  },
  {
   "cell_type": "code",
   "execution_count": 29,
   "metadata": {},
   "outputs": [
    {
     "data": {
      "text/plain": [
       "2"
      ]
     },
     "execution_count": 29,
     "metadata": {},
     "output_type": "execute_result"
    }
   ],
   "source": [
    "# Calculate amount of months from the last day LASTDATE (Date associated with the most recent gift)\n",
    "# and ADATE_2 - Date the latest promotion was sent \n",
    "# (all the timelags between dates are calculating on the moment of ADATE_2 as was discussed during Q&A)\n",
    "\n",
    "# From metadafata file - ODATEDW and FISTDATE have the same meaning:\n",
    "# ODATEDW Date of donor's first gift to PVA YYMM format (Year/Month) and FISTDATE Date of first gift\n",
    "\n",
    "data.LASTDATE = pd.to_datetime(data.LASTDATE)\n",
    "\n",
    "# Convert ODATEDW to datetime\n",
    "data.ODATEDW = pd.to_datetime(data.ODATEDW)\n",
    "\n",
    "# Convert FISTDATE to datetime\n",
    "data.FISTDATE = pd.to_datetime(data.FISTDATE)\n",
    "\n",
    "# All columns except FISTDATE do not have NaNs, and as we are going to use FISTDATE further \n",
    "# we will impute these NaNs with values from ODATEDW, as these two columns have the same meaning\n",
    "data['FISTDATE'].isna().sum()"
   ]
  },
  {
   "cell_type": "code",
   "execution_count": 33,
   "metadata": {},
   "outputs": [
    {
     "data": {
      "text/plain": [
       "0"
      ]
     },
     "execution_count": 33,
     "metadata": {},
     "output_type": "execute_result"
    }
   ],
   "source": [
    "# Impute NaNs for 'FISTDATE'using values from ODATEDW\n",
    "data['FISTDATE'].fillna(data['ODATEDW'], inplace = True)\n",
    "data['FISTDATE'].isna().sum()"
   ]
  },
  {
   "cell_type": "code",
   "execution_count": 34,
   "metadata": {},
   "outputs": [],
   "source": [
    "# Calculate number of months from ADATE_2 for each column\n",
    "data ['ODATEDW_MONTHS'] = (data.ADATE_2 - data.ODATEDW).astype('timedelta64[M]')\n",
    "data ['LASTDATE_MONTHS'] = (data.ADATE_2 - data.LASTDATE).astype('timedelta64[M]') \n",
    "data ['FIRSTDATE_MONTHS'] = (data.ADATE_2 - data.FISTDATE).astype('timedelta64[M]')"
   ]
  },
  {
   "cell_type": "code",
   "execution_count": 35,
   "metadata": {},
   "outputs": [
    {
     "name": "stdout",
     "output_type": "stream",
     "text": [
      "Number of inconsistencies between LASTDATE_MONTHS and FIRSTDATE_MONTHS: 0\n"
     ]
    }
   ],
   "source": [
    "# Checking for inconsistencies between LASTDATE_MONTHS and FIRSTDATE_MONTHS\n",
    "inconsist = (len(data [data ['LASTDATE_MONTHS'] > data['FIRSTDATE_MONTHS']]))\n",
    "print('Number of inconsistencies between LASTDATE_MONTHS and FIRSTDATE_MONTHS:', inconsist)"
   ]
  },
  {
   "cell_type": "code",
   "execution_count": 36,
   "metadata": {},
   "outputs": [
    {
     "name": "stdout",
     "output_type": "stream",
     "text": [
      "Number of inconsistencies between LASTDATE_MONTHS and ODATEDW_MONTHS: 3627\n",
      "Percentage of inconsistencies between LASTDATE_MONTHS and ODATEDW_MONTHS: 3.8014086278455537\n"
     ]
    }
   ],
   "source": [
    "# Checking for inconsistencies between LASTDATE_MONTHS and ODATEDW_MONTHS\n",
    "inconsist = (len(data [data ['LASTDATE_MONTHS'] > data['ODATEDW_MONTHS']]))\n",
    "print('Number of inconsistencies between LASTDATE_MONTHS and ODATEDW_MONTHS:', inconsist)\n",
    "print('Percentage of inconsistencies between LASTDATE_MONTHS and ODATEDW_MONTHS:', inconsist/len(data)*100)\n",
    "\n",
    "# The percentage of inconsistencies in ODATEDW_MONTHS is quite high - 3.8 %\n",
    "# So we have two columns with the same meaning:\n",
    "# ODATEDW (Date of donor's first gift to PVA YYMM format (Year/Month) and FISTDATE (Date of first gift)\n",
    "\n",
    "# and one of them (ODATEDW) is inconsistent with others - I suggest to not use this column\n"
   ]
  },
  {
   "cell_type": "markdown",
   "metadata": {},
   "source": [
    "#### Create column with the Recency, using an abreviation from metadata file (F, N, A, L, I donors)"
   ]
  },
  {
   "cell_type": "markdown",
   "metadata": {},
   "source": [
    "From the Project Forum:\n",
    "- You can assume RFA_2R is the correct one since the donors in the dataset are supposed to be lapsed ones. The lapsed donors in this dataset are determined according to the date the last promotion (17NK) was emailed to each one of them and the date of their most recent gift. Inconsistent observations are the ones which have an interval between these two dates smaller than 13 months\n",
    "- This dataset is supposed to be composed only by lapsed donors. Maybe we weren't very explicit on this but PVA is particularly interested on this segment of customers, hence the data being only from this segment. The observations you found are actually inconsistencies. You should deal with them somehow and provide an explanation on how you did it.\n",
    "https://elearning.novaims.unl.pt/moodle/mod/forum/discuss.php?d=6304\n"
   ]
  },
  {
   "cell_type": "code",
   "execution_count": 37,
   "metadata": {},
   "outputs": [
    {
     "name": "stdout",
     "output_type": "stream",
     "text": [
      "Number of lapsed donors donors:\n",
      "84132\n"
     ]
    }
   ],
   "source": [
    "data['RECENCY']= ''\n",
    "# Print Lapsed donours (that made their last donation to PVA 13 to 24 months ago )\n",
    "\n",
    "print('Number of lapsed donors donors:')\n",
    "print(len(data [(data ['LASTDATE_MONTHS'] >=13.0)& (data ['LASTDATE_MONTHS'] <= 24.0)]))\n",
    "data.loc[(data['LASTDATE_MONTHS'] >= 13.0)& (data['LASTDATE_MONTHS'] <= 24.0), 'RECENCY'] = 'L'"
   ]
  },
  {
   "cell_type": "code",
   "execution_count": 38,
   "metadata": {},
   "outputs": [
    {
     "name": "stdout",
     "output_type": "stream",
     "text": [
      "Number of first time donors donors:\n",
      "0\n"
     ]
    }
   ],
   "source": [
    "#  Print number of FIRST TIME DONOR donours (F=FIRST TIME DONOR Anyone who has made their first donation \n",
    "# in the last 6 months and has and has made just one donation.)\n",
    "\n",
    "print('Number of first time donors donors:')\n",
    "print(len(data [(data['FIRSTDATE_MONTHS'] <= 6.0) & ((data['NGIFTALL'] == 1))]))\n",
    "data.loc[(data['FIRSTDATE_MONTHS'] <= 6.0) & (data['NGIFTALL'] == 1), 'RECENCY'] = 'F'"
   ]
  },
  {
   "cell_type": "code",
   "execution_count": 39,
   "metadata": {},
   "outputs": [
    {
     "name": "stdout",
     "output_type": "stream",
     "text": [
      "Number of new donors:\n",
      "0\n"
     ]
    }
   ],
   "source": [
    "# N = NEW DONOR Anyone who has made their first donation in the last 12 months and is not a First time donor.  \n",
    "# This is everyone who made their first donation 7-12 months ago, or\n",
    "# people who made their first donation between 0-6 months ago and have made 2 or more donations.\n",
    "\n",
    "print('Number of new donors:')\n",
    "print(len(data.loc[(data['FIRSTDATE_MONTHS'] <= 12.0) & (data['RECENCY'] != 'F') ]))\n",
    "\n",
    "data.loc[(data['FIRSTDATE_MONTHS'] <= 12.0) & (data['RECENCY'] != 'F') ] = 'N'\n"
   ]
  },
  {
   "cell_type": "code",
   "execution_count": 40,
   "metadata": {},
   "outputs": [
    {
     "name": "stdout",
     "output_type": "stream",
     "text": [
      "Number of inactive donors:\n",
      "7315\n"
     ]
    }
   ],
   "source": [
    "# I=INACTIVE DONOR A previous donor who has not made a donation in the last 24 months.  \n",
    "# It is people who made a donation 25+ months ago.\n",
    "print('Number of inactive donors:')\n",
    "print(len(data.loc[(data['LASTDATE_MONTHS'] >= 25.0)&(data['FIRSTDATE_MONTHS'] >= 25.0)]))\n",
    "\n",
    "data.loc[(data['LASTDATE_MONTHS'] >= 25.0)&(data['FIRSTDATE_MONTHS'] >= 25.0), 'RECENCY'] = 'I'"
   ]
  },
  {
   "cell_type": "code",
   "execution_count": 41,
   "metadata": {},
   "outputs": [
    {
     "name": "stdout",
     "output_type": "stream",
     "text": [
      "Number of active donors:\n",
      "3965\n"
     ]
    }
   ],
   "source": [
    "# A=ACTIVE DONOR Anyone who made their first donation more than 12 months ago \n",
    "# and has made a donation in the last 12 months.\n",
    "\n",
    "print('Number of active donors:')\n",
    "print(len(data.loc[(data['FIRSTDATE_MONTHS'] >= 12.0) & (data['LASTDATE_MONTHS'] < 12.0)]))\n",
    "\n",
    "data.loc[(data['FIRSTDATE_MONTHS'] >= 12.0) & (data['LASTDATE_MONTHS'] < 12.0), 'RECENCY'] = 'A'"
   ]
  },
  {
   "cell_type": "code",
   "execution_count": 15,
   "metadata": {},
   "outputs": [],
   "source": [
    "# Drop ODATEDW as not needed anymore\n",
    "#data.drop(columns = ['ODATEDW', 'ODATEDW_MONTHS'])"
   ]
  },
  {
   "cell_type": "markdown",
   "metadata": {},
   "source": [
    "Despite fact that we should have only Lapsed donors in our dataset\n",
    "we have only 84132 lapsed, inactive - 7315  and active 3965.\n",
    "\n",
    "So we have 11.6 % of inconsistancies - donors that should be lapsed because of RFA_2 'L'\n",
    "but they are inactive or active"
   ]
  },
  {
   "cell_type": "code",
   "execution_count": 44,
   "metadata": {},
   "outputs": [
    {
     "name": "stdout",
     "output_type": "stream",
     "text": [
      "Number of not lapsed donors 11280\n",
      "Percentage of not lapsed donors 11.82241227518551\n"
     ]
    }
   ],
   "source": [
    "# Print number of re-calculated donors that are not lapsed at the moment of last promotion ADATE_2\n",
    "print('Number of not lapsed donors', len(data.loc[data.RECENCY != 'L']))\n",
    "print('Percentage of not lapsed donors', len(data.loc[data.RECENCY != 'L'])/len(data)*100)"
   ]
  },
  {
   "cell_type": "markdown",
   "metadata": {},
   "source": [
    "### So we have 11.8% of not lapsed donors in dataset that should consist only from lapsed ones. We can't drop such amount of data and I do not understand how to proceed"
   ]
  },
  {
   "cell_type": "markdown",
   "metadata": {},
   "source": [
    "Professor at forum:\n",
    "    You can assume RFA_2R is the correct one since the donors in the dataset are supposed to be lapsed ones.   \n",
    "    The observations you found are actually inconsistencies. \n",
    "    You should deal with them somehow and provide an explanation on how you did it.\n",
    "    \n",
    "At QandAnswers session they say completely different - to calculate these Recency all by ourselves, and decide for these few rows - but there are not few rows, it is 12 percent there \n",
    "\n",
    "So we are going to explore all these groups paying more attention to 'true' lapsed donors"
   ]
  },
  {
   "cell_type": "code",
   "execution_count": 45,
   "metadata": {},
   "outputs": [],
   "source": [
    "# Create Frequency and Amount columns for RFA analysis, using RFA_2 columns\n",
    "data['FREQUENCY'] = data.RFA_2F\n",
    "data['AMOUNT'] = data.RFA_2A"
   ]
  },
  {
   "cell_type": "code",
   "execution_count": null,
   "metadata": {},
   "outputs": [],
   "source": []
  },
  {
   "cell_type": "code",
   "execution_count": null,
   "metadata": {},
   "outputs": [],
   "source": []
  },
  {
   "cell_type": "code",
   "execution_count": null,
   "metadata": {},
   "outputs": [],
   "source": []
  },
  {
   "cell_type": "markdown",
   "metadata": {},
   "source": [
    "#### Checking for incontsistancies between date of first gift of a donor and his/her birhday date"
   ]
  },
  {
   "cell_type": "code",
   "execution_count": 18,
   "metadata": {},
   "outputs": [
    {
     "name": "stdout",
     "output_type": "stream",
     "text": [
      "Number of inconsistencies between ODATEDW and DOB 304\n"
     ]
    }
   ],
   "source": [
    "# Date of donor's first gift to PVA\n",
    "# cannot be earlier than his/her Date of Birthday (DOB)\n",
    "\n",
    "# From metadafata file - ODATEDW and FISTDATE have the same meaning:\n",
    "# ODATEDW Date of donor's first gift to PVA YYMM format (Year/Month) and FISTDATE Date of first gift\n",
    "\n",
    "# I use strict '<' not '<=' , thinking that some parents in the day of birth of his child could do first donation\n",
    "# from this child's name to PVA\n",
    "print ('Number of inconsistencies between ODATEDW and DOB', len(data[data.ODATEDW < data.DOB]))\n",
    "\n",
    "# As we see ODATEDW is not consistent with DOB"
   ]
  },
  {
   "cell_type": "code",
   "execution_count": 19,
   "metadata": {},
   "outputs": [
    {
     "name": "stdout",
     "output_type": "stream",
     "text": [
      "Number of inconsistencies between FISTDATE and DOB 278\n",
      "Percentage of inconsistencies between FISTDATE and DOB 0.29\n"
     ]
    }
   ],
   "source": [
    "# Same checking for FISTDATE\n",
    "print ('Number of inconsistencies between FISTDATE and DOB', len(data[data.FISTDATE < data.DOB]))\n",
    "print ('Percentage of inconsistencies between FISTDATE and DOB', \n",
    "       round(len(data[data.FISTDATE < data.DOB])/len(data)*100, 2))\n",
    "# With such small percent - I suggest to drop these rows"
   ]
  },
  {
   "cell_type": "markdown",
   "metadata": {},
   "source": [
    "##### CHECKING FOR INCONSISTENCIES IN TCODE"
   ]
  },
  {
   "cell_type": "code",
   "execution_count": 20,
   "metadata": {},
   "outputs": [],
   "source": [
    "dictTCODE = {\n",
    "    \"0\" : \"_\",\n",
    "    \"1\" : \"MR.\",\n",
    "    \"1001\" : \"MESSRS.\",\n",
    "    \"1002\" : \"MR. & MRS.\",\n",
    "    \"2\" : \"MRS.\",\n",
    "    \"2002\" : \"MESDAMES\",\n",
    "    \"3\" : \"MISS\",\n",
    "    \"3003\" : \"MISSES\",\n",
    "    \"4\" : \"DR.\",\n",
    "    \"4002\" : \"DR. & MRS.\",\n",
    "    \"4004\" : \"DOCTORS\",\n",
    "    \"5\" : \"MADAME\",\n",
    "    \"6\" : \"SERGEANT\",\n",
    "    \"9\" : \"RABBI\",\n",
    "    \"10\" : \"PROFESSOR\",\n",
    "    \"10002\" : \"PROFESSOR & MRS.\",\n",
    "    \"10010\" : \"PROFESSORS\",\n",
    "    \"11\" : \"ADMIRAL\",\n",
    "    \"11002\" : \"ADMIRAL & MRS.\",\n",
    "    \"12\" : \"GENERAL\",\n",
    "    \"12002\" : \"GENERAL & MRS.\",\n",
    "    \"13\" : \"COLONEL\",\n",
    "    \"13002\" : \"COLONEL & MRS.\",\n",
    "    \"14\" : \"CAPTAIN\",\n",
    "    \"14002\" : \"CAPTAIN & MRS.\",\n",
    "    \"15\" : \"COMMANDER\",\n",
    "    \"15002\" : \"COMMANDER & MRS.\",\n",
    "    \"16\" : \"DEAN\",\n",
    "    \"17\" : \"JUDGE\",\n",
    "    \"17002\" : \"JUDGE & MRS.\",\n",
    "    \"18\" : \"MAJOR\",\n",
    "    \"18002\" : \"MAJOR & MRS.\",\n",
    "    \"19\" : \"SENATOR\",\n",
    "    \"20\" : \"GOVERNOR\",\n",
    "    \"21002\" : \"SERGEANT & MRS.\",\n",
    "    \"22002\" : \"COLONEL & MRS.\", #mistype in COLONEL, was changed here\n",
    "    \"24002\" : \"LIEUTENANT & MRS.\", #XX002 code is used for someone & MRS.\n",
    "    \"24\" : \"LIEUTENANT\",\n",
    "    \"26\" : \"MONSIGNOR\",\n",
    "    \"27\" : \"REVEREND\",\n",
    "    \"28\" : \"MS.\",\n",
    "    \"28028\" : \"MSS.\",\n",
    "    \"29\" : \"BISHOP\",\n",
    "    \"31\" : \"AMBASSADOR\",\n",
    "    \"31002\" : \"AMBASSADOR & MRS.\",\n",
    "    \"33\" : \"CANTOR\",\n",
    "    \"36\" : \"BROTHER\",\n",
    "    \"37\" : \"SIR\",\n",
    "    \"38\" : \"COMMODORE\",\n",
    "    \"40\" : \"FATHER\",\n",
    "    \"42\" : \"SISTER\",\n",
    "    \"43\" : \"PRESIDENT\",\n",
    "    \"44\" : \"MASTER\",\n",
    "    \"46\" : \"MOTHER\",\n",
    "    \"47\" : \"CHAPLAIN\",\n",
    "    \"48\" : \"CORPORAL\",\n",
    "    \"50\" : \"ELDER\",\n",
    "    \"56\" : \"MAYOR\",\n",
    "    \"59002\" : \"LIEUTENANT & MRS.\",\n",
    "    \"62\" : \"LORD\",\n",
    "    \"63\" : \"CARDINAL\",\n",
    "    \"64\" : \"FRIEND\",\n",
    "    \"65\" : \"FRIENDS\",\n",
    "    \"68\" : \"ARCHDEACON\",\n",
    "    \"69\" : \"CANON\",\n",
    "    \"70\" : \"BISHOP\",\n",
    "    \"72002\" : \"REVEREND & MRS.\",\n",
    "    \"73\" : \"PASTOR\",\n",
    "    \"75\" : \"ARCHBISHOP\",\n",
    "    \"85\" : \"SPECIALIST\",\n",
    "    \"87\" : \"PRIVATE\",\n",
    "    \"89\" : \"SEAMAN\", \n",
    "    \"90\" : \"AIRMAN\",\n",
    "    \"91\" : \"JUSTICE\",\n",
    "    \"92\" : \"MR. JUSTICE\",\n",
    "    \"100\" : \"M.\",\n",
    "    \"103\" : \"MLLE.\",\n",
    "    \"104\" : \"CHANCELLOR\",\n",
    "    \"106\" : \"REPRESENTATIVE\",\n",
    "    \"107\" : \"SECRETARY\",\n",
    "    \"108\" : \"LT. GOVERNOR\",\n",
    "    \"109\" : \"LIC.\",\n",
    "    \"111\" : \"SA.\",\n",
    "    \"114\" : \"DA.\",\n",
    "    \"116\" : \"MR.\", #Changed SR ro MR\n",
    "    \"117\" : \"MRS.\", #Changed SRA ro MRS\n",
    "    \"118\" : \"MISS\", #Cnanged SRTA. to MISS\n",
    "    \"120\" : \"YOUR MAJESTY\",\n",
    "    \"122\" : \"HIS HIGHNESS\",\n",
    "    \"123\" : \"HER HIGHNESS\",\n",
    "    \"124\" : \"COUNT\",\n",
    "    \"125\" : \"LADY\",\n",
    "    \"126\" : \"PRINCE\",\n",
    "    \"127\" : \"PRINCESS\",\n",
    "    \"128\" : \"CHIEF\",\n",
    "    \"129\" : \"BARON\",\n",
    "    \"130\" : \"SHEIK\",\n",
    "    \"131\" : \"PRINCE AND PRINCESS\",\n",
    "    \"132\" : \"YOUR IMPERIAL MAJEST\",\n",
    "    \"135\" : \"M. ET MME.\",\n",
    "    \"210\" : \"PROF.\",\n",
    "    '72': 'REVEREND', #because code 72002 REVEREND AND MRS, I think it was 072 and 027 for REVEREND \n",
    "    #because some systematic mistake (mistype), and in the end someone changed it in system\n",
    "    '22': \"COLONEL & MRS.\", #just a mistype,\n",
    "    \n",
    "}"
   ]
  },
  {
   "cell_type": "code",
   "execution_count": 21,
   "metadata": {},
   "outputs": [],
   "source": [
    "data['TCODE'] = data['TCODE'].apply(str)\n",
    "\n",
    "data[\"cat_TCODE\"] = data.TCODE.replace(to_replace=dictTCODE)"
   ]
  },
  {
   "cell_type": "markdown",
   "metadata": {},
   "source": [
    "CHECKING FOR INCONSISTENCIES IN TCODE\n",
    "- wrote down in doc all summary"
   ]
  },
  {
   "cell_type": "code",
   "execution_count": 22,
   "metadata": {},
   "outputs": [
    {
     "name": "stdout",
     "output_type": "stream",
     "text": [
      "Number of Men(GENDER M) with title MRS.(Mrs - womans title of married woman) 3412\n",
      "Number of men with title MISS (title of young or unmarried woman) 34\n",
      "Number of men with title MS. (title of married or not married woman) 216\n",
      "Number of women with title MR. (stays for mister, mans title) 255\n",
      "Number of men with title Sister 1\n",
      "Number of women with title Brother 0\n",
      "Number of women with title MR. & MRS., that implies that they should be men 46\n"
     ]
    }
   ],
   "source": [
    "# CHECKING FOR INCONSISTENCIES IN TCODE\n",
    "print('Number of Men(GENDER M) with title MRS.(Mrs - womans title of married woman)', \n",
    "      len(data[(data.GENDER == 'M')&(data.cat_TCODE == 'MRS.')]))\n",
    "print('Number of men with title MISS (title of young or unmarried woman)', \n",
    "      len(data[(data.GENDER == 'M')&(data.cat_TCODE == 'MISS')]))\n",
    "print('Number of men with title MS. (title of married or not married woman)', \n",
    "      len(data[(data.GENDER == 'M')&(data.cat_TCODE == 'MS.')]))\n",
    "print('Number of women with title MR. (stays for mister, mans title)', \n",
    "      len(data[(data.GENDER == 'F')&(data.cat_TCODE == 'MR.')]))\n",
    "print('Number of men with title Sister', \n",
    "      len(data[(data.GENDER == 'M')&(data.cat_TCODE == 'SISTER')]))\n",
    "print('Number of women with title Brother', \n",
    "      len(data[(data.GENDER == 'F')&(data.cat_TCODE == 'BROTHER')]))\n",
    "#women (F) that has code 'MR. & MRS.' that implies that they should be me\n",
    "print('Number of women with title MR. & MRS., that implies that they should be men',\n",
    "      len(data[(data.GENDER == 'F')&(data.cat_TCODE == 'MR. & MRS.')]))"
   ]
  },
  {
   "cell_type": "code",
   "execution_count": null,
   "metadata": {},
   "outputs": [],
   "source": []
  },
  {
   "cell_type": "code",
   "execution_count": null,
   "metadata": {},
   "outputs": [],
   "source": []
  },
  {
   "cell_type": "code",
   "execution_count": null,
   "metadata": {},
   "outputs": [],
   "source": []
  },
  {
   "cell_type": "code",
   "execution_count": null,
   "metadata": {},
   "outputs": [],
   "source": []
  },
  {
   "cell_type": "code",
   "execution_count": null,
   "metadata": {},
   "outputs": [],
   "source": []
  },
  {
   "cell_type": "code",
   "execution_count": null,
   "metadata": {},
   "outputs": [],
   "source": []
  }
 ],
 "metadata": {
  "kernelspec": {
   "display_name": "Python 3",
   "language": "python",
   "name": "python3"
  },
  "language_info": {
   "codemirror_mode": {
    "name": "ipython",
    "version": 3
   },
   "file_extension": ".py",
   "mimetype": "text/x-python",
   "name": "python",
   "nbconvert_exporter": "python",
   "pygments_lexer": "ipython3",
   "version": "3.8.3"
  }
 },
 "nbformat": 4,
 "nbformat_minor": 4
}
