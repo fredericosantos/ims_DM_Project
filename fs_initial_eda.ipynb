{
 "cells": [
  {
   "cell_type": "code",
   "execution_count": 2,
   "metadata": {},
   "outputs": [],
   "source": [
    "import sqlite3\n",
    "import os\n",
    "import pandas as pd\n",
    "import numpy as np\n",
    "import matplotlib.pyplot as plt\n",
    "import seaborn as sns\n",
    "from pandas_profiling import ProfileReport\n",
    "import sklearn as sk\n",
    "import dtale"
   ]
  },
  {
   "cell_type": "code",
   "execution_count": 6,
   "metadata": {},
   "outputs": [],
   "source": [
    "# df = pd.read_csv(\"donors.csv\", low_memory=False).drop(columns=\"Unnamed: 0\")\n",
    "# df.to_pickle(\"donors.pkl\")"
   ]
  },
  {
   "cell_type": "code",
   "execution_count": 7,
   "metadata": {},
   "outputs": [],
   "source": [
    "df = pd.read_pickle(\"donors.pkl\")"
   ]
  },
  {
   "cell_type": "code",
   "execution_count": null,
   "metadata": {},
   "outputs": [],
   "source": [
    "# dtale.show(df)"
   ]
  },
  {
   "cell_type": "code",
   "execution_count": 8,
   "metadata": {},
   "outputs": [],
   "source": [
    "sample_df = df.iloc[:1000, :].copy()"
   ]
  },
  {
   "cell_type": "markdown",
   "metadata": {},
   "source": [
    "# EDA"
   ]
  },
  {
   "cell_type": "code",
   "execution_count": 9,
   "metadata": {},
   "outputs": [],
   "source": [
    "# The following variables indicate the number of\n",
    "# known times the donor has responded to other\n",
    "# types of mail order offers.\n",
    "\n",
    "groupMailOffers = sample_df.loc[:, \"MBCRAFT\":\"PUBOPP\"].columns.to_list()\n",
    "\n",
    "# dtale.show(sample_df[mailOrderOffers])\n",
    "\n",
    "for col in groupMailOffers:\n",
    "    sample_df[col] = sample_df[col].fillna(0).astype(np.int16)"
   ]
  },
  {
   "cell_type": "code",
   "execution_count": 16,
   "metadata": {},
   "outputs": [],
   "source": [
    "\n",
    "groupMDMAUD = [col for col in sample_df.columns.to_list() if \"MDMAUD\" in col]\n",
    "groupRAMNT = [col for col in sample_df.columns.to_list() if \"RAMNT\" in col]"
   ]
  },
  {
   "cell_type": "code",
   "execution_count": 20,
   "metadata": {},
   "outputs": [
    {
     "data": {
      "text/plain": [
       "0       NaN\n",
       "1       NaN\n",
       "2       NaN\n",
       "3      10.0\n",
       "4       NaN\n",
       "       ... \n",
       "995     NaN\n",
       "996     NaN\n",
       "997     NaN\n",
       "998     NaN\n",
       "999     NaN\n",
       "Name: RAMNT_11, Length: 1000, dtype: float64"
      ]
     },
     "execution_count": 20,
     "metadata": {},
     "output_type": "execute_result"
    }
   ],
   "source": [
    "sample_df['RAMNT_11']"
   ]
  },
  {
   "cell_type": "code",
   "execution_count": 45,
   "metadata": {},
   "outputs": [
    {
     "data": {
      "text/plain": [
       "{'MDMAUD': ['MDMAUD', 'MDMAUD_R', 'MDMAUD_F', 'MDMAUD_A'],\n",
       " 'RAMNT': ['RAMNT_3',\n",
       "  'RAMNT_4',\n",
       "  'RAMNT_5',\n",
       "  'RAMNT_6',\n",
       "  'RAMNT_7',\n",
       "  'RAMNT_8',\n",
       "  'RAMNT_9',\n",
       "  'RAMNT_10',\n",
       "  'RAMNT_11',\n",
       "  'RAMNT_12',\n",
       "  'RAMNT_13',\n",
       "  'RAMNT_14',\n",
       "  'RAMNT_15',\n",
       "  'RAMNT_16',\n",
       "  'RAMNT_17',\n",
       "  'RAMNT_18',\n",
       "  'RAMNT_19',\n",
       "  'RAMNT_20',\n",
       "  'RAMNT_21',\n",
       "  'RAMNT_22',\n",
       "  'RAMNT_23',\n",
       "  'RAMNT_24',\n",
       "  'RAMNTALL',\n",
       "  'MINRAMNT',\n",
       "  'MAXRAMNT']}"
      ]
     },
     "execution_count": 45,
     "metadata": {},
     "output_type": "execute_result"
    }
   ],
   "source": [
    "namesToGroup = [\"MDMAUD\", \"RAMNT\"]\n",
    "(dictGroups := {name: [col for col in sample_df.columns.to_list() if name in col] for name in namesToGroup})"
   ]
  },
  {
   "cell_type": "code",
   "execution_count": 73,
   "metadata": {},
   "outputs": [
    {
     "data": {
      "text/html": [
       "<div>\n",
       "<style scoped>\n",
       "    .dataframe tbody tr th:only-of-type {\n",
       "        vertical-align: middle;\n",
       "    }\n",
       "\n",
       "    .dataframe tbody tr th {\n",
       "        vertical-align: top;\n",
       "    }\n",
       "\n",
       "    .dataframe thead th {\n",
       "        text-align: right;\n",
       "    }\n",
       "</style>\n",
       "<table border=\"1\" class=\"dataframe\">\n",
       "  <thead>\n",
       "    <tr style=\"text-align: right;\">\n",
       "      <th></th>\n",
       "      <th>RFA_2</th>\n",
       "      <th>MDMAUD</th>\n",
       "    </tr>\n",
       "  </thead>\n",
       "  <tbody>\n",
       "    <tr>\n",
       "      <th>0</th>\n",
       "      <td>L4E</td>\n",
       "      <td>XXXX</td>\n",
       "    </tr>\n",
       "    <tr>\n",
       "      <th>1</th>\n",
       "      <td>L2G</td>\n",
       "      <td>XXXX</td>\n",
       "    </tr>\n",
       "    <tr>\n",
       "      <th>2</th>\n",
       "      <td>L4E</td>\n",
       "      <td>XXXX</td>\n",
       "    </tr>\n",
       "    <tr>\n",
       "      <th>3</th>\n",
       "      <td>L4E</td>\n",
       "      <td>XXXX</td>\n",
       "    </tr>\n",
       "    <tr>\n",
       "      <th>4</th>\n",
       "      <td>L2F</td>\n",
       "      <td>XXXX</td>\n",
       "    </tr>\n",
       "    <tr>\n",
       "      <th>...</th>\n",
       "      <td>...</td>\n",
       "      <td>...</td>\n",
       "    </tr>\n",
       "    <tr>\n",
       "      <th>995</th>\n",
       "      <td>L2F</td>\n",
       "      <td>XXXX</td>\n",
       "    </tr>\n",
       "    <tr>\n",
       "      <th>996</th>\n",
       "      <td>L1G</td>\n",
       "      <td>XXXX</td>\n",
       "    </tr>\n",
       "    <tr>\n",
       "      <th>997</th>\n",
       "      <td>L1F</td>\n",
       "      <td>XXXX</td>\n",
       "    </tr>\n",
       "    <tr>\n",
       "      <th>998</th>\n",
       "      <td>L4D</td>\n",
       "      <td>XXXX</td>\n",
       "    </tr>\n",
       "    <tr>\n",
       "      <th>999</th>\n",
       "      <td>L1F</td>\n",
       "      <td>XXXX</td>\n",
       "    </tr>\n",
       "  </tbody>\n",
       "</table>\n",
       "<p>1000 rows × 2 columns</p>\n",
       "</div>"
      ],
      "text/plain": [
       "    RFA_2 MDMAUD\n",
       "0     L4E   XXXX\n",
       "1     L2G   XXXX\n",
       "2     L4E   XXXX\n",
       "3     L4E   XXXX\n",
       "4     L2F   XXXX\n",
       "..    ...    ...\n",
       "995   L2F   XXXX\n",
       "996   L1G   XXXX\n",
       "997   L1F   XXXX\n",
       "998   L4D   XXXX\n",
       "999   L1F   XXXX\n",
       "\n",
       "[1000 rows x 2 columns]"
      ]
     },
     "execution_count": 73,
     "metadata": {},
     "output_type": "execute_result"
    }
   ],
   "source": [
    "sample_df[['RFA_2', 'MDMAUD']]"
   ]
  },
  {
   "cell_type": "code",
   "execution_count": 61,
   "metadata": {},
   "outputs": [],
   "source": [
    "toReorder = [\"ADATE\", \"RFA\", \"RDATE\", \"RAMNT\"]\n",
    "reorderedCols = []\n",
    "for i in range(3, 25):\n",
    "    reorderedCols += [str(col)+\"_\"+str(i) for col in toReorder]\n",
    "reorderedCols = [\"ADATE_2\", \"RFA_2\"] + reorderedCols\n",
    "\n",
    "dictIdx = {col: sample_df.columns.get_loc(col) for col in reorderedCols}\n",
    "\n",
    "temp = sample_df[dictIdx.keys()].copy()\n",
    "sample_df.drop(columns=dictIdx.keys(), inplace=True)\n",
    "\n",
    "for key in dictIdx.keys():\n",
    "    sample_df[key] = temp[key]"
   ]
  },
  {
   "cell_type": "code",
   "execution_count": 74,
   "metadata": {},
   "outputs": [
    {
     "data": {
      "text/html": [
       "<div>\n",
       "<style scoped>\n",
       "    .dataframe tbody tr th:only-of-type {\n",
       "        vertical-align: middle;\n",
       "    }\n",
       "\n",
       "    .dataframe tbody tr th {\n",
       "        vertical-align: top;\n",
       "    }\n",
       "\n",
       "    .dataframe thead th {\n",
       "        text-align: right;\n",
       "    }\n",
       "</style>\n",
       "<table border=\"1\" class=\"dataframe\">\n",
       "  <thead>\n",
       "    <tr style=\"text-align: right;\">\n",
       "      <th></th>\n",
       "      <th>ODATEDW</th>\n",
       "      <th>OSOURCE</th>\n",
       "      <th>TCODE</th>\n",
       "      <th>STATE</th>\n",
       "      <th>ZIP</th>\n",
       "      <th>MAILCODE</th>\n",
       "      <th>PVASTATE</th>\n",
       "      <th>DOB</th>\n",
       "      <th>NOEXCH</th>\n",
       "      <th>RECINHSE</th>\n",
       "      <th>...</th>\n",
       "      <th>RDATE_22</th>\n",
       "      <th>RAMNT_22</th>\n",
       "      <th>ADATE_23</th>\n",
       "      <th>RFA_23</th>\n",
       "      <th>RDATE_23</th>\n",
       "      <th>RAMNT_23</th>\n",
       "      <th>ADATE_24</th>\n",
       "      <th>RFA_24</th>\n",
       "      <th>RDATE_24</th>\n",
       "      <th>RAMNT_24</th>\n",
       "    </tr>\n",
       "  </thead>\n",
       "  <tbody>\n",
       "    <tr>\n",
       "      <th>0</th>\n",
       "      <td>2009-01-01</td>\n",
       "      <td>GRI</td>\n",
       "      <td>0</td>\n",
       "      <td>IL</td>\n",
       "      <td>61081</td>\n",
       "      <td></td>\n",
       "      <td></td>\n",
       "      <td>1957-12-01</td>\n",
       "      <td>0</td>\n",
       "      <td></td>\n",
       "      <td>...</td>\n",
       "      <td>NaN</td>\n",
       "      <td>NaN</td>\n",
       "      <td>2014-07-01</td>\n",
       "      <td>S4E</td>\n",
       "      <td>2014-08-01</td>\n",
       "      <td>11.0</td>\n",
       "      <td>2014-06-01</td>\n",
       "      <td>S4E</td>\n",
       "      <td>2014-06-01</td>\n",
       "      <td>9.0</td>\n",
       "    </tr>\n",
       "    <tr>\n",
       "      <th>1</th>\n",
       "      <td>2014-01-01</td>\n",
       "      <td>BOA</td>\n",
       "      <td>1</td>\n",
       "      <td>CA</td>\n",
       "      <td>91326</td>\n",
       "      <td></td>\n",
       "      <td></td>\n",
       "      <td>1972-02-01</td>\n",
       "      <td>0</td>\n",
       "      <td></td>\n",
       "      <td>...</td>\n",
       "      <td>NaN</td>\n",
       "      <td>NaN</td>\n",
       "      <td>NaN</td>\n",
       "      <td></td>\n",
       "      <td>NaN</td>\n",
       "      <td>NaN</td>\n",
       "      <td>2014-06-01</td>\n",
       "      <td>F1E</td>\n",
       "      <td>NaN</td>\n",
       "      <td>NaN</td>\n",
       "    </tr>\n",
       "    <tr>\n",
       "      <th>2</th>\n",
       "      <td>2010-01-01</td>\n",
       "      <td>AMH</td>\n",
       "      <td>1</td>\n",
       "      <td>NC</td>\n",
       "      <td>27017</td>\n",
       "      <td></td>\n",
       "      <td></td>\n",
       "      <td>NaN</td>\n",
       "      <td>0</td>\n",
       "      <td></td>\n",
       "      <td>...</td>\n",
       "      <td>2014-09-01</td>\n",
       "      <td>8.0</td>\n",
       "      <td>2014-07-01</td>\n",
       "      <td>S4D</td>\n",
       "      <td>2014-07-01</td>\n",
       "      <td>7.0</td>\n",
       "      <td>2014-06-01</td>\n",
       "      <td>S3D</td>\n",
       "      <td>2014-06-01</td>\n",
       "      <td>6.0</td>\n",
       "    </tr>\n",
       "    <tr>\n",
       "      <th>3</th>\n",
       "      <td>2007-01-01</td>\n",
       "      <td>BRY</td>\n",
       "      <td>0</td>\n",
       "      <td>CA</td>\n",
       "      <td>95953</td>\n",
       "      <td></td>\n",
       "      <td></td>\n",
       "      <td>1948-01-01</td>\n",
       "      <td>0</td>\n",
       "      <td></td>\n",
       "      <td>...</td>\n",
       "      <td>NaN</td>\n",
       "      <td>NaN</td>\n",
       "      <td>NaN</td>\n",
       "      <td></td>\n",
       "      <td>NaN</td>\n",
       "      <td>NaN</td>\n",
       "      <td>NaN</td>\n",
       "      <td></td>\n",
       "      <td>NaN</td>\n",
       "      <td>NaN</td>\n",
       "    </tr>\n",
       "    <tr>\n",
       "      <th>4</th>\n",
       "      <td>2006-01-01</td>\n",
       "      <td></td>\n",
       "      <td>0</td>\n",
       "      <td>FL</td>\n",
       "      <td>33176</td>\n",
       "      <td></td>\n",
       "      <td></td>\n",
       "      <td>1940-01-01</td>\n",
       "      <td>0</td>\n",
       "      <td>X</td>\n",
       "      <td>...</td>\n",
       "      <td>NaN</td>\n",
       "      <td>NaN</td>\n",
       "      <td>2014-07-01</td>\n",
       "      <td>A3D</td>\n",
       "      <td>NaN</td>\n",
       "      <td>NaN</td>\n",
       "      <td>2014-06-01</td>\n",
       "      <td>A3D</td>\n",
       "      <td>NaN</td>\n",
       "      <td>NaN</td>\n",
       "    </tr>\n",
       "  </tbody>\n",
       "</table>\n",
       "<p>5 rows × 475 columns</p>\n",
       "</div>"
      ],
      "text/plain": [
       "      ODATEDW OSOURCE  TCODE STATE    ZIP MAILCODE PVASTATE         DOB  \\\n",
       "0  2009-01-01     GRI      0    IL  61081                    1957-12-01   \n",
       "1  2014-01-01     BOA      1    CA  91326                    1972-02-01   \n",
       "2  2010-01-01     AMH      1    NC  27017                           NaN   \n",
       "3  2007-01-01     BRY      0    CA  95953                    1948-01-01   \n",
       "4  2006-01-01              0    FL  33176                    1940-01-01   \n",
       "\n",
       "  NOEXCH RECINHSE  ...    RDATE_22 RAMNT_22    ADATE_23 RFA_23    RDATE_23  \\\n",
       "0      0           ...         NaN      NaN  2014-07-01    S4E  2014-08-01   \n",
       "1      0           ...         NaN      NaN         NaN                NaN   \n",
       "2      0           ...  2014-09-01      8.0  2014-07-01    S4D  2014-07-01   \n",
       "3      0           ...         NaN      NaN         NaN                NaN   \n",
       "4      0        X  ...         NaN      NaN  2014-07-01    A3D         NaN   \n",
       "\n",
       "  RAMNT_23    ADATE_24 RFA_24    RDATE_24 RAMNT_24  \n",
       "0     11.0  2014-06-01    S4E  2014-06-01      9.0  \n",
       "1      NaN  2014-06-01    F1E         NaN      NaN  \n",
       "2      7.0  2014-06-01    S3D  2014-06-01      6.0  \n",
       "3      NaN         NaN                NaN      NaN  \n",
       "4      NaN  2014-06-01    A3D         NaN      NaN  \n",
       "\n",
       "[5 rows x 475 columns]"
      ]
     },
     "execution_count": 74,
     "metadata": {},
     "output_type": "execute_result"
    }
   ],
   "source": [
    "sample_df.head()"
   ]
  },
  {
   "cell_type": "code",
   "execution_count": 75,
   "metadata": {},
   "outputs": [
    {
     "data": {
      "text/html": [
       "\n",
       "        <iframe\n",
       "            width=\"100%\"\n",
       "            height=\"475\"\n",
       "            src=\"http://FSX-UBUNTU:40000/dtale/iframe/1\"\n",
       "            frameborder=\"0\"\n",
       "            allowfullscreen\n",
       "        ></iframe>\n",
       "        "
      ],
      "text/plain": [
       "<IPython.lib.display.IFrame at 0x7f31b0964df0>"
      ]
     },
     "metadata": {},
     "output_type": "display_data"
    },
    {
     "data": {
      "text/plain": []
     },
     "execution_count": 75,
     "metadata": {},
     "output_type": "execute_result"
    }
   ],
   "source": [
    "dtale.show(sample_df)"
   ]
  },
  {
   "cell_type": "code",
   "execution_count": null,
   "metadata": {},
   "outputs": [],
   "source": []
  },
  {
   "cell_type": "code",
   "execution_count": null,
   "metadata": {},
   "outputs": [],
   "source": []
  }
 ],
 "metadata": {
  "kernelspec": {
   "display_name": "Python [conda env:ims_DM]",
   "language": "python",
   "name": "conda-env-ims_DM-py"
  },
  "language_info": {
   "codemirror_mode": {
    "name": "ipython",
    "version": 3
   },
   "file_extension": ".py",
   "mimetype": "text/x-python",
   "name": "python",
   "nbconvert_exporter": "python",
   "pygments_lexer": "ipython3",
   "version": "3.8.5"
  }
 },
 "nbformat": 4,
 "nbformat_minor": 4
}
