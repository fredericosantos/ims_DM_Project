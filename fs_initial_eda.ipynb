{
 "cells": [
  {
   "cell_type": "code",
   "execution_count": 1,
   "metadata": {},
   "outputs": [],
   "source": [
    "import sqlite3\n",
    "import os\n",
    "import pandas as pd\n",
    "import numpy as np\n",
    "import matplotlib.pyplot as plt\n",
    "import seaborn as sns\n",
    "from pandas_profiling import ProfileReport\n",
    "import sklearn as sk\n",
    "import dtale\n",
    "%config Completer.use_jedi = True"
   ]
  },
  {
   "cell_type": "code",
   "execution_count": 2,
   "metadata": {},
   "outputs": [],
   "source": [
    "# df = pd.read_csv(\"donors.csv\", low_memory=False).drop(columns=\"Unnamed: 0\")\n",
    "# df.to_pickle(\"donors.pkl\")\n",
    "# sample = df.iloc[:1000, :].copy()\n",
    "# sample.to_pickle(\"sample.pkl\")"
   ]
  },
  {
   "cell_type": "code",
   "execution_count": 3,
   "metadata": {},
   "outputs": [],
   "source": [
    "df = pd.read_pickle(\"donors.pkl\")\n",
    "sample = pd.read_pickle(\"sample.pkl\")"
   ]
  },
  {
   "cell_type": "markdown",
   "metadata": {},
   "source": [
    "# EDA DONE"
   ]
  },
  {
   "cell_type": "code",
   "execution_count": 4,
   "metadata": {},
   "outputs": [],
   "source": [
    "# The following variables indicate the number of\n",
    "# known times the donor has responded to other\n",
    "# types of mail order offers.\n",
    "\n",
    "groupMailOffers = sample.loc[:, \"MBCRAFT\":\"PUBOPP\"].columns.to_list()\n",
    "\n",
    "# dtale.show(sample[mailOrderOffers])\n",
    "\n",
    "for col in groupMailOffers:\n",
    "    sample[col] = sample[col].fillna(0).astype(np.int16)"
   ]
  },
  {
   "cell_type": "code",
   "execution_count": 5,
   "metadata": {},
   "outputs": [
    {
     "name": "stdout",
     "output_type": "stream",
     "text": [
      "['MDMAUD', 'MDMAUD_R', 'MDMAUD_F', 'MDMAUD_A']\n"
     ]
    }
   ],
   "source": [
    "searchName = \"MDMAUD\"\n",
    "namesToGroup = [col for col in sample.columns.to_list() if searchName in col]\n",
    "print(namesToGroup)"
   ]
  },
  {
   "cell_type": "code",
   "execution_count": 6,
   "metadata": {},
   "outputs": [],
   "source": [
    "for name in namesToGroup:\n",
    "    setattr(sample, name, sample[name].str.replace(\"X\", \"\").replace(\"\", np.nan))"
   ]
  },
  {
   "cell_type": "code",
   "execution_count": 7,
   "metadata": {},
   "outputs": [],
   "source": [
    "# MAJOR\n",
    "namesToGroup = [\"MAJOR\"] + namesToGroup\n",
    "sample.MAJOR.replace({\"X\": True, \" \": False}, inplace=True)"
   ]
  },
  {
   "cell_type": "code",
   "execution_count": 8,
   "metadata": {},
   "outputs": [
    {
     "data": {
      "text/html": [
       "<div>\n",
       "<style scoped>\n",
       "    .dataframe tbody tr th:only-of-type {\n",
       "        vertical-align: middle;\n",
       "    }\n",
       "\n",
       "    .dataframe tbody tr th {\n",
       "        vertical-align: top;\n",
       "    }\n",
       "\n",
       "    .dataframe thead th {\n",
       "        text-align: right;\n",
       "    }\n",
       "</style>\n",
       "<table border=\"1\" class=\"dataframe\">\n",
       "  <thead>\n",
       "    <tr style=\"text-align: right;\">\n",
       "      <th></th>\n",
       "      <th>MAJOR</th>\n",
       "      <th>MDMAUD</th>\n",
       "      <th>MDMAUD_R</th>\n",
       "      <th>MDMAUD_F</th>\n",
       "      <th>MDMAUD_A</th>\n",
       "      <th>RFA_2</th>\n",
       "      <th>RFA_2R</th>\n",
       "      <th>RFA_2F</th>\n",
       "      <th>RFA_2A</th>\n",
       "    </tr>\n",
       "  </thead>\n",
       "  <tbody>\n",
       "    <tr>\n",
       "      <th>0</th>\n",
       "      <td>False</td>\n",
       "      <td>NaN</td>\n",
       "      <td>NaN</td>\n",
       "      <td>NaN</td>\n",
       "      <td>NaN</td>\n",
       "      <td>L4E</td>\n",
       "      <td>L</td>\n",
       "      <td>4</td>\n",
       "      <td>E</td>\n",
       "    </tr>\n",
       "    <tr>\n",
       "      <th>1</th>\n",
       "      <td>False</td>\n",
       "      <td>NaN</td>\n",
       "      <td>NaN</td>\n",
       "      <td>NaN</td>\n",
       "      <td>NaN</td>\n",
       "      <td>L2G</td>\n",
       "      <td>L</td>\n",
       "      <td>2</td>\n",
       "      <td>G</td>\n",
       "    </tr>\n",
       "    <tr>\n",
       "      <th>2</th>\n",
       "      <td>False</td>\n",
       "      <td>NaN</td>\n",
       "      <td>NaN</td>\n",
       "      <td>NaN</td>\n",
       "      <td>NaN</td>\n",
       "      <td>L4E</td>\n",
       "      <td>L</td>\n",
       "      <td>4</td>\n",
       "      <td>E</td>\n",
       "    </tr>\n",
       "    <tr>\n",
       "      <th>3</th>\n",
       "      <td>False</td>\n",
       "      <td>NaN</td>\n",
       "      <td>NaN</td>\n",
       "      <td>NaN</td>\n",
       "      <td>NaN</td>\n",
       "      <td>L4E</td>\n",
       "      <td>L</td>\n",
       "      <td>4</td>\n",
       "      <td>E</td>\n",
       "    </tr>\n",
       "    <tr>\n",
       "      <th>4</th>\n",
       "      <td>False</td>\n",
       "      <td>NaN</td>\n",
       "      <td>NaN</td>\n",
       "      <td>NaN</td>\n",
       "      <td>NaN</td>\n",
       "      <td>L2F</td>\n",
       "      <td>L</td>\n",
       "      <td>2</td>\n",
       "      <td>F</td>\n",
       "    </tr>\n",
       "    <tr>\n",
       "      <th>...</th>\n",
       "      <td>...</td>\n",
       "      <td>...</td>\n",
       "      <td>...</td>\n",
       "      <td>...</td>\n",
       "      <td>...</td>\n",
       "      <td>...</td>\n",
       "      <td>...</td>\n",
       "      <td>...</td>\n",
       "      <td>...</td>\n",
       "    </tr>\n",
       "    <tr>\n",
       "      <th>995</th>\n",
       "      <td>False</td>\n",
       "      <td>NaN</td>\n",
       "      <td>NaN</td>\n",
       "      <td>NaN</td>\n",
       "      <td>NaN</td>\n",
       "      <td>L2F</td>\n",
       "      <td>L</td>\n",
       "      <td>2</td>\n",
       "      <td>F</td>\n",
       "    </tr>\n",
       "    <tr>\n",
       "      <th>996</th>\n",
       "      <td>False</td>\n",
       "      <td>NaN</td>\n",
       "      <td>NaN</td>\n",
       "      <td>NaN</td>\n",
       "      <td>NaN</td>\n",
       "      <td>L1G</td>\n",
       "      <td>L</td>\n",
       "      <td>1</td>\n",
       "      <td>G</td>\n",
       "    </tr>\n",
       "    <tr>\n",
       "      <th>997</th>\n",
       "      <td>False</td>\n",
       "      <td>NaN</td>\n",
       "      <td>NaN</td>\n",
       "      <td>NaN</td>\n",
       "      <td>NaN</td>\n",
       "      <td>L1F</td>\n",
       "      <td>L</td>\n",
       "      <td>1</td>\n",
       "      <td>F</td>\n",
       "    </tr>\n",
       "    <tr>\n",
       "      <th>998</th>\n",
       "      <td>False</td>\n",
       "      <td>NaN</td>\n",
       "      <td>NaN</td>\n",
       "      <td>NaN</td>\n",
       "      <td>NaN</td>\n",
       "      <td>L4D</td>\n",
       "      <td>L</td>\n",
       "      <td>4</td>\n",
       "      <td>D</td>\n",
       "    </tr>\n",
       "    <tr>\n",
       "      <th>999</th>\n",
       "      <td>False</td>\n",
       "      <td>NaN</td>\n",
       "      <td>NaN</td>\n",
       "      <td>NaN</td>\n",
       "      <td>NaN</td>\n",
       "      <td>L1F</td>\n",
       "      <td>L</td>\n",
       "      <td>1</td>\n",
       "      <td>F</td>\n",
       "    </tr>\n",
       "  </tbody>\n",
       "</table>\n",
       "<p>1000 rows × 9 columns</p>\n",
       "</div>"
      ],
      "text/plain": [
       "     MAJOR MDMAUD MDMAUD_R MDMAUD_F MDMAUD_A RFA_2 RFA_2R  RFA_2F RFA_2A\n",
       "0    False    NaN      NaN      NaN      NaN   L4E      L       4      E\n",
       "1    False    NaN      NaN      NaN      NaN   L2G      L       2      G\n",
       "2    False    NaN      NaN      NaN      NaN   L4E      L       4      E\n",
       "3    False    NaN      NaN      NaN      NaN   L4E      L       4      E\n",
       "4    False    NaN      NaN      NaN      NaN   L2F      L       2      F\n",
       "..     ...    ...      ...      ...      ...   ...    ...     ...    ...\n",
       "995  False    NaN      NaN      NaN      NaN   L2F      L       2      F\n",
       "996  False    NaN      NaN      NaN      NaN   L1G      L       1      G\n",
       "997  False    NaN      NaN      NaN      NaN   L1F      L       1      F\n",
       "998  False    NaN      NaN      NaN      NaN   L4D      L       4      D\n",
       "999  False    NaN      NaN      NaN      NaN   L1F      L       1      F\n",
       "\n",
       "[1000 rows x 9 columns]"
      ]
     },
     "execution_count": 8,
     "metadata": {},
     "output_type": "execute_result"
    }
   ],
   "source": [
    "# RFA_2\n",
    "groupRFA_2 = [\"RFA_2\", \"RFA_2R\", \"RFA_2F\", \"RFA_2A\"]\n",
    "namesToGroup += groupRFA_2\n",
    "sample[namesToGroup]"
   ]
  },
  {
   "cell_type": "code",
   "execution_count": 9,
   "metadata": {},
   "outputs": [],
   "source": [
    "# TODO: Create categorical orders\n",
    "for c in namesToGroup:\n",
    "    sample[c] = pd.Categorical(sample[c])"
   ]
  },
  {
   "cell_type": "code",
   "execution_count": 10,
   "metadata": {},
   "outputs": [
    {
     "data": {
      "text/plain": [
       "MAJOR       category\n",
       "MDMAUD      category\n",
       "MDMAUD_R    category\n",
       "MDMAUD_F    category\n",
       "MDMAUD_A    category\n",
       "RFA_2       category\n",
       "RFA_2R      category\n",
       "RFA_2F      category\n",
       "RFA_2A      category\n",
       "dtype: object"
      ]
     },
     "execution_count": 10,
     "metadata": {},
     "output_type": "execute_result"
    }
   ],
   "source": [
    "sample[namesToGroup].dtypes"
   ]
  },
  {
   "cell_type": "code",
   "execution_count": 11,
   "metadata": {},
   "outputs": [],
   "source": [
    "toReorder = [\"ADATE\", \"RFA\", \"RDATE\", \"RAMNT\"]\n",
    "reorderedCols = []\n",
    "for i in range(3, 25):\n",
    "    reorderedCols += [str(col)+\"_\"+str(i) for col in toReorder]\n",
    "reorderedCols = [\"ADATE_2\"] + groupRFA_2 + reorderedCols\n",
    "\n",
    "dictIdx = {col: sample.columns.get_loc(col) for col in reorderedCols}\n",
    "\n",
    "temp = sample[dictIdx.keys()].copy()\n",
    "sample.drop(columns=dictIdx.keys(), inplace=True)\n",
    "\n",
    "for key in dictIdx.keys():\n",
    "    sample[key] = temp[key]"
   ]
  },
  {
   "cell_type": "code",
   "execution_count": 12,
   "metadata": {},
   "outputs": [],
   "source": [
    "# Converting date columns into datetimes\n",
    "for c in (dateNames := [c for c in sample.columns.values if (\"DATE\" in c)]):\n",
    "    sample[c] = pd.to_datetime(sample[c], infer_datetime_format=True)\n",
    "    \n",
    "sample.DOB = pd.to_datetime(sample.DOB)"
   ]
  },
  {
   "cell_type": "code",
   "execution_count": 13,
   "metadata": {},
   "outputs": [],
   "source": [
    "# Always keep this cell last before EDA WIP\n",
    "sample.to_pickle(\"sample_eda_done.pkl\")"
   ]
  },
  {
   "cell_type": "markdown",
   "metadata": {},
   "source": [
    "# EDA WIP"
   ]
  },
  {
   "cell_type": "code",
   "execution_count": 14,
   "metadata": {},
   "outputs": [],
   "source": [
    "# restart work from here\n",
    "sample = pd.read_pickle(\"sample_eda_done.pkl\")"
   ]
  },
  {
   "cell_type": "code",
   "execution_count": 15,
   "metadata": {},
   "outputs": [],
   "source": [
    "# Drop entries where\n",
    "# df[df.ODATEDW < df.DOB]"
   ]
  },
  {
   "cell_type": "code",
   "execution_count": 16,
   "metadata": {},
   "outputs": [],
   "source": [
    "df[\"AGE\"] = np.int16(2020 - pd.to_datetime(df.DOB).dt.year)\n",
    "df.AGE = df.AGE.where(df.AGE != 0, np.nan)\n",
    "\n",
    "# years passed since first gift\n",
    "df[\"loyaltyAge\"] = np.int16(2020 - pd.to_datetime(df.ODATEDW).dt.year)"
   ]
  },
  {
   "cell_type": "code",
   "execution_count": 17,
   "metadata": {},
   "outputs": [
    {
     "data": {
      "text/plain": [
       "count    71529.000000\n",
       "mean        61.705378\n",
       "std         16.786761\n",
       "min          3.000000\n",
       "25%         49.000000\n",
       "50%         62.000000\n",
       "75%         76.000000\n",
       "max         90.000000\n",
       "Name: AGE, dtype: float64"
      ]
     },
     "execution_count": 17,
     "metadata": {},
     "output_type": "execute_result"
    }
   ],
   "source": [
    "df[\"AGE\"].describe()"
   ]
  },
  {
   "cell_type": "code",
   "execution_count": 18,
   "metadata": {},
   "outputs": [
    {
     "data": {
      "text/plain": [
       "7390     126.0\n",
       "7546      25.0\n",
       "11400     87.0\n",
       "25979     75.0\n",
       "26620     46.0\n",
       "42487    347.0\n",
       "45811    170.0\n",
       "57962    187.0\n",
       "62336     57.0\n",
       "91047    120.0\n",
       "95105    228.0\n",
       "Name: RAMNTALL, dtype: float64"
      ]
     },
     "execution_count": 18,
     "metadata": {},
     "output_type": "execute_result"
    }
   ],
   "source": [
    "df[(df.TCODE > 120) & (df.TCODE < 220)].RAMNTALL"
   ]
  },
  {
   "cell_type": "code",
   "execution_count": 19,
   "metadata": {},
   "outputs": [
    {
     "data": {
      "text/html": [
       "<div>\n",
       "<style scoped>\n",
       "    .dataframe tbody tr th:only-of-type {\n",
       "        vertical-align: middle;\n",
       "    }\n",
       "\n",
       "    .dataframe tbody tr th {\n",
       "        vertical-align: top;\n",
       "    }\n",
       "\n",
       "    .dataframe thead th {\n",
       "        text-align: right;\n",
       "    }\n",
       "</style>\n",
       "<table border=\"1\" class=\"dataframe\">\n",
       "  <thead>\n",
       "    <tr style=\"text-align: right;\">\n",
       "      <th></th>\n",
       "      <th>INCOME</th>\n",
       "      <th>WEALTH1</th>\n",
       "      <th>WEALTH2</th>\n",
       "    </tr>\n",
       "  </thead>\n",
       "  <tbody>\n",
       "    <tr>\n",
       "      <th>1</th>\n",
       "      <td>6.0</td>\n",
       "      <td>9.0</td>\n",
       "      <td>9.0</td>\n",
       "    </tr>\n",
       "    <tr>\n",
       "      <th>2</th>\n",
       "      <td>3.0</td>\n",
       "      <td>1.0</td>\n",
       "      <td>1.0</td>\n",
       "    </tr>\n",
       "    <tr>\n",
       "      <th>3</th>\n",
       "      <td>1.0</td>\n",
       "      <td>4.0</td>\n",
       "      <td>0.0</td>\n",
       "    </tr>\n",
       "    <tr>\n",
       "      <th>4</th>\n",
       "      <td>3.0</td>\n",
       "      <td>2.0</td>\n",
       "      <td>NaN</td>\n",
       "    </tr>\n",
       "    <tr>\n",
       "      <th>6</th>\n",
       "      <td>4.0</td>\n",
       "      <td>6.0</td>\n",
       "      <td>3.0</td>\n",
       "    </tr>\n",
       "    <tr>\n",
       "      <th>...</th>\n",
       "      <td>...</td>\n",
       "      <td>...</td>\n",
       "      <td>...</td>\n",
       "    </tr>\n",
       "    <tr>\n",
       "      <th>95400</th>\n",
       "      <td>4.0</td>\n",
       "      <td>9.0</td>\n",
       "      <td>9.0</td>\n",
       "    </tr>\n",
       "    <tr>\n",
       "      <th>95401</th>\n",
       "      <td>6.0</td>\n",
       "      <td>8.0</td>\n",
       "      <td>NaN</td>\n",
       "    </tr>\n",
       "    <tr>\n",
       "      <th>95406</th>\n",
       "      <td>6.0</td>\n",
       "      <td>6.0</td>\n",
       "      <td>6.0</td>\n",
       "    </tr>\n",
       "    <tr>\n",
       "      <th>95408</th>\n",
       "      <td>7.0</td>\n",
       "      <td>9.0</td>\n",
       "      <td>NaN</td>\n",
       "    </tr>\n",
       "    <tr>\n",
       "      <th>95411</th>\n",
       "      <td>5.0</td>\n",
       "      <td>8.0</td>\n",
       "      <td>8.0</td>\n",
       "    </tr>\n",
       "  </tbody>\n",
       "</table>\n",
       "<p>50680 rows × 3 columns</p>\n",
       "</div>"
      ],
      "text/plain": [
       "       INCOME  WEALTH1  WEALTH2\n",
       "1         6.0      9.0      9.0\n",
       "2         3.0      1.0      1.0\n",
       "3         1.0      4.0      0.0\n",
       "4         3.0      2.0      NaN\n",
       "6         4.0      6.0      3.0\n",
       "...       ...      ...      ...\n",
       "95400     4.0      9.0      9.0\n",
       "95401     6.0      8.0      NaN\n",
       "95406     6.0      6.0      6.0\n",
       "95408     7.0      9.0      NaN\n",
       "95411     5.0      8.0      8.0\n",
       "\n",
       "[50680 rows x 3 columns]"
      ]
     },
     "execution_count": 19,
     "metadata": {},
     "output_type": "execute_result"
    }
   ],
   "source": [
    "df[(df.INCOME.isnull() == False) & (df.WEALTH1.isnull() == False)][[\"INCOME\", \"WEALTH1\", \"WEALTH2\"]]"
   ]
  },
  {
   "cell_type": "code",
   "execution_count": 20,
   "metadata": {},
   "outputs": [],
   "source": [
    "# Age groups\n",
    "# age_groups_labels = [\"0-18\", \"18-30\", \"30-60\", \"60+\"]\n",
    "age_groups_labels = [\"Minor\", \"Young worker\", \"Worker\", \"Retired\"]\n",
    "age_groups_values = [0, 18, 30, 60, np.inf]\n",
    "\n",
    "df[\"ageGroup\"] = pd.cut(df.AGE, age_groups_values, labels=age_groups_labels)\n",
    "\n",
    "# Origin groups [loyalty measured in years]\n",
    "origin_groups_labels = [\"0-1\", \"1-2\", \"2-5\", \"5-10\", \"10-20\", \"20+\"]\n",
    "origin_groups_values = [0, 1, 2, 5, 10, 20, np.inf]\n",
    "\n",
    "df[\"loyaltyGroup\"] = pd.cut(df.loyaltyAge, origin_groups_values, labels=origin_groups_labels)\n"
   ]
  },
  {
   "cell_type": "code",
   "execution_count": 24,
   "metadata": {},
   "outputs": [],
   "source": [
    "# Family Aggregate Data - loc[:, \"DOMAIN\":\"WEALTH1\"]\n",
    "# FAD_name\n",
    "\n",
    "domainCats = [\n",
    "    letter + str(i) for letter in [\"U\", \"C\", \"S\", \"T\", \"R\"] for i in range(1, 5)\n",
    "]\n",
    "domainCats.reverse()\n",
    "# df[\"FAD_domain\"] = pd.Categorical(df.DOMAIN, categories=domainCats, ordered=True)"
   ]
  },
  {
   "cell_type": "code",
   "execution_count": 36,
   "metadata": {},
   "outputs": [
    {
     "data": {
      "text/plain": [
       "['R3',\n",
       " 'R2',\n",
       " 'R1',\n",
       " 'T3',\n",
       " 'T2',\n",
       " 'T1',\n",
       " 'S3',\n",
       " 'S2',\n",
       " 'S1',\n",
       " 'C3',\n",
       " 'C2',\n",
       " 'C1',\n",
       " 'U4',\n",
       " 'U3',\n",
       " 'U2',\n",
       " 'U1']"
      ]
     },
     "execution_count": 36,
     "metadata": {},
     "output_type": "execute_result"
    }
   ],
   "source": [
    "for i in [\"R4\", \"T4\", \"S4\", \"C4\"]:\n",
    "  domainCats.remove(i)\n",
    "domainCats"
   ]
  },
  {
   "cell_type": "code",
   "execution_count": 26,
   "metadata": {},
   "outputs": [],
   "source": [
    "# Categorical variables\n",
    "cat_vars = [\n",
    "    \"ageGroup\", # category\n",
    "    \"loyaltyGroup\", # category\n",
    "    \"NOEXCH\", # binary\n",
    "    \"RECINHSE\", # binary\n",
    "    \"RECP3\", # binary\n",
    "    \"RECPGVG\", # binary\n",
    "    \"RECSWEEP\", # binary\n",
    "    \"MAJOR\", # binary\n",
    "    \"MDMAUD\", # category\n",
    "    \"MDMAUD_R\", # category\n",
    "    \"MDMAUD_F\", # category\n",
    "    \"MDMAUD_A\", # category\n",
    "    \"DOMAIN\", # category\n",
    "    \"HOMEOWNR\", # binary\n",
    "    \"\"\n",
    "]\n",
    "\n",
    "# Continuous variables\n",
    "cont_vars = [\n",
    "    \"AGE\", # \n",
    "    \"\",\n",
    "]\n",
    "\n",
    "# Variables for plots\n",
    "plot_vars = [\n",
    "    \"STATE\", \n",
    "    \"ZIP\", \n",
    "    \"GEOCODE2\", \n",
    "    \"ODATEDW\"\n",
    "]\n",
    "\n",
    "# Not used variables\n",
    "drop_vars = [\n",
    "    \"GEOCODE\", \n",
    "    \"MAILCODE\", \n",
    "    \"DOB\"\n",
    "]"
   ]
  },
  {
   "cell_type": "code",
   "execution_count": 22,
   "metadata": {},
   "outputs": [
    {
     "data": {
      "text/plain": [
       "0      L4E\n",
       "1      L2G\n",
       "2      L4E\n",
       "3      L4E\n",
       "4      L2F\n",
       "      ... \n",
       "995    L2F\n",
       "996    L1G\n",
       "997    L1F\n",
       "998    L4D\n",
       "999    L1F\n",
       "Name: RFA_2, Length: 1000, dtype: category\n",
       "Categories (14, object): ['L1E', 'L1F', 'L1G', 'L2E', ..., 'L4D', 'L4E', 'L4F', 'L4G']"
      ]
     },
     "execution_count": 22,
     "metadata": {},
     "output_type": "execute_result"
    }
   ],
   "source": [
    "sample.RFA_2"
   ]
  },
  {
   "cell_type": "code",
   "execution_count": null,
   "metadata": {},
   "outputs": [],
   "source": []
  }
 ],
 "metadata": {
  "kernelspec": {
   "display_name": "Python [conda env:ims_DM]",
   "language": "python",
   "name": "conda-env-ims_DM-py"
  },
  "language_info": {
   "codemirror_mode": {
    "name": "ipython",
    "version": 3
   },
   "file_extension": ".py",
   "mimetype": "text/x-python",
   "name": "python",
   "nbconvert_exporter": "python",
   "pygments_lexer": "ipython3",
   "version": "3.8.5"
  }
 },
 "nbformat": 4,
 "nbformat_minor": 4
}
