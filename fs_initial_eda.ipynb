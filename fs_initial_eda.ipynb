{
 "cells": [
  {
   "cell_type": "code",
   "execution_count": 1,
   "metadata": {},
   "outputs": [],
   "source": [
    "import sqlite3\n",
    "import os\n",
    "import pandas as pd\n",
    "import numpy as np\n",
    "import matplotlib.pyplot as plt\n",
    "import seaborn as sns\n",
    "from pandas_profiling import ProfileReport\n",
    "import sklearn as sk\n",
    "import dtale"
   ]
  },
  {
   "cell_type": "code",
   "execution_count": 4,
   "metadata": {},
   "outputs": [],
   "source": [
    "# df = pd.read_csv(\"donors.csv\", low_memory=False).drop(columns=\"Unnamed: 0\")\n",
    "# df.to_pickle(\"donors.pkl\")\n",
    "# sample = df.iloc[:1000, :].copy()\n",
    "# sample.to_pickle(\"sample.pkl\")"
   ]
  },
  {
   "cell_type": "code",
   "execution_count": 5,
   "metadata": {},
   "outputs": [],
   "source": [
    "df = pd.read_pickle(\"donors.pkl\")\n",
    "sample = pd.read_pickle(\"sample.pkl\")"
   ]
  },
  {
   "cell_type": "markdown",
   "metadata": {},
   "source": [
    "# EDA DONE"
   ]
  },
  {
   "cell_type": "code",
   "execution_count": 6,
   "metadata": {},
   "outputs": [],
   "source": [
    "# The following variables indicate the number of\n",
    "# known times the donor has responded to other\n",
    "# types of mail order offers.\n",
    "\n",
    "groupMailOffers = sample.loc[:, \"MBCRAFT\":\"PUBOPP\"].columns.to_list()\n",
    "\n",
    "# dtale.show(sample[mailOrderOffers])\n",
    "\n",
    "for col in groupMailOffers:\n",
    "    sample[col] = sample[col].fillna(0).astype(np.int16)"
   ]
  },
  {
   "cell_type": "code",
   "execution_count": 7,
   "metadata": {},
   "outputs": [
    {
     "name": "stdout",
     "output_type": "stream",
     "text": [
      "['MDMAUD', 'MDMAUD_R', 'MDMAUD_F', 'MDMAUD_A']\n"
     ]
    }
   ],
   "source": [
    "searchName = \"MDMAUD\"\n",
    "namesToGroup = [col for col in sample.columns.to_list() if searchName in col]\n",
    "print(namesToGroup)"
   ]
  },
  {
   "cell_type": "code",
   "execution_count": 8,
   "metadata": {},
   "outputs": [],
   "source": [
    "for name in namesToGroup:\n",
    "    setattr(sample, name, sample[name].str.replace(\"X\", \"\").replace(\"\", np.nan))"
   ]
  },
  {
   "cell_type": "code",
   "execution_count": 9,
   "metadata": {},
   "outputs": [],
   "source": [
    "# MAJOR\n",
    "namesToGroup = [\"MAJOR\"] + namesToGroup\n",
    "sample.MAJOR.replace({\"X\": True, \" \": False}, inplace=True)"
   ]
  },
  {
   "cell_type": "code",
   "execution_count": 10,
   "metadata": {},
   "outputs": [
    {
     "data": {
      "text/html": [
       "<div>\n",
       "<style scoped>\n",
       "    .dataframe tbody tr th:only-of-type {\n",
       "        vertical-align: middle;\n",
       "    }\n",
       "\n",
       "    .dataframe tbody tr th {\n",
       "        vertical-align: top;\n",
       "    }\n",
       "\n",
       "    .dataframe thead th {\n",
       "        text-align: right;\n",
       "    }\n",
       "</style>\n",
       "<table border=\"1\" class=\"dataframe\">\n",
       "  <thead>\n",
       "    <tr style=\"text-align: right;\">\n",
       "      <th></th>\n",
       "      <th>MAJOR</th>\n",
       "      <th>MDMAUD</th>\n",
       "      <th>MDMAUD_R</th>\n",
       "      <th>MDMAUD_F</th>\n",
       "      <th>MDMAUD_A</th>\n",
       "      <th>RFA_2</th>\n",
       "      <th>RFA_2R</th>\n",
       "      <th>RFA_2F</th>\n",
       "      <th>RFA_2A</th>\n",
       "    </tr>\n",
       "  </thead>\n",
       "  <tbody>\n",
       "    <tr>\n",
       "      <th>0</th>\n",
       "      <td>False</td>\n",
       "      <td>NaN</td>\n",
       "      <td>NaN</td>\n",
       "      <td>NaN</td>\n",
       "      <td>NaN</td>\n",
       "      <td>L4E</td>\n",
       "      <td>L</td>\n",
       "      <td>4</td>\n",
       "      <td>E</td>\n",
       "    </tr>\n",
       "    <tr>\n",
       "      <th>1</th>\n",
       "      <td>False</td>\n",
       "      <td>NaN</td>\n",
       "      <td>NaN</td>\n",
       "      <td>NaN</td>\n",
       "      <td>NaN</td>\n",
       "      <td>L2G</td>\n",
       "      <td>L</td>\n",
       "      <td>2</td>\n",
       "      <td>G</td>\n",
       "    </tr>\n",
       "    <tr>\n",
       "      <th>2</th>\n",
       "      <td>False</td>\n",
       "      <td>NaN</td>\n",
       "      <td>NaN</td>\n",
       "      <td>NaN</td>\n",
       "      <td>NaN</td>\n",
       "      <td>L4E</td>\n",
       "      <td>L</td>\n",
       "      <td>4</td>\n",
       "      <td>E</td>\n",
       "    </tr>\n",
       "    <tr>\n",
       "      <th>3</th>\n",
       "      <td>False</td>\n",
       "      <td>NaN</td>\n",
       "      <td>NaN</td>\n",
       "      <td>NaN</td>\n",
       "      <td>NaN</td>\n",
       "      <td>L4E</td>\n",
       "      <td>L</td>\n",
       "      <td>4</td>\n",
       "      <td>E</td>\n",
       "    </tr>\n",
       "    <tr>\n",
       "      <th>4</th>\n",
       "      <td>False</td>\n",
       "      <td>NaN</td>\n",
       "      <td>NaN</td>\n",
       "      <td>NaN</td>\n",
       "      <td>NaN</td>\n",
       "      <td>L2F</td>\n",
       "      <td>L</td>\n",
       "      <td>2</td>\n",
       "      <td>F</td>\n",
       "    </tr>\n",
       "    <tr>\n",
       "      <th>...</th>\n",
       "      <td>...</td>\n",
       "      <td>...</td>\n",
       "      <td>...</td>\n",
       "      <td>...</td>\n",
       "      <td>...</td>\n",
       "      <td>...</td>\n",
       "      <td>...</td>\n",
       "      <td>...</td>\n",
       "      <td>...</td>\n",
       "    </tr>\n",
       "    <tr>\n",
       "      <th>995</th>\n",
       "      <td>False</td>\n",
       "      <td>NaN</td>\n",
       "      <td>NaN</td>\n",
       "      <td>NaN</td>\n",
       "      <td>NaN</td>\n",
       "      <td>L2F</td>\n",
       "      <td>L</td>\n",
       "      <td>2</td>\n",
       "      <td>F</td>\n",
       "    </tr>\n",
       "    <tr>\n",
       "      <th>996</th>\n",
       "      <td>False</td>\n",
       "      <td>NaN</td>\n",
       "      <td>NaN</td>\n",
       "      <td>NaN</td>\n",
       "      <td>NaN</td>\n",
       "      <td>L1G</td>\n",
       "      <td>L</td>\n",
       "      <td>1</td>\n",
       "      <td>G</td>\n",
       "    </tr>\n",
       "    <tr>\n",
       "      <th>997</th>\n",
       "      <td>False</td>\n",
       "      <td>NaN</td>\n",
       "      <td>NaN</td>\n",
       "      <td>NaN</td>\n",
       "      <td>NaN</td>\n",
       "      <td>L1F</td>\n",
       "      <td>L</td>\n",
       "      <td>1</td>\n",
       "      <td>F</td>\n",
       "    </tr>\n",
       "    <tr>\n",
       "      <th>998</th>\n",
       "      <td>False</td>\n",
       "      <td>NaN</td>\n",
       "      <td>NaN</td>\n",
       "      <td>NaN</td>\n",
       "      <td>NaN</td>\n",
       "      <td>L4D</td>\n",
       "      <td>L</td>\n",
       "      <td>4</td>\n",
       "      <td>D</td>\n",
       "    </tr>\n",
       "    <tr>\n",
       "      <th>999</th>\n",
       "      <td>False</td>\n",
       "      <td>NaN</td>\n",
       "      <td>NaN</td>\n",
       "      <td>NaN</td>\n",
       "      <td>NaN</td>\n",
       "      <td>L1F</td>\n",
       "      <td>L</td>\n",
       "      <td>1</td>\n",
       "      <td>F</td>\n",
       "    </tr>\n",
       "  </tbody>\n",
       "</table>\n",
       "<p>1000 rows × 9 columns</p>\n",
       "</div>"
      ],
      "text/plain": [
       "     MAJOR MDMAUD MDMAUD_R MDMAUD_F MDMAUD_A RFA_2 RFA_2R  RFA_2F RFA_2A\n",
       "0    False    NaN      NaN      NaN      NaN   L4E      L       4      E\n",
       "1    False    NaN      NaN      NaN      NaN   L2G      L       2      G\n",
       "2    False    NaN      NaN      NaN      NaN   L4E      L       4      E\n",
       "3    False    NaN      NaN      NaN      NaN   L4E      L       4      E\n",
       "4    False    NaN      NaN      NaN      NaN   L2F      L       2      F\n",
       "..     ...    ...      ...      ...      ...   ...    ...     ...    ...\n",
       "995  False    NaN      NaN      NaN      NaN   L2F      L       2      F\n",
       "996  False    NaN      NaN      NaN      NaN   L1G      L       1      G\n",
       "997  False    NaN      NaN      NaN      NaN   L1F      L       1      F\n",
       "998  False    NaN      NaN      NaN      NaN   L4D      L       4      D\n",
       "999  False    NaN      NaN      NaN      NaN   L1F      L       1      F\n",
       "\n",
       "[1000 rows x 9 columns]"
      ]
     },
     "execution_count": 10,
     "metadata": {},
     "output_type": "execute_result"
    }
   ],
   "source": [
    "# RFA_2\n",
    "groupRFA_2 = [\"RFA_2\", \"RFA_2R\", \"RFA_2F\", \"RFA_2A\"]\n",
    "namesToGroup += groupRFA_2\n",
    "sample[namesToGroup]"
   ]
  },
  {
   "cell_type": "code",
   "execution_count": 11,
   "metadata": {},
   "outputs": [],
   "source": [
    "for c in namesToGroup:\n",
    "    sample[c] = pd.Categorical(sample[c])"
   ]
  },
  {
   "cell_type": "code",
   "execution_count": 12,
   "metadata": {},
   "outputs": [
    {
     "data": {
      "text/plain": [
       "MAJOR       category\n",
       "MDMAUD      category\n",
       "MDMAUD_R    category\n",
       "MDMAUD_F    category\n",
       "MDMAUD_A    category\n",
       "RFA_2       category\n",
       "RFA_2R      category\n",
       "RFA_2F      category\n",
       "RFA_2A      category\n",
       "dtype: object"
      ]
     },
     "execution_count": 12,
     "metadata": {},
     "output_type": "execute_result"
    }
   ],
   "source": [
    "sample[namesToGroup].dtypes"
   ]
  },
  {
   "cell_type": "code",
   "execution_count": 13,
   "metadata": {},
   "outputs": [],
   "source": [
    "toReorder = [\"ADATE\", \"RFA\", \"RDATE\", \"RAMNT\"]\n",
    "reorderedCols = []\n",
    "for i in range(3, 25):\n",
    "    reorderedCols += [str(col)+\"_\"+str(i) for col in toReorder]\n",
    "reorderedCols = [\"ADATE_2\"] + groupRFA_2 + reorderedCols\n",
    "\n",
    "dictIdx = {col: sample.columns.get_loc(col) for col in reorderedCols}\n",
    "\n",
    "temp = sample[dictIdx.keys()].copy()\n",
    "sample.drop(columns=dictIdx.keys(), inplace=True)\n",
    "\n",
    "for key in dictIdx.keys():\n",
    "    sample[key] = temp[key]"
   ]
  },
  {
   "cell_type": "code",
   "execution_count": 15,
   "metadata": {},
   "outputs": [
    {
     "data": {
      "text/html": [
       "<div>\n",
       "<style scoped>\n",
       "    .dataframe tbody tr th:only-of-type {\n",
       "        vertical-align: middle;\n",
       "    }\n",
       "\n",
       "    .dataframe tbody tr th {\n",
       "        vertical-align: top;\n",
       "    }\n",
       "\n",
       "    .dataframe thead th {\n",
       "        text-align: right;\n",
       "    }\n",
       "</style>\n",
       "<table border=\"1\" class=\"dataframe\">\n",
       "  <thead>\n",
       "    <tr style=\"text-align: right;\">\n",
       "      <th></th>\n",
       "      <th>ODATEDW</th>\n",
       "      <th>OSOURCE</th>\n",
       "      <th>TCODE</th>\n",
       "      <th>STATE</th>\n",
       "      <th>ZIP</th>\n",
       "      <th>MAILCODE</th>\n",
       "      <th>PVASTATE</th>\n",
       "      <th>DOB</th>\n",
       "      <th>NOEXCH</th>\n",
       "      <th>RECINHSE</th>\n",
       "      <th>...</th>\n",
       "      <th>RDATE_22</th>\n",
       "      <th>RAMNT_22</th>\n",
       "      <th>ADATE_23</th>\n",
       "      <th>RFA_23</th>\n",
       "      <th>RDATE_23</th>\n",
       "      <th>RAMNT_23</th>\n",
       "      <th>ADATE_24</th>\n",
       "      <th>RFA_24</th>\n",
       "      <th>RDATE_24</th>\n",
       "      <th>RAMNT_24</th>\n",
       "    </tr>\n",
       "  </thead>\n",
       "  <tbody>\n",
       "    <tr>\n",
       "      <th>577</th>\n",
       "      <td>2006-01-01</td>\n",
       "      <td>BHG</td>\n",
       "      <td>2</td>\n",
       "      <td>FL</td>\n",
       "      <td>33756</td>\n",
       "      <td></td>\n",
       "      <td></td>\n",
       "      <td>1990-08-01</td>\n",
       "      <td>0</td>\n",
       "      <td></td>\n",
       "      <td>...</td>\n",
       "      <td>2014-09-01</td>\n",
       "      <td>9.0</td>\n",
       "      <td>2014-07-01</td>\n",
       "      <td>A3D</td>\n",
       "      <td>NaN</td>\n",
       "      <td>NaN</td>\n",
       "      <td>2014-06-01</td>\n",
       "      <td>A3D</td>\n",
       "      <td>2014-06-01</td>\n",
       "      <td>9.0</td>\n",
       "    </tr>\n",
       "  </tbody>\n",
       "</table>\n",
       "<p>1 rows × 475 columns</p>\n",
       "</div>"
      ],
      "text/plain": [
       "        ODATEDW OSOURCE  TCODE STATE    ZIP MAILCODE PVASTATE         DOB  \\\n",
       "577  2006-01-01     BHG      2    FL  33756                    1990-08-01   \n",
       "\n",
       "    NOEXCH RECINHSE  ...    RDATE_22 RAMNT_22    ADATE_23 RFA_23 RDATE_23  \\\n",
       "577      0           ...  2014-09-01      9.0  2014-07-01    A3D      NaN   \n",
       "\n",
       "    RAMNT_23    ADATE_24 RFA_24    RDATE_24 RAMNT_24  \n",
       "577      NaN  2014-06-01    A3D  2014-06-01      9.0  \n",
       "\n",
       "[1 rows x 475 columns]"
      ]
     },
     "execution_count": 15,
     "metadata": {},
     "output_type": "execute_result"
    }
   ],
   "source": [
    "sample[sample.GEOCODE2.isnull() == True]"
   ]
  },
  {
   "cell_type": "code",
   "execution_count": 16,
   "metadata": {},
   "outputs": [],
   "source": [
    "# Converting date columns into datetimes\n",
    "for c in (dateNames := [c for c in sample.columns.values if (\"DATE\" in c)]):\n",
    "    sample[c] = pd.to_datetime(sample[c], infer_datetime_format=True)"
   ]
  },
  {
   "cell_type": "code",
   "execution_count": 17,
   "metadata": {},
   "outputs": [],
   "source": [
    "# Always keep this cell last before EDA WIP\n",
    "sample.to_pickle(\"sample_eda_done.pkl\")"
   ]
  },
  {
   "cell_type": "markdown",
   "metadata": {},
   "source": [
    "# EDA WIP"
   ]
  },
  {
   "cell_type": "code",
   "execution_count": 18,
   "metadata": {},
   "outputs": [],
   "source": [
    "# restart work from here\n",
    "sample = pd.read_pickle(\"sample_eda_done.pkl\")"
   ]
  },
  {
   "cell_type": "code",
   "execution_count": 19,
   "metadata": {},
   "outputs": [
    {
     "data": {
      "text/plain": [
       "ODATEDW     datetime64[ns]\n",
       "OSOURCE             object\n",
       "TCODE                int64\n",
       "STATE               object\n",
       "ZIP                 object\n",
       "                 ...      \n",
       "RAMNT_23           float64\n",
       "ADATE_24    datetime64[ns]\n",
       "RFA_24              object\n",
       "RDATE_24    datetime64[ns]\n",
       "RAMNT_24           float64\n",
       "Length: 475, dtype: object"
      ]
     },
     "execution_count": 19,
     "metadata": {},
     "output_type": "execute_result"
    }
   ],
   "source": [
    "sample.dtypes"
   ]
  },
  {
   "cell_type": "code",
   "execution_count": 78,
   "metadata": {},
   "outputs": [
    {
     "data": {
      "text/plain": [
       "array([' ', '02', '03', '05', '04', '14', '01', '12'], dtype=object)"
      ]
     },
     "execution_count": 78,
     "metadata": {},
     "output_type": "execute_result"
    }
   ],
   "source": [
    "df.GEOCODE.unique()"
   ]
  },
  {
   "cell_type": "code",
   "execution_count": null,
   "metadata": {},
   "outputs": [],
   "source": []
  }
 ],
 "metadata": {
  "kernelspec": {
   "display_name": "Python [conda env:ims_DM]",
   "language": "python",
   "name": "conda-env-ims_DM-py"
  },
  "language_info": {
   "codemirror_mode": {
    "name": "ipython",
    "version": 3
   },
   "file_extension": ".py",
   "mimetype": "text/x-python",
   "name": "python",
   "nbconvert_exporter": "python",
   "pygments_lexer": "ipython3",
   "version": "3.8.5"
  }
 },
 "nbformat": 4,
 "nbformat_minor": 4
}
