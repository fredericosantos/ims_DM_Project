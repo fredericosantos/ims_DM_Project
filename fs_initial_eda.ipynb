{
 "cells": [
  {
   "cell_type": "code",
   "execution_count": 1,
   "metadata": {},
   "outputs": [],
   "source": [
    "import sqlite3\n",
    "import os\n",
    "import pandas as pd\n",
    "import numpy as np\n",
    "import matplotlib.pyplot as plt\n",
    "import seaborn as sns\n",
    "from pandas_profiling import ProfileReport\n",
    "import sklearn as sk\n",
    "#import dtale\n",
    "import re\n",
    "%config Completer.use_jedi = False"
   ]
  },
  {
   "cell_type": "code",
   "execution_count": 6,
   "metadata": {},
   "outputs": [
    {
     "name": "stderr",
     "output_type": "stream",
     "text": [
      "C:\\Users\\vasco\\anaconda3\\envs\\DM\\lib\\site-packages\\IPython\\core\\interactiveshell.py:3146: DtypeWarning: Columns (9,412) have mixed types.Specify dtype option on import or set low_memory=False.\n",
      "  has_raised = await self.run_ast_nodes(code_ast.body, cell_name,\n"
     ]
    }
   ],
   "source": [
    "df = pd.read_csv('C:/Users/vasco/OneDrive/Ambiente de Trabalho/Mestrado - Data Science/Data Mining/donors.csv').drop(columns=\"Unnamed: 0\")\n",
    "#df.to_pickle(\"donors.pkl\")\n",
    "#sample = df.iloc[:1000, :].copy()\n",
    "#sample.to_pickle(\"sample.pkl\")"
   ]
  },
  {
   "cell_type": "code",
   "execution_count": 7,
   "metadata": {},
   "outputs": [],
   "source": [
    "#df = pd.read_pickle(\"donors.pkl\")\n",
    "#sample = pd.read_pickle(\"sample.pkl\")"
   ]
  },
  {
   "cell_type": "code",
   "execution_count": 8,
   "metadata": {},
   "outputs": [],
   "source": [
    "dtypes = df.dtypes.to_dict()\n",
    "types_dict = {\n",
    "    \"TCODE\": str,\n",
    "}\n",
    "dtypes.update(types_dict)"
   ]
  },
  {
   "cell_type": "markdown",
   "metadata": {},
   "source": [
    "# Variables"
   ]
  },
  {
   "cell_type": "code",
   "execution_count": 9,
   "metadata": {},
   "outputs": [],
   "source": [
    "# Categorical variables\n",
    "cat_vars = [\n",
    "    \"STATE\", # category\n",
    "    \n",
    "    \"NOEXCH\", # binary\n",
    "    \"RECINHSE\", # binary\n",
    "    \"RECP3\", # binary\n",
    "    \"RECPGVG\", # binary\n",
    "    \"RECSWEEP\", # binary\n",
    "    \n",
    "    \"MAJOR\", # binary\n",
    "    \"MDMAUD\", # category\n",
    "    \"MDMAUD_R\", # category\n",
    "    \"MDMAUD_F\", # category\n",
    "    \"MDMAUD_A\", # category\n",
    "    \n",
    "    \"DOMAIN\", # category\n",
    "    \"HOMEOWNR\", # binary\n",
    "    \"CHILD03\", # category\n",
    "    \"CHILD07\", # category\n",
    "    \"CHILD12\", # category\n",
    "]\n",
    "\n",
    "# Continuous variables\n",
    "cont_vars = [\n",
    "    \"AGE\", # \n",
    "    \"\",\n",
    "]\n",
    "\n",
    "# Variables for plots\n",
    "plot_vars = [\n",
    "    \"STATE\", \n",
    "    \"ZIP\", # clean zip [TODO]\n",
    "    \"GEOCODE2\", \n",
    "    \"ODATEDW\", # turn into year-month-01 [TODO]\n",
    "]\n",
    "\n",
    "# not used features\n",
    "drop_vars = [\n",
    "    \"GEOCODE\", # 80k nan\n",
    "    \"MAILCODE\", \n",
    "    \"OSOURCE\", \n",
    "    \"DATASRCE\",\n",
    "    \"PVASTATE\",\n",
    "    \"LIFESRC\",\n",
    "]\n",
    "\n",
    "# features to process\n",
    "fe_features = [\n",
    "    \"TCODE\", # Shorten it [TODO]\n",
    "    \"DOB\", # Create age groups [DONE]\n",
    "    \"ODATEDW\" # Create loyalty groups\n",
    "]\n",
    "\n",
    "# feature engineering\n",
    "cat_fe_features = [\n",
    "    \"ageGroup\", # category\n",
    "    \"loyaltyGroup\", # category\n",
    "]\n",
    "\n",
    "cont_fe_features = [\n",
    "    \n",
    "]"
   ]
  },
  {
   "cell_type": "markdown",
   "metadata": {},
   "source": [
    "# EDA DONE"
   ]
  },
  {
   "cell_type": "code",
   "execution_count": 10,
   "metadata": {},
   "outputs": [],
   "source": [
    "# MAIL OFFERS\n",
    "# The following variables indicate the number of\n",
    "# known times the donor has responded to other\n",
    "# types of mail order offers.\n",
    "\n",
    "groupMailOffers = df.loc[:, \"MBCRAFT\":\"PUBOPP\"].columns.to_list()\n",
    "\n",
    "# dtale.show(df[mailOrderOffers])\n",
    "\n",
    "for col in groupMailOffers:\n",
    "    df[col] = df[col].fillna(0).astype(np.int16)"
   ]
  },
  {
   "cell_type": "code",
   "execution_count": 11,
   "metadata": {},
   "outputs": [
    {
     "name": "stdout",
     "output_type": "stream",
     "text": [
      "['MDMAUD', 'MDMAUD_R', 'MDMAUD_F', 'MDMAUD_A']\n"
     ]
    }
   ],
   "source": [
    "searchName = \"MDMAUD\"\n",
    "namesToGroup = [col for col in df.columns.to_list() if searchName in col]\n",
    "print(namesToGroup)"
   ]
  },
  {
   "cell_type": "code",
   "execution_count": 12,
   "metadata": {},
   "outputs": [],
   "source": [
    "for name in namesToGroup:\n",
    "    setattr(df, name, df[name].str.replace(\"X\", \"\").replace(\"\", np.nan))"
   ]
  },
  {
   "cell_type": "code",
   "execution_count": 13,
   "metadata": {},
   "outputs": [],
   "source": [
    "# MAJOR\n",
    "namesToGroup = [\"MAJOR\"] + namesToGroup\n",
    "df.MAJOR.replace({\"X\": True, \" \": False}, inplace=True)"
   ]
  },
  {
   "cell_type": "code",
   "execution_count": 14,
   "metadata": {},
   "outputs": [
    {
     "data": {
      "text/html": [
       "<div>\n",
       "<style scoped>\n",
       "    .dataframe tbody tr th:only-of-type {\n",
       "        vertical-align: middle;\n",
       "    }\n",
       "\n",
       "    .dataframe tbody tr th {\n",
       "        vertical-align: top;\n",
       "    }\n",
       "\n",
       "    .dataframe thead th {\n",
       "        text-align: right;\n",
       "    }\n",
       "</style>\n",
       "<table border=\"1\" class=\"dataframe\">\n",
       "  <thead>\n",
       "    <tr style=\"text-align: right;\">\n",
       "      <th></th>\n",
       "      <th>MAJOR</th>\n",
       "      <th>MDMAUD</th>\n",
       "      <th>MDMAUD_R</th>\n",
       "      <th>MDMAUD_F</th>\n",
       "      <th>MDMAUD_A</th>\n",
       "      <th>RFA_2</th>\n",
       "      <th>RFA_2R</th>\n",
       "      <th>RFA_2F</th>\n",
       "      <th>RFA_2A</th>\n",
       "    </tr>\n",
       "  </thead>\n",
       "  <tbody>\n",
       "    <tr>\n",
       "      <th>0</th>\n",
       "      <td>False</td>\n",
       "      <td>NaN</td>\n",
       "      <td>NaN</td>\n",
       "      <td>NaN</td>\n",
       "      <td>NaN</td>\n",
       "      <td>L4E</td>\n",
       "      <td>L</td>\n",
       "      <td>4</td>\n",
       "      <td>E</td>\n",
       "    </tr>\n",
       "    <tr>\n",
       "      <th>1</th>\n",
       "      <td>False</td>\n",
       "      <td>NaN</td>\n",
       "      <td>NaN</td>\n",
       "      <td>NaN</td>\n",
       "      <td>NaN</td>\n",
       "      <td>L2G</td>\n",
       "      <td>L</td>\n",
       "      <td>2</td>\n",
       "      <td>G</td>\n",
       "    </tr>\n",
       "  </tbody>\n",
       "</table>\n",
       "</div>"
      ],
      "text/plain": [
       "   MAJOR MDMAUD MDMAUD_R MDMAUD_F MDMAUD_A RFA_2 RFA_2R  RFA_2F RFA_2A\n",
       "0  False    NaN      NaN      NaN      NaN   L4E      L       4      E\n",
       "1  False    NaN      NaN      NaN      NaN   L2G      L       2      G"
      ]
     },
     "execution_count": 14,
     "metadata": {},
     "output_type": "execute_result"
    }
   ],
   "source": [
    "# RFA_2\n",
    "groupRFA_2 = [\"RFA_2\", \"RFA_2R\", \"RFA_2F\", \"RFA_2A\"]\n",
    "namesToGroup += groupRFA_2\n",
    "df[namesToGroup].head(2)"
   ]
  },
  {
   "cell_type": "code",
   "execution_count": 15,
   "metadata": {},
   "outputs": [],
   "source": [
    "## TODO: Create categorical orders\n",
    "\n",
    "incomeCats = [\"Low\", \"Medium\", \"High\"]\n",
    "incomeBins = [0, 3, 6, 10]\n",
    "\n",
    "df[\"cat_INCOME\"] = pd.cut(\n",
    "    df.INCOME, bins=incomeBins, labels=incomeCats\n",
    ")\n",
    "\n",
    "df.drop(columns=[\"INCOME\"], inplace=True)\n",
    "\n",
    "for c in namesToGroup:\n",
    "    df[c] = pd.Categorical(df[c])"
   ]
  },
  {
   "cell_type": "code",
   "execution_count": 16,
   "metadata": {},
   "outputs": [],
   "source": [
    "toReorder = [\"ADATE\", \"RFA\", \"RDATE\", \"RAMNT\"]\n",
    "reorderedCols = []\n",
    "for i in range(3, 25):\n",
    "    reorderedCols += [str(col) + \"_\" + str(i) for col in toReorder]\n",
    "reorderedCols = [\"ADATE_2\"] + groupRFA_2 + reorderedCols\n",
    "\n",
    "dictIdx = {col: df.columns.get_loc(col) for col in reorderedCols}\n",
    "\n",
    "temp = df[dictIdx.keys()].copy()\n",
    "df.drop(columns=dictIdx.keys(), inplace=True)\n",
    "\n",
    "for key in dictIdx.keys():\n",
    "    df[key] = temp[key]"
   ]
  },
  {
   "cell_type": "code",
   "execution_count": 17,
   "metadata": {},
   "outputs": [],
   "source": [
    "# Converting date columns into datetimes\n",
    "for c in (dateNames := [c for c in df.columns.values if (\"DATE\" in c)]) :\n",
    "    df[c] = pd.to_datetime(df[c], infer_datetime_format=True)"
   ]
  },
  {
   "cell_type": "code",
   "execution_count": 18,
   "metadata": {},
   "outputs": [],
   "source": [
    "# AGE RELATED\n",
    "df.DOB = pd.to_datetime(df.DOB)\n",
    "df[\"AGE\"] = np.int16(2020 - pd.to_datetime(df.DOB).dt.year)\n",
    "df.AGE = df.AGE.where(df.AGE != 0, np.nan)\n",
    "\n",
    "# age_groups_labels = [\"0-18\", \"18-30\", \"30-60\", \"60+\"]\n",
    "age_groups_labels = [\"Minor\", \"Young worker\", \"Worker\", \"Retired\"]\n",
    "age_groups_values = [0, 18, 30, 60, np.inf]\n",
    "\n",
    "df[\"ageGroup\"] = pd.cut(df.AGE, age_groups_values, labels=age_groups_labels)"
   ]
  },
  {
   "cell_type": "code",
   "execution_count": 19,
   "metadata": {},
   "outputs": [],
   "source": [
    "# LOYALTY GROUP\n",
    "# years passed since first gift\n",
    "df[\"loyaltyAge\"] = np.int16(2020 - pd.to_datetime(df.ODATEDW).dt.year)\n",
    "# Origin groups [loyalty measured in years]\n",
    "origin_groups_labels = [\"0-1\", \"1-2\", \"2-5\", \"5-10\", \"10-20\", \"20+\"]\n",
    "origin_groups_values = [0, 1, 2, 5, 10, 20, np.inf]\n",
    "\n",
    "df[\"loyaltyGroup\"] = pd.cut(\n",
    "    df.loyaltyAge, bins=origin_groups_values, labels=origin_groups_labels\n",
    ")"
   ]
  },
  {
   "cell_type": "code",
   "execution_count": 20,
   "metadata": {},
   "outputs": [
    {
     "ename": "NameError",
     "evalue": "name 'sample' is not defined",
     "output_type": "error",
     "traceback": [
      "\u001b[1;31m---------------------------------------------------------------------------\u001b[0m",
      "\u001b[1;31mNameError\u001b[0m                                 Traceback (most recent call last)",
      "\u001b[1;32m<ipython-input-20-91ecc92d06ff>\u001b[0m in \u001b[0;36m<module>\u001b[1;34m\u001b[0m\n\u001b[0;32m      1\u001b[0m \u001b[1;31m# Always keep this cell last before EDA WIP\u001b[0m\u001b[1;33m\u001b[0m\u001b[1;33m\u001b[0m\u001b[1;33m\u001b[0m\u001b[0m\n\u001b[1;32m----> 2\u001b[1;33m \u001b[0msample\u001b[0m\u001b[1;33m.\u001b[0m\u001b[0mto_pickle\u001b[0m\u001b[1;33m(\u001b[0m\u001b[1;34m\"sample_eda_done.pkl\"\u001b[0m\u001b[1;33m)\u001b[0m\u001b[1;33m\u001b[0m\u001b[1;33m\u001b[0m\u001b[0m\n\u001b[0m\u001b[0;32m      3\u001b[0m \u001b[0mdf\u001b[0m\u001b[1;33m.\u001b[0m\u001b[0mto_pickle\u001b[0m\u001b[1;33m(\u001b[0m\u001b[1;34m\"df_eda_done.pkl\"\u001b[0m\u001b[1;33m)\u001b[0m\u001b[1;33m\u001b[0m\u001b[1;33m\u001b[0m\u001b[0m\n",
      "\u001b[1;31mNameError\u001b[0m: name 'sample' is not defined"
     ]
    }
   ],
   "source": [
    "# Always keep this cell last before EDA WIP\n",
    "sample.to_pickle(\"sample_eda_done.pkl\")\n",
    "df.to_pickle(\"df_eda_done.pkl\")"
   ]
  },
  {
   "cell_type": "markdown",
   "metadata": {},
   "source": [
    "# EDA WIP"
   ]
  },
  {
   "cell_type": "code",
   "execution_count": null,
   "metadata": {},
   "outputs": [],
   "source": [
    "# restart work from here\n",
    "sample = pd.read_pickle(\"sample_eda_done.pkl\")\n",
    "df = pd.read_pickle(\"df_eda_done.pkl\")"
   ]
  },
  {
   "cell_type": "code",
   "execution_count": null,
   "metadata": {},
   "outputs": [],
   "source": [
    "df.head()"
   ]
  },
  {
   "cell_type": "code",
   "execution_count": null,
   "metadata": {},
   "outputs": [],
   "source": [
    "# Drop entries where\n",
    "# df[df.ODATEDW < df.DOB]"
   ]
  },
  {
   "cell_type": "code",
   "execution_count": null,
   "metadata": {},
   "outputs": [],
   "source": [
    "tcodes=\"\"\"\n",
    "    000    = _\n",
    "    001    = MR.\n",
    "    001001 = MESSRS.\n",
    "    001002 = MR. & MRS.\n",
    "    002    = MRS.\n",
    "    002002 = MESDAMES\n",
    "    003    = MISS\n",
    "    003003 = MISSES\n",
    "    004    = DR.\n",
    "    004002 = DR. & MRS.\n",
    "    004004 = DOCTORS\n",
    "    005    = MADAME\n",
    "    006    = SERGEANT\n",
    "    009    = RABBI\n",
    "    010    = PROFESSOR\n",
    "    010002 = PROFESSOR & MRS.\n",
    "    010010 = PROFESSORS\n",
    "    011    = ADMIRAL\n",
    "    011002 = ADMIRAL & MRS.\n",
    "    012    = GENERAL\n",
    "    012002 = GENERAL & MRS.\n",
    "    013    = COLONEL\n",
    "    013002 = COLONEL & MRS.\n",
    "    014    = CAPTAIN\n",
    "    014002 = CAPTAIN & MRS.\n",
    "    015    = COMMANDER\n",
    "    015002 = COMMANDER & MRS.\n",
    "    016    = DEAN\n",
    "    017    = JUDGE\n",
    "    017002 = JUDGE & MRS.\n",
    "    018    = MAJOR\n",
    "    018002 = MAJOR & MRS.\n",
    "    019    = SENATOR\n",
    "    020    = GOVERNOR\n",
    "    021002 = SERGEANT & MRS.\n",
    "    022002 = COLNEL & MRS.\n",
    "    024    = LIEUTENANT\n",
    "    026    = MONSIGNOR\n",
    "    027    = REVEREND\n",
    "    028    = MS.\n",
    "    028028 = MSS.\n",
    "    029    = BISHOP\n",
    "    031    = AMBASSADOR\n",
    "    031002 = AMBASSADOR & MRS.\n",
    "    033    = CANTOR\n",
    "    036    = BROTHER\n",
    "    037    = SIR\n",
    "    038    = COMMODORE\n",
    "    040    = FATHER\n",
    "    042    = SISTER\n",
    "    043    = PRESIDENT\n",
    "    044    = MASTER\n",
    "    046    = MOTHER\n",
    "    047    = CHAPLAIN\n",
    "    048    = CORPORAL\n",
    "    050    = ELDER\n",
    "    056    = MAYOR\n",
    "    059002 = LIEUTENANT & MRS.\n",
    "    062    = LORD\n",
    "    063    = CARDINAL\n",
    "    064    = FRIEND\n",
    "    065    = FRIENDS\n",
    "    068    = ARCHDEACON\n",
    "    069    = CANON\n",
    "    070    = BISHOP\n",
    "    072002 = REVEREND & MRS.\n",
    "    073    = PASTOR\n",
    "    075    = ARCHBISHOP\n",
    "    085    = SPECIALIST\n",
    "    087    = PRIVATE\n",
    "    089    = SEAMAN\n",
    "    090    = AIRMAN\n",
    "    091    = JUSTICE\n",
    "    092    = MR. JUSTICE\n",
    "    100    = M.\n",
    "    103    = MLLE.\n",
    "    104    = CHANCELLOR\n",
    "    106    = REPRESENTATIVE\n",
    "    107    = SECRETARY\n",
    "    108    = LT. GOVERNOR\n",
    "    109    = LIC.\n",
    "    111    = SA.\n",
    "    114    = DA.\n",
    "    116    = SR.\n",
    "    117    = SRA.\n",
    "    118    = SRTA.\n",
    "    120    = YOUR MAJESTY\n",
    "    122    = HIS HIGHNESS\n",
    "    123    = HER HIGHNESS\n",
    "    124    = COUNT\n",
    "    125    = LADY\n",
    "    126    = PRINCE\n",
    "    127    = PRINCESS\n",
    "    128    = CHIEF\n",
    "    129    = BARON\n",
    "    130    = SHEIK\n",
    "    131    = PRINCE AND PRINCESS\n",
    "    132    = YOUR IMPERIAL MAJEST\n",
    "    135    = M. ET MME.\n",
    "    210    = PROF.\n",
    "\"\"\"\n",
    "\n",
    "# print(\n",
    "#     re.sub(\n",
    "#         r'0*(?P<keepleft>\\d+)\\W*=\\W*(?P<keep>.*)', \n",
    "#         r'\"\\g<keepleft>\" : \"\\g<keep>\",', \n",
    "#         tcodes\n",
    "#     ).strip()\n",
    "# )"
   ]
  },
  {
   "cell_type": "code",
   "execution_count": null,
   "metadata": {},
   "outputs": [],
   "source": [
    "dictTCODE = {\n",
    "    \"0\" : \"_\",\n",
    "    \"1\" : \"MR.\",\n",
    "    \"1001\" : \"MESSRS.\",\n",
    "    \"1002\" : \"MR. & MRS.\",\n",
    "    \"2\" : \"MRS.\",\n",
    "    \"2002\" : \"MESDAMES\",\n",
    "    \"3\" : \"MISS\",\n",
    "    \"3003\" : \"MISSES\",\n",
    "    \"4\" : \"DR.\",\n",
    "    \"4002\" : \"DR. & MRS.\",\n",
    "    \"4004\" : \"DOCTORS\",\n",
    "    \"5\" : \"MADAME\",\n",
    "    \"6\" : \"SERGEANT\",\n",
    "    \"9\" : \"RABBI\",\n",
    "    \"10\" : \"PROFESSOR\",\n",
    "    \"10002\" : \"PROFESSOR & MRS.\",\n",
    "    \"10010\" : \"PROFESSORS\",\n",
    "    \"11\" : \"ADMIRAL\",\n",
    "    \"11002\" : \"ADMIRAL & MRS.\",\n",
    "    \"12\" : \"GENERAL\",\n",
    "    \"12002\" : \"GENERAL & MRS.\",\n",
    "    \"13\" : \"COLONEL\",\n",
    "    \"13002\" : \"COLONEL & MRS.\",\n",
    "    \"14\" : \"CAPTAIN\",\n",
    "    \"14002\" : \"CAPTAIN & MRS.\",\n",
    "    \"15\" : \"COMMANDER\",\n",
    "    \"15002\" : \"COMMANDER & MRS.\",\n",
    "    \"16\" : \"DEAN\",\n",
    "    \"17\" : \"JUDGE\",\n",
    "    \"17002\" : \"JUDGE & MRS.\",\n",
    "    \"18\" : \"MAJOR\",\n",
    "    \"18002\" : \"MAJOR & MRS.\",\n",
    "    \"19\" : \"SENATOR\",\n",
    "    \"20\" : \"GOVERNOR\",\n",
    "    \"21002\" : \"SERGEANT & MRS.\",\n",
    "    \"22002\" : \"COLNEL & MRS.\",\n",
    "    \"24\" : \"LIEUTENANT\",\n",
    "    \"26\" : \"MONSIGNOR\",\n",
    "    \"27\" : \"REVEREND\",\n",
    "    \"28\" : \"MS.\",\n",
    "    \"28028\" : \"MSS.\",\n",
    "    \"29\" : \"BISHOP\",\n",
    "    \"31\" : \"AMBASSADOR\",\n",
    "    \"31002\" : \"AMBASSADOR & MRS.\",\n",
    "    \"33\" : \"CANTOR\",\n",
    "    \"36\" : \"BROTHER\",\n",
    "    \"37\" : \"SIR\",\n",
    "    \"38\" : \"COMMODORE\",\n",
    "    \"40\" : \"FATHER\",\n",
    "    \"42\" : \"SISTER\",\n",
    "    \"43\" : \"PRESIDENT\",\n",
    "    \"44\" : \"MASTER\",\n",
    "    \"46\" : \"MOTHER\",\n",
    "    \"47\" : \"CHAPLAIN\",\n",
    "    \"48\" : \"CORPORAL\",\n",
    "    \"50\" : \"ELDER\",\n",
    "    \"56\" : \"MAYOR\",\n",
    "    \"59002\" : \"LIEUTENANT & MRS.\",\n",
    "    \"62\" : \"LORD\",\n",
    "    \"63\" : \"CARDINAL\",\n",
    "    \"64\" : \"FRIEND\",\n",
    "    \"65\" : \"FRIENDS\",\n",
    "    \"68\" : \"ARCHDEACON\",\n",
    "    \"69\" : \"CANON\",\n",
    "    \"70\" : \"BISHOP\",\n",
    "    \"72002\" : \"REVEREND & MRS.\",\n",
    "    \"73\" : \"PASTOR\",\n",
    "    \"75\" : \"ARCHBISHOP\",\n",
    "    \"85\" : \"SPECIALIST\",\n",
    "    \"87\" : \"PRIVATE\",\n",
    "    \"89\" : \"SEAMAN\",\n",
    "    \"90\" : \"AIRMAN\",\n",
    "    \"91\" : \"JUSTICE\",\n",
    "    \"92\" : \"MR. JUSTICE\",\n",
    "    \"100\" : \"M.\",\n",
    "    \"103\" : \"MLLE.\",\n",
    "    \"104\" : \"CHANCELLOR\",\n",
    "    \"106\" : \"REPRESENTATIVE\",\n",
    "    \"107\" : \"SECRETARY\",\n",
    "    \"108\" : \"LT. GOVERNOR\",\n",
    "    \"109\" : \"LIC.\",\n",
    "    \"111\" : \"SA.\",\n",
    "    \"114\" : \"DA.\",\n",
    "    \"116\" : \"SR.\",\n",
    "    \"117\" : \"SRA.\",\n",
    "    \"118\" : \"SRTA.\",\n",
    "    \"120\" : \"YOUR MAJESTY\",\n",
    "    \"122\" : \"HIS HIGHNESS\",\n",
    "    \"123\" : \"HER HIGHNESS\",\n",
    "    \"124\" : \"COUNT\",\n",
    "    \"125\" : \"LADY\",\n",
    "    \"126\" : \"PRINCE\",\n",
    "    \"127\" : \"PRINCESS\",\n",
    "    \"128\" : \"CHIEF\",\n",
    "    \"129\" : \"BARON\",\n",
    "    \"130\" : \"SHEIK\",\n",
    "    \"131\" : \"PRINCE AND PRINCESS\",\n",
    "    \"132\" : \"YOUR IMPERIAL MAJEST\",\n",
    "    \"135\" : \"M. ET MME.\",\n",
    "    \"210\" : \"PROF.\",\n",
    "}"
   ]
  },
  {
   "cell_type": "code",
   "execution_count": null,
   "metadata": {},
   "outputs": [],
   "source": [
    "df[\"cat_TCODE\"] = df.TCODE.replace(to_replace=dictTCODE)"
   ]
  },
  {
   "cell_type": "code",
   "execution_count": null,
   "metadata": {},
   "outputs": [],
   "source": [
    "df.cat_TCODE.unique()"
   ]
  },
  {
   "cell_type": "code",
   "execution_count": null,
   "metadata": {},
   "outputs": [],
   "source": [
    "# Drop columns ?\n",
    "condition = (df.cat_TCODE.isin(dictTCODE.values()))\n",
    "df.cat_TCODE.where(condition, \"_\", inplace=True)"
   ]
  },
  {
   "cell_type": "code",
   "execution_count": null,
   "metadata": {
    "jupyter": {
     "outputs_hidden": true
    }
   },
   "outputs": [],
   "source": [
    "df.cat_TCODE.value_counts()[:10]"
   ]
  },
  {
   "cell_type": "code",
   "execution_count": null,
   "metadata": {
    "jupyter": {
     "outputs_hidden": true
    }
   },
   "outputs": [],
   "source": [
    "df.groupby(by=\"cat_TCODE\", axis=0)[\"AGE\"].median()"
   ]
  },
  {
   "cell_type": "code",
   "execution_count": null,
   "metadata": {},
   "outputs": [],
   "source": [
    "# Flags\n",
    "\n",
    "flagsBinary = [\n",
    "    \"NOEXCH\",  # binary\n",
    "    \"RECINHSE\",  # binary\n",
    "    \"RECP3\",  # binary\n",
    "    \"RECPGVG\",  # binary\n",
    "    \"RECSWEEP\",  # binary\n",
    "    \"MAJOR\",  # binary\n",
    "]\n",
    "\n",
    "df[flagsBinary].replace({\"X\": True, \" \": False, \"0\": False, \"1\": True})"
   ]
  },
  {
   "cell_type": "code",
   "execution_count": null,
   "metadata": {},
   "outputs": [],
   "source": [
    "# Family Aggregate Data - loc[:, \"DOMAIN\":\"WEALTH1\"]\n",
    "# FAD_name\n",
    "\n",
    "domainCats = [\n",
    "    letter + str(i) for i in range(1, 4) for letter in [\"U\", \"C\", \"S\", \"T\", \"R\"]\n",
    "]\n",
    "\n",
    "domainCats.reverse()\n",
    "domainCats.insert(4, \"U4\")\n",
    "\n",
    "df[\"cat_FAD_domain\"] = pd.Categorical(df.DOMAIN, categories=domainCats, ordered=True)"
   ]
  },
  {
   "cell_type": "code",
   "execution_count": null,
   "metadata": {},
   "outputs": [],
   "source": [
    "df.cat_FAD_domain"
   ]
  },
  {
   "cell_type": "code",
   "execution_count": null,
   "metadata": {},
   "outputs": [],
   "source": []
  },
  {
   "cell_type": "code",
   "execution_count": null,
   "metadata": {},
   "outputs": [],
   "source": []
  }
 ],
 "metadata": {
  "kernelspec": {
   "display_name": "Python 3",
   "language": "python",
   "name": "python3"
  },
  "language_info": {
   "codemirror_mode": {
    "name": "ipython",
    "version": 3
   },
   "file_extension": ".py",
   "mimetype": "text/x-python",
   "name": "python",
   "nbconvert_exporter": "python",
   "pygments_lexer": "ipython3",
   "version": "3.8.5"
  }
 },
 "nbformat": 4,
 "nbformat_minor": 4
}
