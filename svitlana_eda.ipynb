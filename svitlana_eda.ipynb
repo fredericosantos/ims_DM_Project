{
 "cells": [
  {
   "cell_type": "code",
   "execution_count": 1,
   "metadata": {},
   "outputs": [],
   "source": [
    "# Remember: library imports are ALWAYS at the top of the script, no exceptions!\n",
    "import sqlite3\n",
    "import os\n",
    "import pandas as pd\n",
    "import numpy as np\n",
    "import matplotlib\n",
    "import matplotlib.pyplot as plt\n",
    "import seaborn as sns\n",
    "from math import ceil\n",
    "\n",
    "import dtale\n",
    "\n",
    "# notice we are adding two new imports for visualizations; This was not here last class\n",
    "from itertools import product\n",
    "from pandas_profiling import ProfileReport\n",
    "\n",
    "\n",
    "# for better resolution plots\n",
    "%config InlineBackend.figure_format = 'retina' # optionally, you can change 'svg' to 'retina'\n",
    "\n",
    "# Seeting seaborn style\n",
    "sns.set()\n",
    "\n",
    "\n",
    "from datetime import datetime\n",
    "import calendar"
   ]
  },
  {
   "cell_type": "code",
   "execution_count": 2,
   "metadata": {},
   "outputs": [],
   "source": [
    "data = pd.read_csv (\"/Users/vsa/Documents/DM/data/donors.csv\", low_memory=False)"
   ]
  },
  {
   "cell_type": "code",
   "execution_count": 20,
   "metadata": {},
   "outputs": [],
   "source": [
    "# Choosing columns of interest \n",
    "col_df = data[['STATE',\n",
    "               'ZIP',\n",
    "               'MAILCODE',\n",
    "               'PVASTATE',\n",
    "               'DOB',\n",
    "               'DOMAIN',\n",
    "               'HOMEOWNR',\n",
    "               'NUMCHLD',\n",
    "               'INCOME',\n",
    "               'GENDER',\n",
    "               'WEALTH1', \n",
    "               'LOCALGOV',\n",
    "               'STATEGOV',\n",
    "               'FEDGOV',\n",
    "               'SOLIH',\n",
    "               'WEALTH2', #HC (highly correlated) with WEALTH1 (0.86) - could be used to fill nans and drop 1\n",
    "               'VETERANS',\n",
    "               'AGE901',\n",
    " #              'HHP1', #HC (highly correlated) with RHP3 (0.97)\n",
    "               'HV1',\n",
    "               'HV3',\n",
    "               'RHP1',\n",
    "               'RHP3',\n",
    "               'RHP4',\n",
    "               'MSA',\n",
    "               'DMA',\n",
    "               'IC1',\n",
    "               'IC2',\n",
    "               'IC15',\n",
    "               'IC16',\n",
    "               'IC17',\n",
    "               'IC18',\n",
    "               'IC19',\n",
    "               'IC20',\n",
    "               'IC21',\n",
    "               'IC22',\n",
    "               'IC23',\n",
    "#               'OEDC1', # HC with LOCALGOV 0.82\n",
    "#               'OEDC2', # HC with STATEGOV 0.85\n",
    "#               'OEDC3', # HC with FEDGOV 0.86\n",
    "               'OEDC4',\n",
    "               'OEDC5',\n",
    "               'OEDC6',\n",
    "               'OEDC7',\n",
    "               'EC1',\n",
    "               'AC1',\n",
    "               'AC2',\n",
    "               'RFA_2R',\n",
    "               'RFA_2F',\n",
    "               'RFA_2A',\n",
    "               \n",
    "               'RFA_3', #need to be split to 3 columns as RFA 2, has additional info about status from 2016\n",
    "               \n",
    "               'MDMAUD_R',\n",
    "               'MDMAUD_F',\n",
    "               'MDMAUD_A',\n",
    "              # 'CONTROLN',\n",
    "               'CARDPROM', \n",
    "#               'NUMPROM', #HC with CARDPROM - 0.95\n",
    "               'RAMNTALL',\n",
    " #              'NGIFTALL',# HC with CARDGIFT, no need to have an info about all gifts if we explore card response\n",
    "               'CARDGIFT',\n",
    "               'LASTGIFT',\n",
    "               'AVGGIFT',\n",
    "               'CARDPM12',\n",
    "               'NUMPRM12',\n",
    "               'PEPSTRFL']]"
   ]
  },
  {
   "cell_type": "code",
   "execution_count": 21,
   "metadata": {},
   "outputs": [],
   "source": [
    "df = col_df.iloc[:15000, :].copy()"
   ]
  },
  {
   "cell_type": "code",
   "execution_count": 22,
   "metadata": {},
   "outputs": [
    {
     "data": {
      "text/plain": [
       "(15000, 58)"
      ]
     },
     "execution_count": 22,
     "metadata": {},
     "output_type": "execute_result"
    }
   ],
   "source": [
    "# Dimension of the dataset\n",
    "df.shape"
   ]
  },
  {
   "cell_type": "code",
   "execution_count": 11,
   "metadata": {},
   "outputs": [
    {
     "data": {
      "text/plain": [
       "False"
      ]
     },
     "execution_count": 11,
     "metadata": {},
     "output_type": "execute_result"
    }
   ],
   "source": [
    "# Check duplicates in data\n",
    "any(data.duplicated())"
   ]
  },
  {
   "cell_type": "code",
   "execution_count": 13,
   "metadata": {},
   "outputs": [
    {
     "data": {
      "text/plain": [
       "23883"
      ]
     },
     "execution_count": 13,
     "metadata": {},
     "output_type": "execute_result"
    }
   ],
   "source": [
    "#Number of missing values in DOB\n",
    "len(data[data.DOB.isnull()])"
   ]
  },
  {
   "cell_type": "code",
   "execution_count": null,
   "metadata": {},
   "outputs": [],
   "source": [
    "# df[~df.DOB.isnull()]"
   ]
  },
  {
   "cell_type": "code",
   "execution_count": 19,
   "metadata": {},
   "outputs": [],
   "source": [
    "# df.DOB.fillna('1800-01-01', inplace=True)\n",
    "# df.DOB  = df.DOB.map(lambda x: datetime.strptime(x, '%Y-%m-%d'))\n",
    "# df['YOB']  = df.DOB.map(lambda x: x.year)"
   ]
  },
  {
   "cell_type": "code",
   "execution_count": 23,
   "metadata": {},
   "outputs": [
    {
     "data": {
      "text/html": [
       "\n",
       "        <iframe\n",
       "            width=\"100%\"\n",
       "            height=\"475\"\n",
       "            src=\"http://localhost:40000/dtale/iframe/4\"\n",
       "            frameborder=\"0\"\n",
       "            allowfullscreen\n",
       "        ></iframe>\n",
       "        "
      ],
      "text/plain": [
       "<IPython.lib.display.IFrame at 0x7f870bfd5550>"
      ]
     },
     "metadata": {},
     "output_type": "display_data"
    },
    {
     "data": {
      "text/plain": []
     },
     "execution_count": 23,
     "metadata": {},
     "output_type": "execute_result"
    }
   ],
   "source": [
    "dtale.show(df)"
   ]
  },
  {
   "cell_type": "markdown",
   "metadata": {},
   "source": [
    "## Coherence Checks\n",
    "Date of donor's first gift to PVA\n",
    "cannot be earlier than his/her Date of Birthday (DOB)"
   ]
  },
  {
   "cell_type": "code",
   "execution_count": 39,
   "metadata": {},
   "outputs": [
    {
     "data": {
      "text/plain": [
       "318"
      ]
     },
     "execution_count": 39,
     "metadata": {},
     "output_type": "execute_result"
    }
   ],
   "source": [
    "len(data[data.ODATEDW <= data.DOB])"
   ]
  },
  {
   "cell_type": "code",
   "execution_count": 46,
   "metadata": {},
   "outputs": [
    {
     "data": {
      "text/plain": [
       "15.988760685064387"
      ]
     },
     "execution_count": 46,
     "metadata": {},
     "output_type": "execute_result"
    }
   ],
   "source": [
    "# df[df.PEPSTRFL!='X'].AVGGIFT.mean()"
   ]
  },
  {
   "cell_type": "code",
   "execution_count": 47,
   "metadata": {},
   "outputs": [
    {
     "data": {
      "text/plain": [
       "10.33432021457179"
      ]
     },
     "execution_count": 47,
     "metadata": {},
     "output_type": "execute_result"
    }
   ],
   "source": [
    "# df[df.PEPSTRFL=='X'].AVGGIFT.mean()"
   ]
  },
  {
   "cell_type": "code",
   "execution_count": null,
   "metadata": {},
   "outputs": [],
   "source": []
  }
 ],
 "metadata": {
  "kernelspec": {
   "display_name": "Python 3",
   "language": "python",
   "name": "python3"
  },
  "language_info": {
   "codemirror_mode": {
    "name": "ipython",
    "version": 3
   },
   "file_extension": ".py",
   "mimetype": "text/x-python",
   "name": "python",
   "nbconvert_exporter": "python",
   "pygments_lexer": "ipython3",
   "version": "3.8.3"
  }
 },
 "nbformat": 4,
 "nbformat_minor": 4
}
