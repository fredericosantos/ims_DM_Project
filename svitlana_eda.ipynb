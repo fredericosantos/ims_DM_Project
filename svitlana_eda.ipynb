{
 "cells": [
  {
   "cell_type": "code",
   "execution_count": 1,
   "metadata": {},
   "outputs": [
    {
     "ename": "ModuleNotFoundError",
     "evalue": "No module named 'dtale'",
     "output_type": "error",
     "traceback": [
      "\u001b[1;31m---------------------------------------------------------------------------\u001b[0m",
      "\u001b[1;31mModuleNotFoundError\u001b[0m                       Traceback (most recent call last)",
      "\u001b[1;32m<ipython-input-1-0c7d514afef0>\u001b[0m in \u001b[0;36m<module>\u001b[1;34m\u001b[0m\n\u001b[0;32m      9\u001b[0m \u001b[1;32mfrom\u001b[0m \u001b[0mmath\u001b[0m \u001b[1;32mimport\u001b[0m \u001b[0mceil\u001b[0m\u001b[1;33m\u001b[0m\u001b[1;33m\u001b[0m\u001b[0m\n\u001b[0;32m     10\u001b[0m \u001b[1;33m\u001b[0m\u001b[0m\n\u001b[1;32m---> 11\u001b[1;33m \u001b[1;32mimport\u001b[0m \u001b[0mdtale\u001b[0m\u001b[1;33m\u001b[0m\u001b[1;33m\u001b[0m\u001b[0m\n\u001b[0m\u001b[0;32m     12\u001b[0m \u001b[1;33m\u001b[0m\u001b[0m\n\u001b[0;32m     13\u001b[0m \u001b[1;31m# notice we are adding two new imports for visualizations; This was not here last class\u001b[0m\u001b[1;33m\u001b[0m\u001b[1;33m\u001b[0m\u001b[1;33m\u001b[0m\u001b[0m\n",
      "\u001b[1;31mModuleNotFoundError\u001b[0m: No module named 'dtale'"
     ]
    }
   ],
   "source": [
    "# Remember: library imports are ALWAYS at the top of the script, no exceptions!\n",
    "import sqlite3\n",
    "import os\n",
    "import pandas as pd\n",
    "import numpy as np\n",
    "import matplotlib\n",
    "import matplotlib.pyplot as plt\n",
    "import seaborn as sns\n",
    "from math import ceil\n",
    "\n",
    "import dtale\n",
    "\n",
    "from itertools import product\n",
    "from pandas_profiling import ProfileReport\n",
    "\n",
    "\n",
    "%config InlineBackend.figure_format = 'retina' # optionally, you can change 'svg' to 'retina'\n",
    "\n",
    "# Seeting seaborn style\n",
    "sns.set()\n",
    "\n",
    "\n",
    "from datetime import datetime\n",
    "import calendar"
   ]
  },
  {
   "cell_type": "code",
   "execution_count": 2,
   "metadata": {},
   "outputs": [],
   "source": [
    "data = pd.read_csv (\"/Users/vsa/Documents/DM/data/donors.csv\", low_memory=False)"
   ]
  },
  {
   "cell_type": "code",
   "execution_count": 3,
   "metadata": {},
   "outputs": [],
   "source": [
    "# For a ML model, low variance feature may not add a lot of information and thus can be ignored for modeling.\n",
    "\n",
    "# Low variance columns could be seen from dtale:\n",
    "# 'MBCOLECT', 'PUBPHOTO', 'ETH12', 'TPE5', 'TPE6', 'AFC3', 'HC15'\n",
    "\n",
    "\n",
    "# Choosing columns of interest \n",
    "col_df = data[['STATE',\n",
    "               'ZIP',\n",
    "               'MAILCODE',\n",
    "               'TCODE',\n",
    "               'PVASTATE',\n",
    "               'DOB',\n",
    "               'DOMAIN',\n",
    "               'HOMEOWNR',\n",
    "               'NUMCHLD',\n",
    "               'INCOME',\n",
    "               'GENDER',\n",
    "               'WEALTH1', \n",
    "               'LOCALGOV',\n",
    "               'STATEGOV',\n",
    "               'FEDGOV',\n",
    "               'SOLIH',\n",
    "               'WEALTH2', #HC (highly correlated) with WEALTH1 (0.86) - could be used to fill nans and drop 1\n",
    "               'VETERANS',\n",
    "               'AGE901',\n",
    " #              'HHP1', #HC (highly correlated) with RHP3 (0.97)\n",
    "               'HV1',\n",
    "               'HV3',\n",
    "               'RHP1',\n",
    "               'RHP3',\n",
    "               'RHP4',\n",
    "               'MSA',\n",
    "               'DMA',\n",
    "               'IC1',\n",
    "               'IC2',\n",
    "               'IC15',\n",
    "               'IC16',\n",
    "               'IC17',\n",
    "               'IC18',\n",
    "               'IC19',\n",
    "               'IC20',\n",
    "               'IC21',\n",
    "               'IC22',\n",
    "               'IC23',\n",
    "#               'OEDC1', # HC with LOCALGOV 0.82\n",
    "#               'OEDC2', # HC with STATEGOV 0.85\n",
    "#               'OEDC3', # HC with FEDGOV 0.86\n",
    "               'OEDC4',\n",
    "               'OEDC5',\n",
    "               'OEDC6',\n",
    "               'OEDC7',\n",
    "               'EC1',\n",
    "               'AC1',\n",
    "               'AC2',\n",
    "               'RFA_2R',\n",
    "               'RFA_2F',\n",
    "               'RFA_2A',\n",
    "               \n",
    "               'RFA_3', #need to be split to 3 columns as RFA 2, has additional info about status from 2016\n",
    "               \n",
    "               'MDMAUD_R',\n",
    "               'MDMAUD_F',\n",
    "               'MDMAUD_A',\n",
    "               'CONTROLN',\n",
    "               'CARDPROM', \n",
    "               'NUMPROM', #HC with CARDPROM - 0.95\n",
    "               'RAMNTALL',\n",
    "               'NGIFTALL',# HC with CARDGIFT, no need to have an info about all gifts if we explore card response\n",
    "               'CARDGIFT',\n",
    "               'LASTGIFT',\n",
    "               'AVGGIFT',\n",
    "               'CARDPM12',\n",
    "               'NUMPRM12',\n",
    "               'PEPSTRFL']]"
   ]
  },
  {
   "cell_type": "code",
   "execution_count": 4,
   "metadata": {},
   "outputs": [],
   "source": [
    "df = data.iloc[:15000, :].copy()"
   ]
  },
  {
   "cell_type": "code",
   "execution_count": 5,
   "metadata": {},
   "outputs": [
    {
     "data": {
      "text/plain": [
       "(15000, 476)"
      ]
     },
     "execution_count": 5,
     "metadata": {},
     "output_type": "execute_result"
    }
   ],
   "source": [
    "# Dimension of the dataset\n",
    "df.shape"
   ]
  },
  {
   "cell_type": "code",
   "execution_count": 6,
   "metadata": {},
   "outputs": [
    {
     "data": {
      "text/plain": [
       "False"
      ]
     },
     "execution_count": 6,
     "metadata": {},
     "output_type": "execute_result"
    }
   ],
   "source": [
    "# Check duplicates in data\n",
    "any(data.duplicated())"
   ]
  },
  {
   "cell_type": "code",
   "execution_count": 7,
   "metadata": {},
   "outputs": [
    {
     "data": {
      "text/plain": [
       "23883"
      ]
     },
     "execution_count": 7,
     "metadata": {},
     "output_type": "execute_result"
    }
   ],
   "source": [
    "#Number of missing values in DOB\n",
    "len(data[data.DOB.isnull()])"
   ]
  },
  {
   "cell_type": "code",
   "execution_count": 8,
   "metadata": {},
   "outputs": [],
   "source": [
    "\n",
    "# df.DOB  = df.DOB.map(lambda x: datetime.strptime(x, '%Y-%m-%d'))\n",
    "# df['YOB']  = df.DOB.map(lambda x: x.year)"
   ]
  },
  {
   "cell_type": "code",
   "execution_count": null,
   "metadata": {},
   "outputs": [],
   "source": []
  },
  {
   "cell_type": "code",
   "execution_count": null,
   "metadata": {},
   "outputs": [],
   "source": []
  },
  {
   "cell_type": "markdown",
   "metadata": {},
   "source": [
    "## Coherence Checks\n",
    "Date of donor's first gift to PVA\n",
    "cannot be earlier than his/her Date of Birthday (DOB)"
   ]
  },
  {
   "cell_type": "code",
   "execution_count": 14,
   "metadata": {},
   "outputs": [
    {
     "data": {
      "text/plain": [
       "318"
      ]
     },
     "execution_count": 14,
     "metadata": {},
     "output_type": "execute_result"
    }
   ],
   "source": [
    "len(data[data.ODATEDW <= data.DOB])"
   ]
  },
  {
   "cell_type": "code",
   "execution_count": 12,
   "metadata": {},
   "outputs": [],
   "source": [
    "\n",
    "# AGE RELATED\n",
    "data.DOB = pd.to_datetime(data.DOB)\n",
    "data[\"AGE\"] = np.int16(2020 - pd.to_datetime(data.DOB).dt.year)\n",
    "data.AGE = data.AGE.where(data.AGE != 0, np.nan)"
   ]
  },
  {
   "cell_type": "code",
   "execution_count": 13,
   "metadata": {},
   "outputs": [],
   "source": [
    "dictTCODE = {\n",
    "    \"0\" : \"_\",\n",
    "    \"1\" : \"MR.\",\n",
    "    \"1001\" : \"MESSRS.\",\n",
    "    \"1002\" : \"MR. & MRS.\",\n",
    "    \"2\" : \"MRS.\",\n",
    "    \"2002\" : \"MESDAMES\",\n",
    "    \"3\" : \"MISS\",\n",
    "    \"3003\" : \"MISSES\",\n",
    "    \"4\" : \"DR.\",\n",
    "    \"4002\" : \"DR. & MRS.\",\n",
    "    \"4004\" : \"DOCTORS\",\n",
    "    \"5\" : \"MADAME\",\n",
    "    \"6\" : \"SERGEANT\",\n",
    "    \"9\" : \"RABBI\",\n",
    "    \"10\" : \"PROFESSOR\",\n",
    "    \"10002\" : \"PROFESSOR & MRS.\",\n",
    "    \"10010\" : \"PROFESSORS\",\n",
    "    \"11\" : \"ADMIRAL\",\n",
    "    \"11002\" : \"ADMIRAL & MRS.\",\n",
    "    \"12\" : \"GENERAL\",\n",
    "    \"12002\" : \"GENERAL & MRS.\",\n",
    "    \"13\" : \"COLONEL\",\n",
    "    \"13002\" : \"COLONEL & MRS.\",\n",
    "    \"14\" : \"CAPTAIN\",\n",
    "    \"14002\" : \"CAPTAIN & MRS.\",\n",
    "    \"15\" : \"COMMANDER\",\n",
    "    \"15002\" : \"COMMANDER & MRS.\",\n",
    "    \"16\" : \"DEAN\",\n",
    "    \"17\" : \"JUDGE\",\n",
    "    \"17002\" : \"JUDGE & MRS.\",\n",
    "    \"18\" : \"MAJOR\",\n",
    "    \"18002\" : \"MAJOR & MRS.\",\n",
    "    \"19\" : \"SENATOR\",\n",
    "    \"20\" : \"GOVERNOR\",\n",
    "    \"21002\" : \"SERGEANT & MRS.\",\n",
    "    \"22002\" : \"COLONEL & MRS.\", #mistype in COLONEL, was changed here\n",
    "    \"24002\" : \"LIEUTENANT & MRS.\", #XX002 code is used for someone & MRS.\n",
    "    \"24\" : \"LIEUTENANT\",\n",
    "    \"26\" : \"MONSIGNOR\",\n",
    "    \"27\" : \"REVEREND\",\n",
    "    \"28\" : \"MS.\",\n",
    "    \"28028\" : \"MSS.\",\n",
    "    \"29\" : \"BISHOP\",\n",
    "    \"31\" : \"AMBASSADOR\",\n",
    "    \"31002\" : \"AMBASSADOR & MRS.\",\n",
    "    \"33\" : \"CANTOR\",\n",
    "    \"36\" : \"BROTHER\",\n",
    "    \"37\" : \"SIR\",\n",
    "    \"38\" : \"COMMODORE\",\n",
    "    \"40\" : \"FATHER\",\n",
    "    \"42\" : \"SISTER\",\n",
    "    \"43\" : \"PRESIDENT\",\n",
    "    \"44\" : \"MASTER\",\n",
    "    \"46\" : \"MOTHER\",\n",
    "    \"47\" : \"CHAPLAIN\",\n",
    "    \"48\" : \"CORPORAL\",\n",
    "    \"50\" : \"ELDER\",\n",
    "    \"56\" : \"MAYOR\",\n",
    "    \"59002\" : \"LIEUTENANT & MRS.\",\n",
    "    \"62\" : \"LORD\",\n",
    "    \"63\" : \"CARDINAL\",\n",
    "    \"64\" : \"FRIEND\",\n",
    "    \"65\" : \"FRIENDS\",\n",
    "    \"68\" : \"ARCHDEACON\",\n",
    "    \"69\" : \"CANON\",\n",
    "    \"70\" : \"BISHOP\",\n",
    "    \"72002\" : \"REVEREND & MRS.\",\n",
    "    \"73\" : \"PASTOR\",\n",
    "    \"75\" : \"ARCHBISHOP\",\n",
    "    \"85\" : \"SPECIALIST\",\n",
    "    \"87\" : \"PRIVATE\",\n",
    "    \"89\" : \"SEAMAN\", \n",
    "    \"90\" : \"AIRMAN\",\n",
    "    \"91\" : \"JUSTICE\",\n",
    "    \"92\" : \"MR. JUSTICE\",\n",
    "    \"100\" : \"M.\",\n",
    "    \"103\" : \"MLLE.\",\n",
    "    \"104\" : \"CHANCELLOR\",\n",
    "    \"106\" : \"REPRESENTATIVE\",\n",
    "    \"107\" : \"SECRETARY\",\n",
    "    \"108\" : \"LT. GOVERNOR\",\n",
    "    \"109\" : \"LIC.\",\n",
    "    \"111\" : \"SA.\",\n",
    "    \"114\" : \"DA.\",\n",
    "    \"116\" : \"MR.\", #Changed SR ro MR\n",
    "    \"117\" : \"MRS.\", #Changed SRA ro MRS\n",
    "    \"118\" : \"MISS\", #Cnanged SRTA. to MISS\n",
    "    \"120\" : \"YOUR MAJESTY\",\n",
    "    \"122\" : \"HIS HIGHNESS\",\n",
    "    \"123\" : \"HER HIGHNESS\",\n",
    "    \"124\" : \"COUNT\",\n",
    "    \"125\" : \"LADY\",\n",
    "    \"126\" : \"PRINCE\",\n",
    "    \"127\" : \"PRINCESS\",\n",
    "    \"128\" : \"CHIEF\",\n",
    "    \"129\" : \"BARON\",\n",
    "    \"130\" : \"SHEIK\",\n",
    "    \"131\" : \"PRINCE AND PRINCESS\",\n",
    "    \"132\" : \"YOUR IMPERIAL MAJEST\",\n",
    "    \"135\" : \"M. ET MME.\",\n",
    "    \"210\" : \"PROF.\",\n",
    "    '72': 'REVEREND', #because code 72002 REVEREND AND MRS, I think it was 072 and 027 for REVEREND \n",
    "    #because some systematic mistake (mistype), and in the end someone changed it in system\n",
    "    '22': \"COLONEL & MRS.\", #just a mistype,\n",
    "    \n",
    "}"
   ]
  },
  {
   "cell_type": "code",
   "execution_count": 14,
   "metadata": {},
   "outputs": [],
   "source": [
    "data['TCODE'] = data['TCODE'].apply(str)\n",
    "\n",
    "data[\"cat_TCODE\"] = data.TCODE.replace(to_replace=dictTCODE)"
   ]
  },
  {
   "cell_type": "markdown",
   "metadata": {},
   "source": [
    "CHECKING FOR INCONSISTENCIES IN TCODE\n",
    "- wrote down in doc all summary"
   ]
  },
  {
   "cell_type": "code",
   "execution_count": 28,
   "metadata": {},
   "outputs": [
    {
     "name": "stdout",
     "output_type": "stream",
     "text": [
      "Number of Men(GENDER M) with title MRS.(Mrs - womans title of married woman) 3412\n",
      "Number of men with title MISS (title of young or unmarried woman) 34\n",
      "Number of men with title MS. (title of married or not married woman) 216\n",
      "Number of women with title MR. (stays for mister, mans title) 255\n",
      "Number of men with title Sister 1\n",
      "Number of women with title Brother 0\n",
      "Number of women with title MR. & MRS., that implies that they should be men 46\n"
     ]
    }
   ],
   "source": [
    "# CHECKING FOR INCONSISTENCIES IN TCODE\n",
    "print('Number of Men(GENDER M) with title MRS.(Mrs - womans title of married woman)', \n",
    "      len(data[(data.GENDER == 'M')&(data.cat_TCODE == 'MRS.')]))\n",
    "print('Number of men with title MISS (title of young or unmarried woman)', \n",
    "      len(data[(data.GENDER == 'M')&(data.cat_TCODE == 'MISS')]))\n",
    "print('Number of men with title MS. (title of married or not married woman)', \n",
    "      len(data[(data.GENDER == 'M')&(data.cat_TCODE == 'MS.')]))\n",
    "print('Number of women with title MR. (stays for mister, mans title)', \n",
    "      len(data[(data.GENDER == 'F')&(data.cat_TCODE == 'MR.')]))\n",
    "print('Number of men with title Sister', \n",
    "      len(data[(data.GENDER == 'M')&(data.cat_TCODE == 'SISTER')]))\n",
    "print('Number of women with title Brother', \n",
    "      len(data[(data.GENDER == 'F')&(data.cat_TCODE == 'BROTHER')]))\n",
    "#women (F) that has code 'MR. & MRS.' that implies that they should be me\n",
    "print('Number of women with title MR. & MRS., that implies that they should be men',\n",
    "      len(data[(data.GENDER == 'F')&(data.cat_TCODE == 'MR. & MRS.')]))"
   ]
  },
  {
   "cell_type": "code",
   "execution_count": null,
   "metadata": {},
   "outputs": [],
   "source": []
  },
  {
   "cell_type": "code",
   "execution_count": null,
   "metadata": {},
   "outputs": [],
   "source": []
  },
  {
   "cell_type": "code",
   "execution_count": 21,
   "metadata": {},
   "outputs": [
    {
     "data": {
      "text/plain": [
       "30710"
      ]
     },
     "execution_count": 21,
     "metadata": {},
     "output_type": "execute_result"
    }
   ],
   "source": [
    "p = data.loc[(data.cat_TCODE != '_')&(data.GENDER == '')][['GENDER','AGE', 'cat_TCODE']]"
   ]
  },
  {
   "cell_type": "code",
   "execution_count": 20,
   "metadata": {},
   "outputs": [
    {
     "data": {
      "text/html": [
       "\n",
       "        <iframe\n",
       "            width=\"100%\"\n",
       "            height=\"475\"\n",
       "            src=\"http://localhost:40000/dtale/iframe/2\"\n",
       "            frameborder=\"0\"\n",
       "            allowfullscreen\n",
       "        ></iframe>\n",
       "        "
      ],
      "text/plain": [
       "<IPython.lib.display.IFrame at 0x7fe9b0c1f880>"
      ]
     },
     "metadata": {},
     "output_type": "display_data"
    },
    {
     "data": {
      "text/plain": []
     },
     "execution_count": 20,
     "metadata": {},
     "output_type": "execute_result"
    }
   ],
   "source": [
    "dtale.show(data)"
   ]
  },
  {
   "cell_type": "code",
   "execution_count": null,
   "metadata": {},
   "outputs": [],
   "source": []
  }
 ],
 "metadata": {
  "kernelspec": {
   "display_name": "Python 3",
   "language": "python",
   "name": "python3"
  },
  "language_info": {
   "codemirror_mode": {
    "name": "ipython",
    "version": 3
   },
   "file_extension": ".py",
   "mimetype": "text/x-python",
   "name": "python",
   "nbconvert_exporter": "python",
   "pygments_lexer": "ipython3",
   "version": "3.8.3"
  }
 },
 "nbformat": 4,
 "nbformat_minor": 4
}
