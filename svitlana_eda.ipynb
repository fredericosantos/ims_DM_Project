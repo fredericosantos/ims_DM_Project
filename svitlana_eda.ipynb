{
 "cells": [
  {
   "cell_type": "code",
   "execution_count": 76,
   "metadata": {},
   "outputs": [],
   "source": [
    "# Remember: library imports are ALWAYS at the top of the script, no exceptions!\n",
    "import sqlite3\n",
    "import os\n",
    "import pandas as pd\n",
    "import numpy as np\n",
    "import matplotlib\n",
    "import matplotlib.pyplot as plt\n",
    "import seaborn as sns\n",
    "from math import ceil\n",
    "import warnings\n",
    "warnings.filterwarnings('ignore')\n",
    "import dtale\n",
    "\n",
    "from itertools import product\n",
    "from pandas_profiling import ProfileReport\n",
    "\n",
    "\n",
    "%config InlineBackend.figure_format = 'retina' # optionally, you can change 'svg' to 'retina'\n",
    "\n",
    "# Seeting seaborn style\n",
    "sns.set()\n",
    "\n",
    "\n",
    "from datetime import datetime\n",
    "import calendar"
   ]
  },
  {
   "cell_type": "code",
   "execution_count": 57,
   "metadata": {},
   "outputs": [],
   "source": [
    "data = pd.read_csv (\"/Users/vsa/Documents/DM/data/donors.csv\", low_memory=False)"
   ]
  },
  {
   "cell_type": "code",
   "execution_count": 48,
   "metadata": {},
   "outputs": [
    {
     "data": {
      "text/html": [
       "\n",
       "        <iframe\n",
       "            width=\"100%\"\n",
       "            height=\"475\"\n",
       "            src=\"http://localhost:40000/dtale/iframe/5\"\n",
       "            frameborder=\"0\"\n",
       "            allowfullscreen\n",
       "        ></iframe>\n",
       "        "
      ],
      "text/plain": [
       "<IPython.lib.display.IFrame at 0x7faa4762e160>"
      ]
     },
     "metadata": {},
     "output_type": "display_data"
    },
    {
     "data": {
      "text/plain": []
     },
     "execution_count": 48,
     "metadata": {},
     "output_type": "execute_result"
    }
   ],
   "source": [
    "dtale.show(data, ignore_duplicate=True)"
   ]
  },
  {
   "cell_type": "code",
   "execution_count": 8,
   "metadata": {},
   "outputs": [],
   "source": [
    "\n",
    "# df.DOB  = df.DOB.map(lambda x: datetime.strptime(x, '%Y-%m-%d'))\n",
    "# df['YOB']  = df.DOB.map(lambda x: x.year)"
   ]
  },
  {
   "cell_type": "markdown",
   "metadata": {},
   "source": [
    "## Calculating age, recency etc"
   ]
  },
  {
   "cell_type": "code",
   "execution_count": 58,
   "metadata": {},
   "outputs": [
    {
     "data": {
      "text/plain": [
       "318"
      ]
     },
     "execution_count": 58,
     "metadata": {},
     "output_type": "execute_result"
    }
   ],
   "source": [
    "# Date of donor's first gift to PVA\n",
    "# cannot be earlier than his/her Date of Birthday (DOB)\n",
    "len(data[pd.to_datetime(data.ODATEDW) <= pd.to_datetime(data.DOB)])"
   ]
  },
  {
   "cell_type": "code",
   "execution_count": 59,
   "metadata": {},
   "outputs": [
    {
     "data": {
      "text/plain": [
       "0        59.0\n",
       "1        45.0\n",
       "2         NaN\n",
       "3        69.0\n",
       "4        77.0\n",
       "         ... \n",
       "95407     NaN\n",
       "95408    47.0\n",
       "95409    59.0\n",
       "95410    57.0\n",
       "95411    79.0\n",
       "Name: AGE, Length: 95412, dtype: float64"
      ]
     },
     "execution_count": 59,
     "metadata": {},
     "output_type": "execute_result"
    }
   ],
   "source": [
    "# AGE\n",
    "# Here I calculate age as it was discussed during Q&A session:\n",
    "# Calculate age on the moment of ADATE_2, paying attention that ADATE_2 has 2 different values in a column:\n",
    "# 2017-06-01 (95399 instances), 2017-04-01 (13 instances)\n",
    "data.DOB = pd.to_datetime(data.DOB)\n",
    "data.ADATE_2 = pd.to_datetime(data.ADATE_2)\n",
    "data[\"AGE\"] = ((data.ADATE_2) - (data.DOB)).astype('timedelta64[Y]') #.astype('int')\n",
    "#data.AGE = data.AGE.where(data.AGE != 0, np.nan)\n",
    "data.AGE"
   ]
  },
  {
   "cell_type": "code",
   "execution_count": null,
   "metadata": {},
   "outputs": [],
   "source": [
    "# Next I will calculate Recency code for RFA_2\n",
    "#                                     F=FIRST TIME DONOR Anyone who has made their\n",
    "#                                       first donation in the last 6 months and has\n",
    "#                                       made just one donation.\n",
    "    \n",
    "#                                     N=NEW DONOR Anyone who has made their first\n",
    "#                                       donation in the last 12 months and is not a\n",
    "#                                       First time donor.  This is everyone who made\n",
    "#                                       their first donation 7-12 months ago, or\n",
    "#                                       people who made their first donation between\n",
    "#                                       0-6 months ago and have made 2 or more\n",
    "#                                       donations.\n",
    "    \n",
    "#                                     A=ACTIVE DONOR Anyone who made their first\n",
    "#                                       donation more than 12 months ago and has made\n",
    "#                                       a donation in the last 12 months.\n",
    "    \n",
    "#                                     L=LAPSING DONOR A previous donor who made their\n",
    "#                                       last donation between 13-24 months ago.\n",
    "    \n",
    "#                                     I=INACTIVE DONOR A previous donor who has not\n",
    "#                                       made a donation in the last 24 months.  It is\n",
    "#                                       people who made a donation 25+ months ago.\n",
    "    \n",
    "#                                     S=STAR DONOR STAR Donors are individuals who\n",
    "#                                       have given to 3 consecutive card mailings.\n"
   ]
  },
  {
   "cell_type": "markdown",
   "metadata": {},
   "source": [
    "PER TASK: One group that is of particular interest to PVA is \"Lapsed\" donors. These are individuals who made their last donation to PVA 13 to 24 months ago. \n",
    "\n",
    "Let's find out all these groups of donors and create 'RECENCY' column"
   ]
  },
  {
   "cell_type": "code",
   "execution_count": 100,
   "metadata": {},
   "outputs": [
    {
     "name": "stdout",
     "output_type": "stream",
     "text": [
      "84132\n"
     ]
    }
   ],
   "source": [
    "# Calculate amount of months from the last day LASTDATE (Date associated with the most recent gift)\n",
    "# and ADATE_2 - Date the latest promotion was sent\n",
    "data ['ADATE_MONTHS'] = (pd.to_datetime(data.ADATE_2) - pd.to_datetime(data.LASTDATE)).astype('timedelta64[M]') \n",
    "\n",
    "data['RECENCY']= ''\n",
    "# Print Lapsed donours (that made their last donation to PVA 13 to 24 months ago )\n",
    "print(len(data [(data ['ADATE_MONTHS'] >=13.0)& (data ['ADATE_MONTHS'] <=24.0)]))\n",
    "data.loc[(data['ADATE_MONTHS'] >= 13.0)& (data['ADATE_MONTHS'] <= 24.0), 'RECENCY'] = 'L'"
   ]
  },
  {
   "cell_type": "code",
   "execution_count": 101,
   "metadata": {},
   "outputs": [
    {
     "name": "stdout",
     "output_type": "stream",
     "text": [
      "12\n"
     ]
    }
   ],
   "source": [
    "# Convert ODATEDW to datetime\n",
    "data.ODATEDW = pd.to_datetime(data.ODATEDW)\n",
    "data ['ODATEDW_MONTHS'] = (pd.to_datetime(data.ADATE_2) - pd.to_datetime(data.ODATEDW)).astype('timedelta64[M]')\n",
    "#  Print number of FIRST TIME DONOR donours (F=FIRST TIME DONOR Anyone who has made their first donation \n",
    "# in the last 6 months and has and has made just one donation.)\n",
    "\n",
    "print(len(data [(data['ADATE_MONTHS'] <= 6.0) & ((data['NGIFTALL'] == 1))]))\n",
    "data.loc[(data['ADATE_MONTHS'] <= 6.0) & (data['NGIFTALL'] == 1), 'RECENCY'] = 'F'"
   ]
  },
  {
   "cell_type": "code",
   "execution_count": null,
   "metadata": {},
   "outputs": [],
   "source": [
    "# N = NEW DONOR Anyone who has made their first donation in the last 12 months and is not a First time donor.  \n",
    "# This is everyone who made their first donation 7-12 months ago, or\n",
    "# people who made their first donation between 0-6 months ago and have made 2 or more donations."
   ]
  },
  {
   "cell_type": "code",
   "execution_count": null,
   "metadata": {},
   "outputs": [],
   "source": []
  },
  {
   "cell_type": "code",
   "execution_count": 66,
   "metadata": {},
   "outputs": [
    {
     "name": "stdout",
     "output_type": "stream",
     "text": [
      "3627\n",
      "Percent of inconsistencies  3.8014086278455537\n"
     ]
    }
   ],
   "source": [
    "# Checking for inconsistencies between ADATE_MONTHS and ODATEDW_MONTHS\n",
    "print(len(data [data ['ADATE_MONTHS'] > data['ODATEDW_MONTHS']]))\n",
    "print ('Percent of inconsistencies ', 3627/95412*100)\n",
    "\n",
    "#Percent is to high to delete all these rows"
   ]
  },
  {
   "cell_type": "code",
   "execution_count": null,
   "metadata": {},
   "outputs": [],
   "source": []
  },
  {
   "cell_type": "code",
   "execution_count": null,
   "metadata": {},
   "outputs": [],
   "source": []
  },
  {
   "cell_type": "code",
   "execution_count": null,
   "metadata": {},
   "outputs": [],
   "source": []
  },
  {
   "cell_type": "markdown",
   "metadata": {},
   "source": [
    "##### CHECKING FOR INCONSISTENCIES IN TCODE"
   ]
  },
  {
   "cell_type": "code",
   "execution_count": 13,
   "metadata": {},
   "outputs": [],
   "source": [
    "dictTCODE = {\n",
    "    \"0\" : \"_\",\n",
    "    \"1\" : \"MR.\",\n",
    "    \"1001\" : \"MESSRS.\",\n",
    "    \"1002\" : \"MR. & MRS.\",\n",
    "    \"2\" : \"MRS.\",\n",
    "    \"2002\" : \"MESDAMES\",\n",
    "    \"3\" : \"MISS\",\n",
    "    \"3003\" : \"MISSES\",\n",
    "    \"4\" : \"DR.\",\n",
    "    \"4002\" : \"DR. & MRS.\",\n",
    "    \"4004\" : \"DOCTORS\",\n",
    "    \"5\" : \"MADAME\",\n",
    "    \"6\" : \"SERGEANT\",\n",
    "    \"9\" : \"RABBI\",\n",
    "    \"10\" : \"PROFESSOR\",\n",
    "    \"10002\" : \"PROFESSOR & MRS.\",\n",
    "    \"10010\" : \"PROFESSORS\",\n",
    "    \"11\" : \"ADMIRAL\",\n",
    "    \"11002\" : \"ADMIRAL & MRS.\",\n",
    "    \"12\" : \"GENERAL\",\n",
    "    \"12002\" : \"GENERAL & MRS.\",\n",
    "    \"13\" : \"COLONEL\",\n",
    "    \"13002\" : \"COLONEL & MRS.\",\n",
    "    \"14\" : \"CAPTAIN\",\n",
    "    \"14002\" : \"CAPTAIN & MRS.\",\n",
    "    \"15\" : \"COMMANDER\",\n",
    "    \"15002\" : \"COMMANDER & MRS.\",\n",
    "    \"16\" : \"DEAN\",\n",
    "    \"17\" : \"JUDGE\",\n",
    "    \"17002\" : \"JUDGE & MRS.\",\n",
    "    \"18\" : \"MAJOR\",\n",
    "    \"18002\" : \"MAJOR & MRS.\",\n",
    "    \"19\" : \"SENATOR\",\n",
    "    \"20\" : \"GOVERNOR\",\n",
    "    \"21002\" : \"SERGEANT & MRS.\",\n",
    "    \"22002\" : \"COLONEL & MRS.\", #mistype in COLONEL, was changed here\n",
    "    \"24002\" : \"LIEUTENANT & MRS.\", #XX002 code is used for someone & MRS.\n",
    "    \"24\" : \"LIEUTENANT\",\n",
    "    \"26\" : \"MONSIGNOR\",\n",
    "    \"27\" : \"REVEREND\",\n",
    "    \"28\" : \"MS.\",\n",
    "    \"28028\" : \"MSS.\",\n",
    "    \"29\" : \"BISHOP\",\n",
    "    \"31\" : \"AMBASSADOR\",\n",
    "    \"31002\" : \"AMBASSADOR & MRS.\",\n",
    "    \"33\" : \"CANTOR\",\n",
    "    \"36\" : \"BROTHER\",\n",
    "    \"37\" : \"SIR\",\n",
    "    \"38\" : \"COMMODORE\",\n",
    "    \"40\" : \"FATHER\",\n",
    "    \"42\" : \"SISTER\",\n",
    "    \"43\" : \"PRESIDENT\",\n",
    "    \"44\" : \"MASTER\",\n",
    "    \"46\" : \"MOTHER\",\n",
    "    \"47\" : \"CHAPLAIN\",\n",
    "    \"48\" : \"CORPORAL\",\n",
    "    \"50\" : \"ELDER\",\n",
    "    \"56\" : \"MAYOR\",\n",
    "    \"59002\" : \"LIEUTENANT & MRS.\",\n",
    "    \"62\" : \"LORD\",\n",
    "    \"63\" : \"CARDINAL\",\n",
    "    \"64\" : \"FRIEND\",\n",
    "    \"65\" : \"FRIENDS\",\n",
    "    \"68\" : \"ARCHDEACON\",\n",
    "    \"69\" : \"CANON\",\n",
    "    \"70\" : \"BISHOP\",\n",
    "    \"72002\" : \"REVEREND & MRS.\",\n",
    "    \"73\" : \"PASTOR\",\n",
    "    \"75\" : \"ARCHBISHOP\",\n",
    "    \"85\" : \"SPECIALIST\",\n",
    "    \"87\" : \"PRIVATE\",\n",
    "    \"89\" : \"SEAMAN\", \n",
    "    \"90\" : \"AIRMAN\",\n",
    "    \"91\" : \"JUSTICE\",\n",
    "    \"92\" : \"MR. JUSTICE\",\n",
    "    \"100\" : \"M.\",\n",
    "    \"103\" : \"MLLE.\",\n",
    "    \"104\" : \"CHANCELLOR\",\n",
    "    \"106\" : \"REPRESENTATIVE\",\n",
    "    \"107\" : \"SECRETARY\",\n",
    "    \"108\" : \"LT. GOVERNOR\",\n",
    "    \"109\" : \"LIC.\",\n",
    "    \"111\" : \"SA.\",\n",
    "    \"114\" : \"DA.\",\n",
    "    \"116\" : \"MR.\", #Changed SR ro MR\n",
    "    \"117\" : \"MRS.\", #Changed SRA ro MRS\n",
    "    \"118\" : \"MISS\", #Cnanged SRTA. to MISS\n",
    "    \"120\" : \"YOUR MAJESTY\",\n",
    "    \"122\" : \"HIS HIGHNESS\",\n",
    "    \"123\" : \"HER HIGHNESS\",\n",
    "    \"124\" : \"COUNT\",\n",
    "    \"125\" : \"LADY\",\n",
    "    \"126\" : \"PRINCE\",\n",
    "    \"127\" : \"PRINCESS\",\n",
    "    \"128\" : \"CHIEF\",\n",
    "    \"129\" : \"BARON\",\n",
    "    \"130\" : \"SHEIK\",\n",
    "    \"131\" : \"PRINCE AND PRINCESS\",\n",
    "    \"132\" : \"YOUR IMPERIAL MAJEST\",\n",
    "    \"135\" : \"M. ET MME.\",\n",
    "    \"210\" : \"PROF.\",\n",
    "    '72': 'REVEREND', #because code 72002 REVEREND AND MRS, I think it was 072 and 027 for REVEREND \n",
    "    #because some systematic mistake (mistype), and in the end someone changed it in system\n",
    "    '22': \"COLONEL & MRS.\", #just a mistype,\n",
    "    \n",
    "}"
   ]
  },
  {
   "cell_type": "code",
   "execution_count": 14,
   "metadata": {},
   "outputs": [],
   "source": [
    "data['TCODE'] = data['TCODE'].apply(str)\n",
    "\n",
    "data[\"cat_TCODE\"] = data.TCODE.replace(to_replace=dictTCODE)"
   ]
  },
  {
   "cell_type": "markdown",
   "metadata": {},
   "source": [
    "CHECKING FOR INCONSISTENCIES IN TCODE\n",
    "- wrote down in doc all summary"
   ]
  },
  {
   "cell_type": "code",
   "execution_count": 28,
   "metadata": {},
   "outputs": [
    {
     "name": "stdout",
     "output_type": "stream",
     "text": [
      "Number of Men(GENDER M) with title MRS.(Mrs - womans title of married woman) 3412\n",
      "Number of men with title MISS (title of young or unmarried woman) 34\n",
      "Number of men with title MS. (title of married or not married woman) 216\n",
      "Number of women with title MR. (stays for mister, mans title) 255\n",
      "Number of men with title Sister 1\n",
      "Number of women with title Brother 0\n",
      "Number of women with title MR. & MRS., that implies that they should be men 46\n"
     ]
    }
   ],
   "source": [
    "# CHECKING FOR INCONSISTENCIES IN TCODE\n",
    "print('Number of Men(GENDER M) with title MRS.(Mrs - womans title of married woman)', \n",
    "      len(data[(data.GENDER == 'M')&(data.cat_TCODE == 'MRS.')]))\n",
    "print('Number of men with title MISS (title of young or unmarried woman)', \n",
    "      len(data[(data.GENDER == 'M')&(data.cat_TCODE == 'MISS')]))\n",
    "print('Number of men with title MS. (title of married or not married woman)', \n",
    "      len(data[(data.GENDER == 'M')&(data.cat_TCODE == 'MS.')]))\n",
    "print('Number of women with title MR. (stays for mister, mans title)', \n",
    "      len(data[(data.GENDER == 'F')&(data.cat_TCODE == 'MR.')]))\n",
    "print('Number of men with title Sister', \n",
    "      len(data[(data.GENDER == 'M')&(data.cat_TCODE == 'SISTER')]))\n",
    "print('Number of women with title Brother', \n",
    "      len(data[(data.GENDER == 'F')&(data.cat_TCODE == 'BROTHER')]))\n",
    "#women (F) that has code 'MR. & MRS.' that implies that they should be me\n",
    "print('Number of women with title MR. & MRS., that implies that they should be men',\n",
    "      len(data[(data.GENDER == 'F')&(data.cat_TCODE == 'MR. & MRS.')]))"
   ]
  },
  {
   "cell_type": "code",
   "execution_count": null,
   "metadata": {},
   "outputs": [],
   "source": []
  },
  {
   "cell_type": "code",
   "execution_count": null,
   "metadata": {},
   "outputs": [],
   "source": []
  },
  {
   "cell_type": "code",
   "execution_count": null,
   "metadata": {},
   "outputs": [],
   "source": []
  },
  {
   "cell_type": "code",
   "execution_count": null,
   "metadata": {},
   "outputs": [],
   "source": []
  },
  {
   "cell_type": "code",
   "execution_count": null,
   "metadata": {},
   "outputs": [],
   "source": []
  },
  {
   "cell_type": "code",
   "execution_count": null,
   "metadata": {},
   "outputs": [],
   "source": []
  }
 ],
 "metadata": {
  "kernelspec": {
   "display_name": "Python 3",
   "language": "python",
   "name": "python3"
  },
  "language_info": {
   "codemirror_mode": {
    "name": "ipython",
    "version": 3
   },
   "file_extension": ".py",
   "mimetype": "text/x-python",
   "name": "python",
   "nbconvert_exporter": "python",
   "pygments_lexer": "ipython3",
   "version": "3.8.3"
  }
 },
 "nbformat": 4,
 "nbformat_minor": 4
}
